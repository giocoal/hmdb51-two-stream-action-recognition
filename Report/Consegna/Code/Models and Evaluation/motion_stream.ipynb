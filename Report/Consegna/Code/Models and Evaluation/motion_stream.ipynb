{
 "cells": [
  {
   "cell_type": "markdown",
   "metadata": {},
   "source": [
    "# Setup"
   ]
  },
  {
   "cell_type": "code",
   "execution_count": 1,
   "metadata": {},
   "outputs": [],
   "source": [
    "import numpy as np\n",
    "import pandas as pd\n",
    "import matplotlib.pyplot as plt\n",
    "import os\n",
    "import random\n",
    "import cv2\n",
    "import tensorflow as tf\n",
    "from tensorflow import keras\n",
    "from tensorflow.keras import layers\n",
    "from pathlib import Path\n",
    "import os\n",
    "\n",
    "from keras.layers.core import Dense,Flatten\n",
    "from tensorflow.keras.models import Sequential\n",
    "from tensorflow.keras.optimizers import Adam"
   ]
  },
  {
   "cell_type": "code",
   "execution_count": 14,
   "metadata": {},
   "outputs": [],
   "source": [
    "# Setup\n",
    "path = './data/hmdb51'\n",
    "path_rowframes = './data/hmdb51/rawframes/'\n",
    "path_annotations = './data/hmdb51/annotations/'\n",
    "\n",
    "img_height = 224\n",
    "img_width = 224\n",
    "batch_size = 32\n",
    "num_classes = 51"
   ]
  },
  {
   "cell_type": "markdown",
   "metadata": {},
   "source": [
    "# Motion Stream Model: Definition"
   ]
  },
  {
   "cell_type": "markdown",
   "metadata": {},
   "source": [
    "Definizione checkpoints"
   ]
  },
  {
   "cell_type": "code",
   "execution_count": 31,
   "metadata": {},
   "outputs": [],
   "source": [
    "checkpoint_filepath = './Models/motion_model{epoch:02d}-{val_loss:.2f}.hdf5'\n",
    "model_checkpoint_callback = tf.keras.callbacks.ModelCheckpoint(\n",
    "    filepath=checkpoint_filepath,\n",
    "    monitor='val_sparse_categorical_accuracy',\n",
    "    mode='max',\n",
    "    save_best_only=True)"
   ]
  },
  {
   "cell_type": "markdown",
   "metadata": {},
   "source": [
    "Dichiarazione architettura"
   ]
  },
  {
   "cell_type": "code",
   "execution_count": 32,
   "metadata": {},
   "outputs": [],
   "source": [
    "num_classes = 51\n",
    "\n",
    "model_mot= keras.models.Sequential()\n",
    "\n",
    "# data_augmentation\n",
    "\n",
    "model_mot.add(keras.layers.Conv2D(96, (7,7), strides = 2, input_shape=(224, 224, 20), activation = \"relu\"))\n",
    "model_mot.add(keras.layers.BatchNormalization())\n",
    "model_mot.add(keras.layers.MaxPooling2D((3,3), strides=2, padding=\"same\"))\n",
    "\n",
    "model_mot.add(keras.layers.ZeroPadding2D(padding = (1,1)))\n",
    "model_mot.add(keras.layers.Conv2D(256, (5,5), strides = 2, activation='relu'))\n",
    "model_mot.add(keras.layers.BatchNormalization())\n",
    "model_mot.add(keras.layers.MaxPooling2D((3,3), strides=2, padding=\"same\"))\n",
    "          \n",
    "model_mot.add(keras.layers.ZeroPadding2D(padding = (1,1)))\n",
    "model_mot.add(keras.layers.Conv2D(512, (3,3), strides = 1, activation='relu'))\n",
    "\n",
    "model_mot.add(keras.layers.ZeroPadding2D(padding = (1,1)))\n",
    "model_mot.add(keras.layers.Conv2D(512, (3,3), strides = 1, activation='relu'))\n",
    "\n",
    "model_mot.add(keras.layers.ZeroPadding2D(padding = (1,1)))\n",
    "model_mot.add(keras.layers.Conv2D(512, (3,3), strides = 1, activation='relu'))\n",
    "model_mot.add(keras.layers.MaxPooling2D((3,3), strides=2, padding=\"same\"))\n",
    "\n",
    "model_mot.add(keras.layers.Flatten())\n",
    "\n",
    "model_mot.add(keras.layers.Dense(4096, activation='relu'))\n",
    "model_mot.add(keras.layers.Dropout(0.5))\n",
    "\n",
    "model_mot.add(keras.layers.Dense(2048, activation='relu'))\n",
    "model_mot.add(keras.layers.Dropout(0.5))\n",
    "\n",
    "model_mot.add(keras.layers.Dense(num_classes, activation=\"softmax\"))"
   ]
  },
  {
   "cell_type": "code",
   "execution_count": 4,
   "metadata": {},
   "outputs": [
    {
     "name": "stdout",
     "output_type": "stream",
     "text": [
      "Model: \"sequential\"\n",
      "_________________________________________________________________\n",
      " Layer (type)                Output Shape              Param #   \n",
      "=================================================================\n",
      " conv2d (Conv2D)             (None, 109, 109, 96)      94176     \n",
      "                                                                 \n",
      " batch_normalization (BatchN  (None, 109, 109, 96)     384       \n",
      " ormalization)                                                   \n",
      "                                                                 \n",
      " max_pooling2d (MaxPooling2D  (None, 55, 55, 96)       0         \n",
      " )                                                               \n",
      "                                                                 \n",
      " zero_padding2d (ZeroPadding  (None, 57, 57, 96)       0         \n",
      " 2D)                                                             \n",
      "                                                                 \n",
      " conv2d_1 (Conv2D)           (None, 27, 27, 256)       614656    \n",
      "                                                                 \n",
      " batch_normalization_1 (Batc  (None, 27, 27, 256)      1024      \n",
      " hNormalization)                                                 \n",
      "                                                                 \n",
      " max_pooling2d_1 (MaxPooling  (None, 14, 14, 256)      0         \n",
      " 2D)                                                             \n",
      "                                                                 \n",
      " zero_padding2d_1 (ZeroPaddi  (None, 16, 16, 256)      0         \n",
      " ng2D)                                                           \n",
      "                                                                 \n",
      " conv2d_2 (Conv2D)           (None, 14, 14, 512)       1180160   \n",
      "                                                                 \n",
      " zero_padding2d_2 (ZeroPaddi  (None, 16, 16, 512)      0         \n",
      " ng2D)                                                           \n",
      "                                                                 \n",
      " conv2d_3 (Conv2D)           (None, 14, 14, 512)       2359808   \n",
      "                                                                 \n",
      " zero_padding2d_3 (ZeroPaddi  (None, 16, 16, 512)      0         \n",
      " ng2D)                                                           \n",
      "                                                                 \n",
      " conv2d_4 (Conv2D)           (None, 14, 14, 512)       2359808   \n",
      "                                                                 \n",
      " max_pooling2d_2 (MaxPooling  (None, 7, 7, 512)        0         \n",
      " 2D)                                                             \n",
      "                                                                 \n",
      " flatten (Flatten)           (None, 25088)             0         \n",
      "                                                                 \n",
      " dense (Dense)               (None, 4096)              102764544 \n",
      "                                                                 \n",
      " dropout (Dropout)           (None, 4096)              0         \n",
      "                                                                 \n",
      " dense_1 (Dense)             (None, 2048)              8390656   \n",
      "                                                                 \n",
      " dropout_1 (Dropout)         (None, 2048)              0         \n",
      "                                                                 \n",
      " dense_2 (Dense)             (None, 51)                104499    \n",
      "                                                                 \n",
      "=================================================================\n",
      "Total params: 117,869,715\n",
      "Trainable params: 117,869,011\n",
      "Non-trainable params: 704\n",
      "_________________________________________________________________\n"
     ]
    }
   ],
   "source": [
    "model_mot.summary()"
   ]
  },
  {
   "cell_type": "markdown",
   "metadata": {},
   "source": [
    "Compilazione"
   ]
  },
  {
   "cell_type": "code",
   "execution_count": 33,
   "metadata": {},
   "outputs": [],
   "source": [
    "optimizer = keras.optimizers.SGD(learning_rate=1e-2, momentum=0.9, nesterov=True)\n",
    "# keras.optimizers.Adam(learning_rate=0.001)\n",
    "\n",
    "model_mot.compile(loss=keras.losses.sparse_categorical_crossentropy, \n",
    "                   metrics=['sparse_categorical_accuracy','sparse_top_k_categorical_accuracy'], \n",
    "                   optimizer=optimizer)"
   ]
  },
  {
   "cell_type": "markdown",
   "metadata": {},
   "source": [
    "# Batch Generator Setting"
   ]
  },
  {
   "cell_type": "code",
   "execution_count": 34,
   "metadata": {},
   "outputs": [],
   "source": [
    "# Setup\n",
    "path = './data/hmdb51'\n",
    "path_rowframes = './data/hmdb51/rawframes/'\n",
    "path_annotations = './data/hmdb51/annotations/'\n",
    "\n",
    "img_height = 224\n",
    "img_width = 224\n",
    "batch_size = 32\n",
    "num_classes = 51\n",
    "\n",
    "# Parametri del batch generator\n",
    "num_of_snip=1\n",
    "opt_flow_len=10\n",
    "image_shape=(img_height, img_width)"
   ]
  },
  {
   "cell_type": "code",
   "execution_count": 44,
   "metadata": {},
   "outputs": [],
   "source": [
    "class DataSet():\n",
    "    def __init__(self, \n",
    "                 num_of_snip=1, \n",
    "                 opt_flow_len=10, \n",
    "                 image_shape=(224, 224),\n",
    "                 partition='train'):\n",
    "\n",
    "        self.opt_flow_len = opt_flow_len\n",
    "        self.num_of_snip = num_of_snip\n",
    "        self.image_shape = image_shape\n",
    "        self.opt_flow_path = os.path.join(path_rowframes)\n",
    "        self.path_annotations = path_annotations\n",
    "        self.partition = partition\n",
    "        \n",
    "        # Get data\n",
    "        self.video_list = self.find_videos_and_metadata()\n",
    "        \n",
    "    def find_videos_and_metadata(self):\n",
    "        if self.partition == 'train':\n",
    "            video_list = pd.read_csv(f'{self.path_annotations}/hmdb51_train_split_1_rawframes.txt', sep=\" \", header=None) #train\n",
    "            video_list.columns = [\"path\", \"num_frames_tot\", \"class\"]\n",
    "        elif self.partition == 'val':\n",
    "            video_list = pd.read_csv(f'{self.path_annotations}/hmdb51_val_split_1_rawframes.txt', sep=\" \", header=None) #test\n",
    "            video_list.columns = [\"path\", \"num_frames_tot\", \"class\"]\n",
    "        else:\n",
    "            raise Exception(\"invalid partition\")\n",
    "        return(video_list)\n",
    "    \n",
    "    def generator(self, batch_size):\n",
    "        video_list = self.video_list\n",
    "        idx = 0\n",
    "        print(f\"Creating {self.partition} with {len(self.video_list)} samples.\")\n",
    "        while 1:\n",
    "            idx +=1\n",
    "            X, y = [], []\n",
    "            for _ in range(batch_size):\n",
    "                # Reset \n",
    "                stack = []\n",
    "\n",
    "                # Get a random sample.\n",
    "                row = video_list.sample(n=1).values.tolist()\n",
    "\n",
    "                # Get the stacked optical flows from disk.\n",
    "                stack = self.find_stacked_optical_flows(row)\n",
    "\n",
    "                X.append(stack)\n",
    "                y.append(row[0][2])\n",
    "\n",
    "            X = np.array(X)\n",
    "            y = np.array(y)\n",
    "            y = np.squeeze(y)\n",
    "\n",
    "            yield X, y\n",
    "        \n",
    "    def generator1(self, batch_size):\n",
    "        video_list = self.video_list\n",
    "        idx = 0\n",
    "        print(f\"Creating {self.partition} with {len(self.video_list)} samples.\")\n",
    "        idx +=1\n",
    "        X, y = [], []\n",
    "        for _ in range(batch_size):\n",
    "            # Reset \n",
    "            stack = []\n",
    "\n",
    "            # Get a random sample.\n",
    "            row = video_list.sample(n=1).values.tolist()\n",
    "\n",
    "            # Get the stacked optical flows from disk.\n",
    "            stack = self.find_stacked_optical_flows(row)\n",
    "            print(stack)\n",
    "            X.append(stack)\n",
    "            y.append(row[0][2])\n",
    "\n",
    "        X = np.array(X)\n",
    "        y = np.array(y)\n",
    "        y = np.squeeze(y)\n",
    "\n",
    "        return X, y\n",
    "    \n",
    "            \n",
    "    def find_stacked_optical_flows(self, row):\n",
    "        opt_flow_stack = []\n",
    "        opt_flow_dir = self.opt_flow_path\n",
    "        \n",
    "        # Temporal parameters\n",
    "        total_frames = row[0][1]\n",
    "        win_len = (total_frames - self.opt_flow_len) // self.num_of_snip\n",
    "        if self.partition=='train':\n",
    "            start_frame = int(random.random() * win_len) + 1\n",
    "        else:\n",
    "            start_frame = int(0.5 * win_len) + 1\n",
    "        frames = [] # selected optical flow frames\n",
    "        for i in range(self.num_of_snip):\n",
    "            frames += range(start_frame + self.opt_flow_len * i, \n",
    "                            start_frame + self.opt_flow_len * (i + 1))  \n",
    "        if self.partition == 'train' and random.random() > 0.5:\n",
    "            flip = True\n",
    "        else:\n",
    "            flip = False\n",
    "        \n",
    "        # Spatial Parameter\n",
    "        img_test = cv2.imread(os.path.join(f'.\\\\{row[0][0]}' + '\\\\flow_x_' + str(\"%05d\"%(1)) + '.jpg'), 0)\n",
    "        top = int((img_test.shape[0] - self.image_shape[0]) * random.random())\n",
    "        left = int((img_test.shape[1] - self.image_shape[1]) * random.random())\n",
    "        right = left + self.image_shape[1]\n",
    "        bottom = top + self.image_shape[0]\n",
    "        \n",
    "        # loop over frames\n",
    "        for i_frame in frames:\n",
    "            # x flow\n",
    "            img = None \n",
    "            temp_path = None\n",
    "            temp_path = row[0][0]\n",
    "            img = cv2.imread(os.path.join(f'.\\\\{temp_path}' + '\\\\flow_x_' + str(\"%05d\"%(i_frame)) + '.jpg'), 0)\n",
    "            #print(os.path.join(f'.\\\\{temp_path}' + '\\\\flow_x_' + str(\"%05d\"%(i_frame)) + '.jpg'))\n",
    "            #print(img.shape)\n",
    "            img = np.array(img)\n",
    "            # mean substraction \n",
    "            img = img - np.mean(img)\n",
    "            if self.partition == 'train':\n",
    "                # random crop\n",
    "                img = img[top : bottom, left : right]\n",
    "            else:\n",
    "                # resize\n",
    "                img = cv2.resize(img, self.image_shape)\n",
    "            img = img / 255. # normalize pixels \n",
    "            if flip:\n",
    "                img = -img\n",
    "            img = cv2.resize(img, self.image_shape)\n",
    "            #print(img.shape)\n",
    "            opt_flow_stack.append(img)\n",
    "            \n",
    "            # y flow\n",
    "            img2 = None \n",
    "            img2 = cv2.imread(os.path.join(f'.\\\\{temp_path}' + '\\\\flow_y_' + str(\"%05d\"%(i_frame)) + '.jpg'), 0)\n",
    "            #print(img2.shape)\n",
    "            img2 = np.array(img2)\n",
    "            #img2 = np.swapaxes(img2, 0, 1)\n",
    "            img2 = img2 - np.mean(img2)\n",
    "            if self.partition == 'train':\n",
    "                 #random crop\n",
    "                img2 = img2[top : bottom, left : right]\n",
    "            else:\n",
    "                #resize\n",
    "                img2= cv2.resize(img2, self.image_shape)\n",
    "            img2 = img2 / 255. # normalize pixels \n",
    "            if flip:\n",
    "                img2 = -img2\n",
    "            img2 = cv2.resize(img2, self.image_shape)\n",
    "            #print(img2.shape)\n",
    "            opt_flow_stack.append(img2)\n",
    "            \n",
    "        opt_flow_stack = np.array(opt_flow_stack)\n",
    "        opt_flow_stack = np.swapaxes(opt_flow_stack, 0, 1)\n",
    "        opt_flow_stack = np.swapaxes(opt_flow_stack, 1, 2)\n",
    "        # random horizontal flip for training sets\n",
    "        if flip:\n",
    "            opt_flow_stack = np.flip(opt_flow_stack, 0)\n",
    "        return opt_flow_stack\n",
    "            \n",
    "        "
   ]
  },
  {
   "cell_type": "markdown",
   "metadata": {},
   "source": [
    "# Model Fit"
   ]
  },
  {
   "cell_type": "markdown",
   "metadata": {},
   "source": [
    "Dati"
   ]
  },
  {
   "cell_type": "code",
   "execution_count": 45,
   "metadata": {},
   "outputs": [],
   "source": [
    "videos_train = DataSet(num_of_snip=num_of_snip, opt_flow_len=opt_flow_len, partition='train')\n",
    "videos_val = DataSet(num_of_snip=num_of_snip, opt_flow_len=opt_flow_len, partition='val')"
   ]
  },
  {
   "cell_type": "markdown",
   "metadata": {},
   "source": [
    "Calcolo degli step"
   ]
  },
  {
   "cell_type": "code",
   "execution_count": 46,
   "metadata": {},
   "outputs": [
    {
     "name": "stdout",
     "output_type": "stream",
     "text": [
      "111\n",
      "47\n"
     ]
    }
   ],
   "source": [
    "# batch size \n",
    "step_per_epoch_train = len(videos_train.video_list) // batch_size\n",
    "print(step_per_epoch_train)\n",
    "step_per_epoch_val = len(videos_val.video_list) // batch_size\n",
    "print(step_per_epoch_val)"
   ]
  },
  {
   "cell_type": "markdown",
   "metadata": {},
   "source": [
    "Generators"
   ]
  },
  {
   "cell_type": "code",
   "execution_count": 47,
   "metadata": {},
   "outputs": [],
   "source": [
    "train_generator = videos_train.generator(batch_size)\n",
    "\n",
    "val_generator = videos_val.generator(batch_size)"
   ]
  },
  {
   "cell_type": "markdown",
   "metadata": {},
   "source": [
    "Fit 1 e 2: 20 + 20 epoche "
   ]
  },
  {
   "cell_type": "code",
   "execution_count": 50,
   "metadata": {},
   "outputs": [
    {
     "name": "stderr",
     "output_type": "stream",
     "text": [
      "c:\\Users\\giorg\\Documents\\venv\\deepL37\\lib\\site-packages\\ipykernel_launcher.py:7: UserWarning: `Model.fit_generator` is deprecated and will be removed in a future version. Please use `Model.fit`, which supports generators.\n",
      "  import sys\n"
     ]
    },
    {
     "name": "stdout",
     "output_type": "stream",
     "text": [
      "Epoch 1/20\n",
      "111/111 [==============================] - 211s 2s/step - loss: 3.3339 - sparse_categorical_accuracy: 0.1481 - sparse_top_k_categorical_accuracy: 0.3998 - val_loss: 3.4688 - val_sparse_categorical_accuracy: 0.1197 - val_sparse_top_k_categorical_accuracy: 0.3703\n",
      "Epoch 2/20\n",
      "111/111 [==============================] - 200s 2s/step - loss: 3.3475 - sparse_categorical_accuracy: 0.1492 - sparse_top_k_categorical_accuracy: 0.4139 - val_loss: 3.7319 - val_sparse_categorical_accuracy: 0.0944 - val_sparse_top_k_categorical_accuracy: 0.3085\n",
      "Epoch 3/20\n",
      "111/111 [==============================] - 158s 1s/step - loss: 3.3123 - sparse_categorical_accuracy: 0.1610 - sparse_top_k_categorical_accuracy: 0.4178 - val_loss: 3.5510 - val_sparse_categorical_accuracy: 0.1044 - val_sparse_top_k_categorical_accuracy: 0.3457\n",
      "Epoch 4/20\n",
      "111/111 [==============================] - 154s 1s/step - loss: 3.2813 - sparse_categorical_accuracy: 0.1554 - sparse_top_k_categorical_accuracy: 0.4262 - val_loss: 3.4813 - val_sparse_categorical_accuracy: 0.1184 - val_sparse_top_k_categorical_accuracy: 0.3783\n",
      "Epoch 5/20\n",
      "111/111 [==============================] - 188s 2s/step - loss: 3.2613 - sparse_categorical_accuracy: 0.1633 - sparse_top_k_categorical_accuracy: 0.4361 - val_loss: 3.6097 - val_sparse_categorical_accuracy: 0.1017 - val_sparse_top_k_categorical_accuracy: 0.3604\n",
      "Epoch 6/20\n",
      "111/111 [==============================] - 172s 2s/step - loss: 3.2185 - sparse_categorical_accuracy: 0.1788 - sparse_top_k_categorical_accuracy: 0.4454 - val_loss: 3.4558 - val_sparse_categorical_accuracy: 0.1223 - val_sparse_top_k_categorical_accuracy: 0.3770\n",
      "Epoch 7/20\n",
      "111/111 [==============================] - 633s 6s/step - loss: 3.2393 - sparse_categorical_accuracy: 0.1703 - sparse_top_k_categorical_accuracy: 0.4389 - val_loss: 3.3199 - val_sparse_categorical_accuracy: 0.1569 - val_sparse_top_k_categorical_accuracy: 0.4275\n",
      "Epoch 8/20\n",
      "111/111 [==============================] - 223s 2s/step - loss: 3.2418 - sparse_categorical_accuracy: 0.1605 - sparse_top_k_categorical_accuracy: 0.4403 - val_loss: 3.4097 - val_sparse_categorical_accuracy: 0.1230 - val_sparse_top_k_categorical_accuracy: 0.3684\n",
      "Epoch 9/20\n",
      "111/111 [==============================] - 206s 2s/step - loss: 3.2546 - sparse_categorical_accuracy: 0.1771 - sparse_top_k_categorical_accuracy: 0.4305 - val_loss: 3.6824 - val_sparse_categorical_accuracy: 0.0898 - val_sparse_top_k_categorical_accuracy: 0.3451\n",
      "Epoch 10/20\n",
      "111/111 [==============================] - 175s 2s/step - loss: 3.1988 - sparse_categorical_accuracy: 0.1779 - sparse_top_k_categorical_accuracy: 0.4471 - val_loss: 3.4688 - val_sparse_categorical_accuracy: 0.1350 - val_sparse_top_k_categorical_accuracy: 0.3723\n",
      "Epoch 11/20\n",
      "111/111 [==============================] - 219s 2s/step - loss: 3.1655 - sparse_categorical_accuracy: 0.1872 - sparse_top_k_categorical_accuracy: 0.4611 - val_loss: 3.4064 - val_sparse_categorical_accuracy: 0.1184 - val_sparse_top_k_categorical_accuracy: 0.3963\n",
      "Epoch 12/20\n",
      "111/111 [==============================] - 220s 2s/step - loss: 3.1748 - sparse_categorical_accuracy: 0.1844 - sparse_top_k_categorical_accuracy: 0.4645 - val_loss: 3.4177 - val_sparse_categorical_accuracy: 0.1430 - val_sparse_top_k_categorical_accuracy: 0.3896\n",
      "Epoch 13/20\n",
      "111/111 [==============================] - 183s 2s/step - loss: 3.1514 - sparse_categorical_accuracy: 0.1985 - sparse_top_k_categorical_accuracy: 0.4676 - val_loss: 3.4613 - val_sparse_categorical_accuracy: 0.1250 - val_sparse_top_k_categorical_accuracy: 0.3830\n",
      "Epoch 14/20\n",
      "111/111 [==============================] - 211s 2s/step - loss: 3.0973 - sparse_categorical_accuracy: 0.2024 - sparse_top_k_categorical_accuracy: 0.4837 - val_loss: 3.5030 - val_sparse_categorical_accuracy: 0.1297 - val_sparse_top_k_categorical_accuracy: 0.3743\n",
      "Epoch 15/20\n",
      "111/111 [==============================] - 233s 2s/step - loss: 3.0947 - sparse_categorical_accuracy: 0.2061 - sparse_top_k_categorical_accuracy: 0.4786 - val_loss: 3.3521 - val_sparse_categorical_accuracy: 0.1343 - val_sparse_top_k_categorical_accuracy: 0.4242\n",
      "Epoch 16/20\n",
      "111/111 [==============================] - 236s 2s/step - loss: 3.1234 - sparse_categorical_accuracy: 0.1976 - sparse_top_k_categorical_accuracy: 0.4699 - val_loss: 3.3185 - val_sparse_categorical_accuracy: 0.1543 - val_sparse_top_k_categorical_accuracy: 0.4009\n",
      "Epoch 17/20\n",
      "111/111 [==============================] - 266s 2s/step - loss: 3.0677 - sparse_categorical_accuracy: 0.2089 - sparse_top_k_categorical_accuracy: 0.4961 - val_loss: 3.4248 - val_sparse_categorical_accuracy: 0.1277 - val_sparse_top_k_categorical_accuracy: 0.3996\n",
      "Epoch 18/20\n",
      "111/111 [==============================] - 264s 2s/step - loss: 3.0822 - sparse_categorical_accuracy: 0.2013 - sparse_top_k_categorical_accuracy: 0.4952 - val_loss: 3.2983 - val_sparse_categorical_accuracy: 0.1463 - val_sparse_top_k_categorical_accuracy: 0.4255\n",
      "Epoch 19/20\n",
      "111/111 [==============================] - 240s 2s/step - loss: 3.0434 - sparse_categorical_accuracy: 0.2097 - sparse_top_k_categorical_accuracy: 0.4961 - val_loss: 3.7662 - val_sparse_categorical_accuracy: 0.1210 - val_sparse_top_k_categorical_accuracy: 0.3305\n",
      "Epoch 20/20\n",
      "111/111 [==============================] - 287s 3s/step - loss: 3.0509 - sparse_categorical_accuracy: 0.2190 - sparse_top_k_categorical_accuracy: 0.5163 - val_loss: 3.2954 - val_sparse_categorical_accuracy: 0.1509 - val_sparse_top_k_categorical_accuracy: 0.4229\n"
     ]
    }
   ],
   "source": [
    "# %tb\n",
    "history_cnn_spatial_stream = model_mot.fit_generator(generator =train_generator, \n",
    "                                            steps_per_epoch=step_per_epoch_train, \n",
    "                                            validation_data=val_generator,\n",
    "                                            validation_steps=step_per_epoch_val, \n",
    "                                            epochs=20,\n",
    "                                            callbacks=[model_checkpoint_callback])\n",
    "                "
   ]
  },
  {
   "cell_type": "markdown",
   "metadata": {},
   "source": [
    "Fit 2: 10 epoche"
   ]
  },
  {
   "cell_type": "code",
   "execution_count": 53,
   "metadata": {},
   "outputs": [
    {
     "name": "stderr",
     "output_type": "stream",
     "text": [
      "c:\\Users\\giorg\\Documents\\venv\\deepL37\\lib\\site-packages\\ipykernel_launcher.py:6: UserWarning: `Model.fit_generator` is deprecated and will be removed in a future version. Please use `Model.fit`, which supports generators.\n",
      "  \n"
     ]
    },
    {
     "name": "stdout",
     "output_type": "stream",
     "text": [
      "Epoch 1/10\n",
      "111/111 [==============================] - 241s 2s/step - loss: 3.0717 - sparse_categorical_accuracy: 0.2106 - sparse_top_k_categorical_accuracy: 0.4893 - val_loss: 3.7142 - val_sparse_categorical_accuracy: 0.1070 - val_sparse_top_k_categorical_accuracy: 0.3517\n",
      "Epoch 2/10\n",
      "111/111 [==============================] - 210s 2s/step - loss: 3.0504 - sparse_categorical_accuracy: 0.2083 - sparse_top_k_categorical_accuracy: 0.5025 - val_loss: 3.2706 - val_sparse_categorical_accuracy: 0.1582 - val_sparse_top_k_categorical_accuracy: 0.4402\n",
      "Epoch 3/10\n",
      "111/111 [==============================] - 216s 2s/step - loss: 2.9882 - sparse_categorical_accuracy: 0.2280 - sparse_top_k_categorical_accuracy: 0.5242 - val_loss: 3.1496 - val_sparse_categorical_accuracy: 0.1676 - val_sparse_top_k_categorical_accuracy: 0.4747\n",
      "Epoch 4/10\n",
      "111/111 [==============================] - 248s 2s/step - loss: 3.0264 - sparse_categorical_accuracy: 0.2210 - sparse_top_k_categorical_accuracy: 0.5065 - val_loss: 3.3618 - val_sparse_categorical_accuracy: 0.1702 - val_sparse_top_k_categorical_accuracy: 0.4435\n",
      "Epoch 5/10\n",
      "111/111 [==============================] - 225s 2s/step - loss: 3.0507 - sparse_categorical_accuracy: 0.2173 - sparse_top_k_categorical_accuracy: 0.4966 - val_loss: 3.3837 - val_sparse_categorical_accuracy: 0.1430 - val_sparse_top_k_categorical_accuracy: 0.4209\n",
      "Epoch 6/10\n",
      "111/111 [==============================] - 280s 3s/step - loss: 3.0165 - sparse_categorical_accuracy: 0.2258 - sparse_top_k_categorical_accuracy: 0.5096 - val_loss: 3.6500 - val_sparse_categorical_accuracy: 0.1383 - val_sparse_top_k_categorical_accuracy: 0.3890\n",
      "Epoch 7/10\n",
      "111/111 [==============================] - 252s 2s/step - loss: 2.9933 - sparse_categorical_accuracy: 0.2311 - sparse_top_k_categorical_accuracy: 0.5135 - val_loss: 3.2994 - val_sparse_categorical_accuracy: 0.1476 - val_sparse_top_k_categorical_accuracy: 0.4242\n",
      "Epoch 8/10\n",
      "111/111 [==============================] - 260s 2s/step - loss: 2.9702 - sparse_categorical_accuracy: 0.2275 - sparse_top_k_categorical_accuracy: 0.5242 - val_loss: 3.4446 - val_sparse_categorical_accuracy: 0.1336 - val_sparse_top_k_categorical_accuracy: 0.4069\n",
      "Epoch 9/10\n",
      "111/111 [==============================] - 235s 2s/step - loss: 2.9690 - sparse_categorical_accuracy: 0.2227 - sparse_top_k_categorical_accuracy: 0.5180 - val_loss: 4.0352 - val_sparse_categorical_accuracy: 0.0997 - val_sparse_top_k_categorical_accuracy: 0.3251\n",
      "Epoch 10/10\n",
      "111/111 [==============================] - 268s 2s/step - loss: 2.9368 - sparse_categorical_accuracy: 0.2368 - sparse_top_k_categorical_accuracy: 0.5377 - val_loss: 3.5616 - val_sparse_categorical_accuracy: 0.1257 - val_sparse_top_k_categorical_accuracy: 0.4043\n"
     ]
    }
   ],
   "source": [
    "history_cnn_spatial_stream_3 = model_mot.fit_generator(generator =train_generator, \n",
    "                                            steps_per_epoch=step_per_epoch_train, \n",
    "                                            validation_data=val_generator,\n",
    "                                            validation_steps=step_per_epoch_val, \n",
    "                                            epochs=10,\n",
    "                                            callbacks=[model_checkpoint_callback])"
   ]
  },
  {
   "cell_type": "markdown",
   "metadata": {},
   "source": [
    "Fit 3: 10 epoche"
   ]
  },
  {
   "cell_type": "code",
   "execution_count": 54,
   "metadata": {},
   "outputs": [
    {
     "name": "stderr",
     "output_type": "stream",
     "text": [
      "c:\\Users\\giorg\\Documents\\venv\\deepL37\\lib\\site-packages\\ipykernel_launcher.py:6: UserWarning: `Model.fit_generator` is deprecated and will be removed in a future version. Please use `Model.fit`, which supports generators.\n",
      "  \n"
     ]
    },
    {
     "name": "stdout",
     "output_type": "stream",
     "text": [
      "Epoch 1/10\n",
      "111/111 [==============================] - 210s 2s/step - loss: 2.9076 - sparse_categorical_accuracy: 0.2407 - sparse_top_k_categorical_accuracy: 0.5341 - val_loss: 3.3092 - val_sparse_categorical_accuracy: 0.1589 - val_sparse_top_k_categorical_accuracy: 0.4342\n",
      "Epoch 2/10\n",
      "111/111 [==============================] - 200s 2s/step - loss: 2.9169 - sparse_categorical_accuracy: 0.2466 - sparse_top_k_categorical_accuracy: 0.5360 - val_loss: 3.2994 - val_sparse_categorical_accuracy: 0.1596 - val_sparse_top_k_categorical_accuracy: 0.4475\n",
      "Epoch 3/10\n",
      "111/111 [==============================] - 206s 2s/step - loss: 2.9126 - sparse_categorical_accuracy: 0.2525 - sparse_top_k_categorical_accuracy: 0.5403 - val_loss: 3.3522 - val_sparse_categorical_accuracy: 0.1416 - val_sparse_top_k_categorical_accuracy: 0.4076\n",
      "Epoch 4/10\n",
      "111/111 [==============================] - 194s 2s/step - loss: 2.9135 - sparse_categorical_accuracy: 0.2416 - sparse_top_k_categorical_accuracy: 0.5405 - val_loss: 3.3136 - val_sparse_categorical_accuracy: 0.1656 - val_sparse_top_k_categorical_accuracy: 0.4508\n",
      "Epoch 5/10\n",
      "111/111 [==============================] - 226s 2s/step - loss: 2.9175 - sparse_categorical_accuracy: 0.2424 - sparse_top_k_categorical_accuracy: 0.5484 - val_loss: 3.6180 - val_sparse_categorical_accuracy: 0.1243 - val_sparse_top_k_categorical_accuracy: 0.3504\n",
      "Epoch 6/10\n",
      "111/111 [==============================] - 201s 2s/step - loss: 2.9118 - sparse_categorical_accuracy: 0.2430 - sparse_top_k_categorical_accuracy: 0.5338 - val_loss: 3.6794 - val_sparse_categorical_accuracy: 0.1210 - val_sparse_top_k_categorical_accuracy: 0.3637\n",
      "Epoch 7/10\n",
      "111/111 [==============================] - 206s 2s/step - loss: 2.8746 - sparse_categorical_accuracy: 0.2556 - sparse_top_k_categorical_accuracy: 0.5436 - val_loss: 3.8401 - val_sparse_categorical_accuracy: 0.1390 - val_sparse_top_k_categorical_accuracy: 0.3664\n",
      "Epoch 8/10\n",
      "111/111 [==============================] - 164s 1s/step - loss: 2.8802 - sparse_categorical_accuracy: 0.2570 - sparse_top_k_categorical_accuracy: 0.5411 - val_loss: 3.3075 - val_sparse_categorical_accuracy: 0.1676 - val_sparse_top_k_categorical_accuracy: 0.4721\n",
      "Epoch 9/10\n",
      "111/111 [==============================] - 162s 1s/step - loss: 2.8611 - sparse_categorical_accuracy: 0.2506 - sparse_top_k_categorical_accuracy: 0.5591 - val_loss: 3.3333 - val_sparse_categorical_accuracy: 0.1622 - val_sparse_top_k_categorical_accuracy: 0.4169\n",
      "Epoch 10/10\n",
      "111/111 [==============================] - 157s 1s/step - loss: 2.8721 - sparse_categorical_accuracy: 0.2497 - sparse_top_k_categorical_accuracy: 0.5526 - val_loss: 3.3887 - val_sparse_categorical_accuracy: 0.1782 - val_sparse_top_k_categorical_accuracy: 0.4461\n"
     ]
    }
   ],
   "source": [
    "history_cnn_spatial_stream_4 = model_mot.fit_generator(generator =train_generator, \n",
    "                                            steps_per_epoch=step_per_epoch_train, \n",
    "                                            validation_data=val_generator,\n",
    "                                            validation_steps=step_per_epoch_val, \n",
    "                                            epochs=10,\n",
    "                                            callbacks=[model_checkpoint_callback])"
   ]
  },
  {
   "cell_type": "markdown",
   "metadata": {},
   "source": [
    "# Model Evaluation"
   ]
  },
  {
   "cell_type": "code",
   "execution_count": 58,
   "metadata": {},
   "outputs": [
    {
     "name": "stderr",
     "output_type": "stream",
     "text": [
      "c:\\Users\\giorg\\Documents\\venv\\deepL37\\lib\\site-packages\\ipykernel_launcher.py:1: UserWarning: `Model.evaluate_generator` is deprecated and will be removed in a future version. Please use `Model.evaluate`, which supports generators.\n",
      "  \"\"\"Entry point for launching an IPython kernel.\n"
     ]
    },
    {
     "name": "stdout",
     "output_type": "stream",
     "text": [
      "47/47 [==============================] - 71s 2s/step - loss: 3.4610 - sparse_categorical_accuracy: 0.1529 - sparse_top_k_categorical_accuracy: 0.4242\n",
      "sparse_categorical_accuracy: 3.460975170135498\n",
      "sparse_top_k_categorical_accuracy: 0.1529255360364914\n"
     ]
    }
   ],
   "source": [
    "score = model_mot.evaluate_generator(val_generator, verbose=1, steps=step_per_epoch_val)\n",
    "#print('sparse_categorical_accuracy:', score[0])\n",
    "#print('sparse_top_k_categorical_accuracy:', score[1])"
   ]
  },
  {
   "cell_type": "code",
   "execution_count": 51,
   "metadata": {},
   "outputs": [
    {
     "data": {
      "image/png": "[encoded data removed]",
      "text/plain": [
       "<Figure size 432x288 with 1 Axes>"
      ]
     },
     "metadata": {
      "needs_background": "light"
     },
     "output_type": "display_data"
    }
   ],
   "source": [
    "fig1 = plt.gcf()\n",
    "plt.plot(history_cnn_spatial_stream.history['sparse_categorical_accuracy'])\n",
    "plt.plot(history_cnn_spatial_stream.history['val_sparse_categorical_accuracy'])\n",
    "plt.axis(ymin=0,ymax=1)\n",
    "plt.grid()\n",
    "plt.title('Model Accuracy')\n",
    "plt.ylabel('Accuracy')\n",
    "plt.xlabel('Epochs')\n",
    "plt.legend(['train', 'validation'])\n",
    "plt.savefig('./Plots/resnet1_0.png')\n",
    "plt.show()"
   ]
  },
  {
   "cell_type": "markdown",
   "metadata": {},
   "source": [
    "Salvataggio"
   ]
  },
  {
   "cell_type": "code",
   "execution_count": 56,
   "metadata": {},
   "outputs": [],
   "source": [
    "model_mot.save('./Models/model_mot.h5')\n",
    "model_mot.save_weights('./Models/model_mot_weights.h5')"
   ]
  }
 ],
 "metadata": {
  "kernelspec": {
   "display_name": "Python 3.7.9 ('deepL37')",
   "language": "python",
   "name": "python3"
  },
  "language_info": {
   "codemirror_mode": {
    "name": "ipython",
    "version": 3
   },
   "file_extension": ".py",
   "mimetype": "text/x-python",
   "name": "python",
   "nbconvert_exporter": "python",
   "pygments_lexer": "ipython3",
   "version": "3.7.9"
  },
  "orig_nbformat": 4,
  "vscode": {
   "interpreter": {
    "hash": "5f73b1806a9ec290aebb7f16dd5394fd2c9a0b8bec90a8791426b7ef5a3d9604"
   }
  }
 },
 "nbformat": 4,
 "nbformat_minor": 2
}
