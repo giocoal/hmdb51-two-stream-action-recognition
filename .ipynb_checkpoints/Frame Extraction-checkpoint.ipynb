{
 "cells": [
  {
   "cell_type": "code",
   "execution_count": 7,
   "id": "ffa2bbfb",
   "metadata": {},
   "outputs": [],
   "source": [
    "import pandas as pd\n",
    "import os\n",
    "import cv2"
   ]
  },
  {
   "cell_type": "markdown",
   "id": "07ca5036",
   "metadata": {},
   "source": [
    "### Estrazione Frames"
   ]
  },
  {
   "cell_type": "code",
   "execution_count": 2,
   "id": "384b03ec",
   "metadata": {},
   "outputs": [],
   "source": [
    "#path dove si trova il dataframe hmdb51\n",
    "path = \"C:/Users/Ale/Desktop/Uni/Magistrale/Secondo semestre/Deep Learning/Progetto\""
   ]
  },
  {
   "cell_type": "code",
   "execution_count": 6,
   "id": "7db74ea3",
   "metadata": {},
   "outputs": [],
   "source": [
    "split1 = pd.read_csv(\"split1.csv\")\n",
    "actions = os.listdir(f\"{path}/hmdb51\")"
   ]
  },
  {
   "cell_type": "code",
   "execution_count": null,
   "id": "392cc813",
   "metadata": {},
   "outputs": [],
   "source": [
    "for parola in [\"train\", \"test\"]:\n",
    "    newpath = f'{path}/hmdb51/rawframes/{parola}' \n",
    "    if not os.path.exists(newpath):\n",
    "        os.makedirs(newpath)"
   ]
  },
  {
   "cell_type": "code",
   "execution_count": null,
   "id": "4a0bbb72",
   "metadata": {},
   "outputs": [],
   "source": [
    "for parola in [\"train\", \"test\"]:\n",
    "    newpath = f'{path}/hmdb51/rawframes/{parola}' \n",
    "    if not os.path.exists(newpath):\n",
    "        os.makedirs(newpath)\n",
    "for action in actions: \n",
    "    for parola in [\"train\", \"test\"]:\n",
    "        newpath = f'{path}/hmdb51/rawframes/{parola}/{action}' \n",
    "        if not os.path.exists(newpath):\n",
    "            os.makedirs(newpath)\n",
    "    list_videos_action = os.listdir(f\"{path}/hmdb51/{action}\")\n",
    "    n_video = len(list_videos_action)\n",
    "    counter_n_video = 0\n",
    "    for video in list_videos_action:\n",
    "        if split1[split1[\"title\"] == video][\"train/test\"].item() == 0:\n",
    "            continue\n",
    "        elif split1[split1[\"title\"] == video][\"train/test\"].item() == 1:\n",
    "            newpath = f'{path}/hmdb51/rawframes/train/{action}/{video}'\n",
    "            if not os.path.exists(newpath):\n",
    "                os.makedirs(newpath)\n",
    "        else:\n",
    "            newpath = f'{path}/hmdb51/rawframes/test/{action}/{video}'\n",
    "            if not os.path.exists(newpath):\n",
    "                os.makedirs(newpath)\n",
    "        counter_n_video += 1\n",
    "        video_reader = cv2.VideoCapture(f\"{path}/hmdb51/{action}/{video}\")\n",
    "        ret, frame = video_reader.read()\n",
    "        count_frame = 1\n",
    "        while ret:\n",
    "            cv2.imwrite(os.path.join(f'{newpath}' , f'{video}_frame_{count_frame}.jpg'), frame)\n",
    "            cv2.waitKey(0)\n",
    "            for i in range(4):          #leggo un frame ogni 4 \n",
    "                ret, frame = video_reader.read()\n",
    "            if not ret:\n",
    "                break\n",
    "            print(f'Action: {action}, video letti: {counter_n_video} su {n_video}', end = \"\\r\")\n",
    "            count_frame += 4"
   ]
  },
  {
   "cell_type": "markdown",
   "id": "c43f0a49",
   "metadata": {},
   "source": [
    "### Resize\n",
    "\n",
    "Prendo ogni frame appena creato e faccio resize 224x224"
   ]
  },
  {
   "cell_type": "code",
   "execution_count": null,
   "id": "25cec773",
   "metadata": {},
   "outputs": [],
   "source": [
    "for set_ in [\"train\", \"test\"]:\n",
    "    for action in actions:\n",
    "        newpath = f'{path}/hmdb51/rawframes/{set_}/{action}'\n",
    "        list_videos_action = os.listdir(newpath)\n",
    "        for video in list_videos_action:\n",
    "            print(f\"azione: {action}, video: {video}\", end = \"\\r\")\n",
    "            frames = os.listdir(f\"{newpath}/{video}\")\n",
    "            for frame in frames:\n",
    "                immagine = cv2.imread(f\"{newpath}/{video}/{frame}\")\n",
    "                immagine = cv2.resize(immagine, (224,224))\n",
    "                cv2.imwrite(f\"{newpath}/{video}/{frame}\", immagine)      "
   ]
  }
 ],
 "metadata": {
  "kernelspec": {
   "display_name": "Python 3",
   "language": "python",
   "name": "python3"
  },
  "language_info": {
   "codemirror_mode": {
    "name": "ipython",
    "version": 3
   },
   "file_extension": ".py",
   "mimetype": "text/x-python",
   "name": "python",
   "nbconvert_exporter": "python",
   "pygments_lexer": "ipython3",
   "version": "3.8.8"
  }
 },
 "nbformat": 4,
 "nbformat_minor": 5
}
