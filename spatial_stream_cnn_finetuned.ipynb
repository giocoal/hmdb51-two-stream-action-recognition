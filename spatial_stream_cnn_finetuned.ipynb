{
 "cells": [
  {
   "cell_type": "markdown",
   "id": "7ff3c55f",
   "metadata": {},
   "source": [
    "# Setup"
   ]
  },
  {
   "cell_type": "code",
   "execution_count": 1,
   "id": "dbe10128",
   "metadata": {},
   "outputs": [],
   "source": [
    "import numpy as np\n",
    "import pandas as pd\n",
    "import matplotlib.pyplot as plt\n",
    "import os\n",
    "import random\n",
    "import cv2\n",
    "import tensorflow as tf\n",
    "from tensorflow import keras\n",
    "from tensorflow.keras import layers\n",
    "from pathlib import Path\n",
    "import os\n",
    "\n",
    "from keras.layers.core import Dense,Flatten\n",
    "from tensorflow.keras.models import Sequential\n",
    "from tensorflow.keras.optimizers import Adam"
   ]
  },
  {
   "cell_type": "markdown",
   "id": "f4c48d39",
   "metadata": {},
   "source": [
    "Testing if cuda is on GPU"
   ]
  },
  {
   "cell_type": "code",
   "execution_count": 2,
   "id": "9bff241e",
   "metadata": {},
   "outputs": [
    {
     "name": "stdout",
     "output_type": "stream",
     "text": [
      "Default GPU Device:/device:GPU:0\n"
     ]
    }
   ],
   "source": [
    "if tf.test.gpu_device_name(): \n",
    "    print('Default GPU Device:{}'.format(tf.test.gpu_device_name()))\n",
    "else:\n",
    "   print(\"Please install GPU version of TF\")"
   ]
  },
  {
   "cell_type": "markdown",
   "id": "b802b407",
   "metadata": {},
   "source": [
    "# Spatial Data Generation\n"
   ]
  },
  {
   "cell_type": "code",
   "execution_count": 3,
   "id": "27cab245",
   "metadata": {},
   "outputs": [],
   "source": [
    "path = './data/hmdb51'\n",
    "path_rowframes = './data/hmdb51/rawframes/'\n",
    "path_annotations = './data/hmdb51/annotations/'\n",
    "\n",
    "img_height = 224\n",
    "img_width = 224\n",
    "batch_size = 64\n",
    "num_classes = 51\n",
    "\n",
    "num_frames_desired = 17     #number of frames per clip\n",
    "type_frame = 'img'          #img / flow_x / flow_y"
   ]
  },
  {
   "cell_type": "code",
   "execution_count": 4,
   "id": "8eb40a0b",
   "metadata": {},
   "outputs": [],
   "source": [
    "def sampling(list, num_frames_desired):\n",
    "    step = len(list) // (num_frames_desired)\n",
    "    #selected_frames = list(range(0, len(list), step))[:num_frames_desired]\n",
    "    sampled_list = list[0:len(list):step][:num_frames_desired]\n",
    "    return(sampled_list)\n",
    "\n",
    "def parse_image(filename):\n",
    "    image = tf.io.read_file(filename)\n",
    "    image = tf.image.decode_jpeg(image, channels=3)\n",
    "    image = tf.image.resize(image, [img_height, img_width])\n",
    "    image = tf.image.random_flip_left_right(image)\n",
    "    #print(image.shape)\n",
    "    #print(tf.TensorShape(image))\n",
    "    \n",
    "    #if image.shape[1] < img_width:\n",
    "    \n",
    "    #else:\n",
    "    #image = tf.image.random_crop(image, [img_height, img_width, 3])\n",
    "    \n",
    "    #print(image.shape)\n",
    "    #image = tf.image.random_saturation(image, 5, 10)\n",
    "    #image = tf.image.random_brightness(image, 0.2)\n",
    "    #image = tf.image.random_contrast(image, 0.2, 0.5)\n",
    "    \n",
    "    return image\n",
    "\n",
    "def configure_for_performance(ds):\n",
    "    ds = ds.shuffle(buffer_size=1000)\n",
    "    ds = ds.batch(batch_size)\n",
    "    ds = ds.repeat()\n",
    "    ds = ds.prefetch(buffer_size=tf.data.experimental.AUTOTUNE)\n",
    "    return ds\n",
    "\n",
    "def find_paths(partition, type_frame, num_frames_desired):\n",
    "    if partition == 'train':\n",
    "        video_list = pd.read_csv(f'{path_annotations}/hmdb51_train_split_1_rawframes.txt', sep=\" \", header=None) #train\n",
    "        video_list.columns = [\"path\", \"num_frames_tot\", \"class\"]\n",
    "    elif partition == 'val':\n",
    "        video_list = pd.read_csv(f'{path_annotations}/hmdb51_val_split_1_rawframes.txt', sep=\" \", header=None) #test\n",
    "        video_list.columns = [\"path\", \"num_frames_tot\", \"class\"]\n",
    "    else:\n",
    "        raise Exception(\"invalid partition\")\n",
    "\n",
    "    paths = []\n",
    "    classes = []\n",
    "    for index, row in video_list.iterrows(): \n",
    "        temp_path = row['path']\n",
    "        frame_list = os.listdir(os.path.join(f'./{temp_path}'))\n",
    "\n",
    "        frame_list_type = [i for i in frame_list if i.startswith(f'{type_frame}')]\n",
    "\n",
    "        filename = sampling(frame_list_type, num_frames_desired)\n",
    "\n",
    "        paths.extend([os.path.join('.\\\\', temp_path, file) for file in filename])\n",
    "        temp = [row['class']] * num_frames_desired\n",
    "        classes.extend(temp)\n",
    "\n",
    "    return(list(zip(paths, classes)), video_list)"
   ]
  },
  {
   "cell_type": "code",
   "execution_count": 5,
   "id": "485a3a77",
   "metadata": {},
   "outputs": [
    {
     "data": {
      "text/html": [
       "<div>\n",
       "<style scoped>\n",
       "    .dataframe tbody tr th:only-of-type {\n",
       "        vertical-align: middle;\n",
       "    }\n",
       "\n",
       "    .dataframe tbody tr th {\n",
       "        vertical-align: top;\n",
       "    }\n",
       "\n",
       "    .dataframe thead th {\n",
       "        text-align: right;\n",
       "    }\n",
       "</style>\n",
       "<table border=\"1\" class=\"dataframe\">\n",
       "  <thead>\n",
       "    <tr style=\"text-align: right;\">\n",
       "      <th></th>\n",
       "      <th>path</th>\n",
       "      <th>num_frames_tot</th>\n",
       "      <th>cose</th>\n",
       "      <th>vid</th>\n",
       "    </tr>\n",
       "    <tr>\n",
       "      <th>class</th>\n",
       "      <th></th>\n",
       "      <th></th>\n",
       "      <th></th>\n",
       "      <th></th>\n",
       "    </tr>\n",
       "  </thead>\n",
       "  <tbody>\n",
       "    <tr>\n",
       "      <th>brush_hair</th>\n",
       "      <td>70</td>\n",
       "      <td>70</td>\n",
       "      <td>70</td>\n",
       "      <td>70</td>\n",
       "    </tr>\n",
       "    <tr>\n",
       "      <th>cartwheel</th>\n",
       "      <td>70</td>\n",
       "      <td>70</td>\n",
       "      <td>70</td>\n",
       "      <td>70</td>\n",
       "    </tr>\n",
       "    <tr>\n",
       "      <th>catch</th>\n",
       "      <td>70</td>\n",
       "      <td>70</td>\n",
       "      <td>70</td>\n",
       "      <td>70</td>\n",
       "    </tr>\n",
       "    <tr>\n",
       "      <th>chew</th>\n",
       "      <td>70</td>\n",
       "      <td>70</td>\n",
       "      <td>70</td>\n",
       "      <td>70</td>\n",
       "    </tr>\n",
       "    <tr>\n",
       "      <th>clap</th>\n",
       "      <td>70</td>\n",
       "      <td>70</td>\n",
       "      <td>70</td>\n",
       "      <td>70</td>\n",
       "    </tr>\n",
       "  </tbody>\n",
       "</table>\n",
       "</div>"
      ],
      "text/plain": [
       "            path  num_frames_tot  cose  vid\n",
       "class                                      \n",
       "brush_hair    70              70    70   70\n",
       "cartwheel     70              70    70   70\n",
       "catch         70              70    70   70\n",
       "chew          70              70    70   70\n",
       "clap          70              70    70   70"
      ]
     },
     "execution_count": 5,
     "metadata": {},
     "output_type": "execute_result"
    }
   ],
   "source": [
    "# verify class balance\n",
    "filenames, video_list = find_paths(partition='train', type_frame=type_frame, num_frames_desired=num_frames_desired)\n",
    "video_list[['cose', 'class', 'vid']] = video_list[\"path\"].str.rsplit(\"\\\\\", n = 2, expand = True)\n",
    "video_list.groupby('class').count().head()"
   ]
  },
  {
   "cell_type": "code",
   "execution_count": 6,
   "id": "bb6384ad",
   "metadata": {},
   "outputs": [],
   "source": [
    "# ------- create train set\n",
    "#filenames = find_paths(partition='train', type_frame=type_frame, num_frames_desired=num_frames_desired)\n",
    "\n",
    "random.shuffle(filenames)\n",
    "\n",
    "zipped = [list(t) for t in zip(*filenames)]\n",
    "\n",
    "filenames = zipped[0]\n",
    "labels = zipped[1]\n",
    "\n",
    "filenames_ds = tf.data.Dataset.from_tensor_slices(filenames)\n",
    "images_ds = filenames_ds.map(parse_image, num_parallel_calls=tf.data.experimental.AUTOTUNE)\n",
    "\n",
    "labels_ds = tf.data.Dataset.from_tensor_slices(labels)\n",
    "ds = tf.data.Dataset.zip((images_ds, labels_ds))\n",
    "train_ds = configure_for_performance(ds)\n"
   ]
  },
  {
   "cell_type": "code",
   "execution_count": 7,
   "id": "71781ba8",
   "metadata": {},
   "outputs": [
    {
     "name": "stdout",
     "output_type": "stream",
     "text": [
      "60690\n"
     ]
    }
   ],
   "source": [
    "frame_number_train = len(filenames)\n",
    "print(frame_number_train)"
   ]
  },
  {
   "cell_type": "code",
   "execution_count": 8,
   "id": "8627fdda",
   "metadata": {},
   "outputs": [
    {
     "data": {
      "text/plain": [
       "'\\nplt.figure(figsize=(20, 20))\\n#class_names = test_data.class_names\\nfor images, labels in train_ds.take(1):\\n    for i in range(batch_size):\\n        ax = plt.subplot(int(sqrt(batch_size))+1, int(sqrt(batch_size)), i + 1)\\n        plt.imshow(images[i].numpy().astype(\"uint8\"))\\n        #plt.title(class_names[labels[i]])\\n        plt.axis(\"off\")\\n        plt.savefig(\\'batch_images.jpg\\')\\n'"
      ]
     },
     "execution_count": 8,
     "metadata": {},
     "output_type": "execute_result"
    }
   ],
   "source": [
    "#train_ds\n",
    "#img = tf.expand_dims(images_ds, 0)\n",
    "#plt.imshow(img[0])\n",
    "\n",
    "from math import sqrt\n",
    "\n",
    "'''\n",
    "plt.figure(figsize=(20, 20))\n",
    "#class_names = test_data.class_names\n",
    "for images, labels in train_ds.take(1):\n",
    "    for i in range(batch_size):\n",
    "        ax = plt.subplot(int(sqrt(batch_size))+1, int(sqrt(batch_size)), i + 1)\n",
    "        plt.imshow(images[i].numpy().astype(\"uint8\"))\n",
    "        #plt.title(class_names[labels[i]])\n",
    "        plt.axis(\"off\")\n",
    "        plt.savefig('batch_images.jpg')\n",
    "'''"
   ]
  },
  {
   "cell_type": "code",
   "execution_count": 9,
   "id": "ec059701",
   "metadata": {},
   "outputs": [],
   "source": [
    "def sampling(list, num_frames_desired):\n",
    "    step = len(list) // (num_frames_desired)\n",
    "    #selected_frames = list(range(0, len(list), step))[:num_frames_desired]\n",
    "    sampled_list = list[0:len(list):step][:num_frames_desired]\n",
    "    return(sampled_list)\n",
    "\n",
    "def parse_image(filename):\n",
    "    image = tf.io.read_file(filename)\n",
    "    image = tf.image.decode_jpeg(image, channels=3)\n",
    "    image = tf.image.resize(image, [img_height, img_width])\n",
    "    print(image.shape)\n",
    "    return image\n",
    "\n",
    "def configure_for_performance(ds):\n",
    "    ds = ds.shuffle(buffer_size=1000)\n",
    "    ds = ds.batch(batch_size)\n",
    "    ds = ds.repeat()\n",
    "    ds = ds.prefetch(buffer_size=tf.data.experimental.AUTOTUNE)\n",
    "    return ds\n",
    "\n",
    "def find_paths(partition, type_frame, num_frames_desired):\n",
    "    if partition == 'train':\n",
    "        video_list = pd.read_csv(f'{path_annotations}/hmdb51_train_split_1_rawframes.txt', sep=\" \", header=None) #train\n",
    "        video_list.columns = [\"path\", \"num_frames_tot\", \"class\"]\n",
    "    elif partition == 'val':\n",
    "        video_list = pd.read_csv(f'{path_annotations}/hmdb51_val_split_1_rawframes.txt', sep=\" \", header=None) #test\n",
    "        video_list.columns = [\"path\", \"num_frames_tot\", \"class\"]\n",
    "    else:\n",
    "        raise Exception(\"invalid partition\")\n",
    "\n",
    "    paths = []\n",
    "    classes = []\n",
    "    for index, row in video_list.iterrows(): \n",
    "        temp_path = row['path']\n",
    "        frame_list = os.listdir(os.path.join(f'./{temp_path}'))\n",
    "\n",
    "        frame_list_type = [i for i in frame_list if i.startswith(f'{type_frame}')]\n",
    "\n",
    "        filename = sampling(frame_list_type, num_frames_desired)\n",
    "\n",
    "        paths.extend([os.path.join('.\\\\', temp_path, file) for file in filename])\n",
    "        temp = [row['class']] * num_frames_desired\n",
    "        classes.extend(temp)\n",
    "\n",
    "    return(list(zip(paths, classes)), video_list)"
   ]
  },
  {
   "cell_type": "code",
   "execution_count": 10,
   "id": "75a40fcd",
   "metadata": {},
   "outputs": [
    {
     "name": "stdout",
     "output_type": "stream",
     "text": [
      "(224, 224, 3)\n"
     ]
    }
   ],
   "source": [
    "# ------- create val test\n",
    "filenames, video_list = find_paths(partition='val', type_frame=type_frame, num_frames_desired=num_frames_desired)\n",
    "\n",
    "random.shuffle(filenames)\n",
    "\n",
    "zipped = [list(t) for t in zip(*filenames)]\n",
    "\n",
    "filenames = zipped[0]\n",
    "labels = zipped[1]\n",
    "\n",
    "filenames_ds = tf.data.Dataset.from_tensor_slices(filenames)\n",
    "images_ds = filenames_ds.map(parse_image, num_parallel_calls=tf.data.experimental.AUTOTUNE)\n",
    "labels_ds = tf.data.Dataset.from_tensor_slices(labels)\n",
    "ds = tf.data.Dataset.zip((images_ds, labels_ds))\n",
    "val_ds = configure_for_performance(ds)"
   ]
  },
  {
   "cell_type": "code",
   "execution_count": 11,
   "id": "5bdd738a",
   "metadata": {},
   "outputs": [
    {
     "name": "stdout",
     "output_type": "stream",
     "text": [
      "26010\n"
     ]
    }
   ],
   "source": [
    "frame_number_val = len(filenames)\n",
    "print(frame_number_val)"
   ]
  },
  {
   "cell_type": "code",
   "execution_count": 12,
   "id": "c01190c4",
   "metadata": {},
   "outputs": [
    {
     "name": "stdout",
     "output_type": "stream",
     "text": [
      "948\n",
      "406\n"
     ]
    }
   ],
   "source": [
    "step_per_epoch_train = frame_number_train // batch_size\n",
    "step_per_epoch_val = frame_number_val // batch_size\n",
    "print(step_per_epoch_train)\n",
    "print(step_per_epoch_val)"
   ]
  },
  {
   "cell_type": "markdown",
   "id": "06b5e290",
   "metadata": {},
   "source": [
    "# Spatial Stream Finetuned"
   ]
  },
  {
   "cell_type": "code",
   "execution_count": 13,
   "id": "9d135974",
   "metadata": {},
   "outputs": [],
   "source": [
    "checkpoint_filepath = './Models/spatial_model{epoch:02d}-{val_loss:.2f}.hdf5'\n",
    "\n",
    "model_checkpoint_callback = tf.keras.callbacks.ModelCheckpoint(\n",
    "    filepath=checkpoint_filepath,\n",
    "    monitor='val_sparse_categorical_accuracy',\n",
    "    mode='max',\n",
    "    save_best_only=True)"
   ]
  },
  {
   "cell_type": "markdown",
   "id": "1cfc6a7f",
   "metadata": {},
   "source": [
    "## ResNet 1"
   ]
  },
  {
   "cell_type": "code",
   "execution_count": 14,
   "id": "23cc9150",
   "metadata": {},
   "outputs": [],
   "source": [
    "version = 3\n",
    "arc = 'boh'\n",
    "epochs = 5\n",
    "learningrate = 0.0001\n",
    "momentum = 0"
   ]
  },
  {
   "cell_type": "code",
   "execution_count": 15,
   "id": "f7e66faa",
   "metadata": {},
   "outputs": [
    {
     "name": "stdout",
     "output_type": "stream",
     "text": [
      "Model: \"sequential_1\"\n",
      "_________________________________________________________________\n",
      " Layer (type)                Output Shape              Param #   \n",
      "=================================================================\n",
      " resnet50 (Functional)       (None, 2048)              23587712  \n",
      "                                                                 \n",
      " flatten (Flatten)           (None, 2048)              0         \n",
      "                                                                 \n",
      " dense (Dense)               (None, 51)                104499    \n",
      "                                                                 \n",
      "=================================================================\n",
      "Total params: 23,692,211\n",
      "Trainable params: 104,499\n",
      "Non-trainable params: 23,587,712\n",
      "_________________________________________________________________\n",
      "None\n"
     ]
    }
   ],
   "source": [
    "# versione 2\n",
    "data_augmentation = tf.keras.Sequential([\n",
    "    layers.RandomFlip(\"horizontal\"),\n",
    "    layers.RandomRotation(0.2),\n",
    "    layers.RandomZoom(height_factor=(-0.15, 0.2))\n",
    "])\n",
    "\n",
    "\n",
    "input = tf.keras.layers.Input(shape=(img_height, img_width, 3))\n",
    "\n",
    "x = tf.keras.applications.resnet50.preprocess_input(input, data_format=None)\n",
    "#x = data_augmentation(x)\n",
    "\n",
    "\n",
    "pretrained_model = tf.keras.applications.ResNet50(include_top=False,\n",
    "                                                  input_tensor=x,\n",
    "                                                  pooling='avg',\n",
    "                                                  weights='imagenet')\n",
    "pretrained_model.trainable = False\n",
    "\n",
    "resnet_model = tf.keras.Sequential()\n",
    "\n",
    "resnet_model.add(pretrained_model)\n",
    "\n",
    "resnet_model.add(Flatten())\n",
    "#resnet_model.add(Dense(512, activation='relu'))\n",
    "resnet_model.add(Dense(num_classes, activation='softmax'))\n",
    "\n",
    "print(resnet_model.summary())\n",
    "\n",
    "\n",
    "#optimizer = tf.keras.optimizers.SGD(learning_rate=0.01, momentum=0.0)\n",
    "optimizer = Adam(learning_rate=learningrate)\n",
    "resnet_model.compile(optimizer = optimizer, loss = 'sparse_categorical_crossentropy', metrics = ['sparse_categorical_accuracy', 'sparse_top_k_categorical_accuracy'])"
   ]
  },
  {
   "cell_type": "code",
   "execution_count": 17,
   "id": "d36adcdc",
   "metadata": {},
   "outputs": [
    {
     "name": "stdout",
     "output_type": "stream",
     "text": [
      "Epoch 1/5\n",
      "948/948 [==============================] - 435s 444ms/step - loss: 2.2442 - sparse_categorical_accuracy: 0.4444 - sparse_top_k_categorical_accuracy: 0.7078 - val_loss: 2.3705 - val_sparse_categorical_accuracy: 0.3721 - val_sparse_top_k_categorical_accuracy: 0.6886\n",
      "Epoch 2/5\n",
      "948/948 [==============================] - 429s 451ms/step - loss: 1.1961 - sparse_categorical_accuracy: 0.7058 - sparse_top_k_categorical_accuracy: 0.9071 - val_loss: 2.2918 - val_sparse_categorical_accuracy: 0.3872 - val_sparse_top_k_categorical_accuracy: 0.7065\n",
      "Epoch 3/5\n",
      "948/948 [==============================] - 426s 449ms/step - loss: 0.8997 - sparse_categorical_accuracy: 0.7842 - sparse_top_k_categorical_accuracy: 0.9410 - val_loss: 2.3006 - val_sparse_categorical_accuracy: 0.3901 - val_sparse_top_k_categorical_accuracy: 0.7166\n",
      "Epoch 4/5\n",
      "948/948 [==============================] - 427s 451ms/step - loss: 0.7292 - sparse_categorical_accuracy: 0.8285 - sparse_top_k_categorical_accuracy: 0.9597 - val_loss: 2.3271 - val_sparse_categorical_accuracy: 0.3870 - val_sparse_top_k_categorical_accuracy: 0.7183\n",
      "Epoch 5/5\n",
      "948/948 [==============================] - 425s 449ms/step - loss: 0.6092 - sparse_categorical_accuracy: 0.8603 - sparse_top_k_categorical_accuracy: 0.9717 - val_loss: 2.3688 - val_sparse_categorical_accuracy: 0.3871 - val_sparse_top_k_categorical_accuracy: 0.7171\n"
     ]
    }
   ],
   "source": [
    "history_ResNet1_spatial_stream = resnet_model.fit(train_ds, \n",
    "                                        validation_data = val_ds, \n",
    "                                        epochs=epochs, \n",
    "                                        batch_size = batch_size,\n",
    "                                        steps_per_epoch=step_per_epoch_train,\n",
    "                                        validation_steps=step_per_epoch_val,\n",
    "                                        callbacks=[model_checkpoint_callback]\n",
    "                                        )"
   ]
  },
  {
   "cell_type": "code",
   "execution_count": 21,
   "id": "494859d7",
   "metadata": {},
   "outputs": [
    {
     "name": "stdout",
     "output_type": "stream",
     "text": [
      "406/406 [==============================] - 124s 304ms/step - loss: 2.3686 - sparse_categorical_accuracy: 0.3871 - sparse_top_k_categorical_accuracy: 0.7171\n",
      "Loss val: 2.3685786724090576\n",
      "Sparse_categorical_accuracy: 0.38712283968925476\n",
      "Sparse_top_5_categorical_accuracy: 0.717133641242981\n"
     ]
    }
   ],
   "source": [
    "score = resnet_model.evaluate(val_ds, verbose=1, batch_size = batch_size, steps=step_per_epoch_val)\n",
    "print('Loss val:', score[0])\n",
    "print('Sparse_categorical_accuracy:', score[1])\n",
    "print('Sparse_top_5_categorical_accuracy:', score[2])"
   ]
  },
  {
   "cell_type": "code",
   "execution_count": 20,
   "id": "7a7cbff4",
   "metadata": {},
   "outputs": [
    {
     "data": {
      "image/png": "[encoded data removed]",
      "text/plain": [
       "<Figure size 432x288 with 1 Axes>"
      ]
     },
     "metadata": {
      "needs_background": "light"
     },
     "output_type": "display_data"
    }
   ],
   "source": [
    "fig1 = plt.gcf()\n",
    "plt.plot(history_ResNet1_spatial_stream.history['sparse_categorical_accuracy'])\n",
    "plt.plot(history_ResNet1_spatial_stream.history['val_sparse_categorical_accuracy'])\n",
    "plt.axis(ymin=0,ymax=1)\n",
    "plt.grid()\n",
    "plt.title('Model Accuracy')\n",
    "plt.ylabel('Accuracy')\n",
    "plt.xlabel('Epochs')\n",
    "plt.legend(['train', 'validation'])\n",
    "plt.savefig('./Report/Plots/resnet1_2.png')\n",
    "plt.show()"
   ]
  },
  {
   "cell_type": "code",
   "execution_count": 21,
   "id": "428b1105",
   "metadata": {},
   "outputs": [
    {
     "data": {
      "image/png": "[encoded data removed]",
      "text/plain": [
       "<Figure size 432x288 with 1 Axes>"
      ]
     },
     "metadata": {
      "needs_background": "light"
     },
     "output_type": "display_data"
    }
   ],
   "source": [
    "from ensurepip import version\n",
    "from platform import architecture\n",
    "\n",
    "\n",
    "fig1 = plt.gcf()\n",
    "plt.plot(history_ResNet1_spatial_stream.history['loss'])\n",
    "plt.plot(history_ResNet1_spatial_stream.history['val_loss'])\n",
    "#plt.axis(ymin=0,ymax=1)\n",
    "plt.grid()\n",
    "plt.title('Model Loss')\n",
    "metric_plot = 'loss'\n",
    "plt.ylabel('Train Loss')\n",
    "plt.xlabel('Epochs')\n",
    "plt.legend(['train', 'validation'])\n",
    "plt.savefig(f'./Report/Plots/spatial_stream/spatialstream_{arc}_epoch{epochs}_batch{batch_size}optSDG{learningrate}{momentum}_metric{metric_plot}_train.png')\n",
    "plt.show()\n"
   ]
  },
  {
   "cell_type": "code",
   "execution_count": null,
   "id": "5391b57c",
   "metadata": {},
   "outputs": [],
   "source": [
    "resnet_model.save(f'./Models/motion_stream/motionstream{version}_epoch{epochs}_batch{batch_size}_optSDG_lr{learningrate}_momentum{momentum}.h5')"
   ]
  },
  {
   "cell_type": "markdown",
   "id": "3ef93b4c",
   "metadata": {},
   "source": [
    "## ResNet 2"
   ]
  },
  {
   "cell_type": "code",
   "execution_count": null,
   "id": "f79af183",
   "metadata": {},
   "outputs": [],
   "source": [
    "def build_model(num_classes, img_size=224):\n",
    "    input = tf.keras.layers.Input(shape=(img_size, img_size, 3))\n",
    "    model = tf.keras.applications.ResNet50(include_top=False, input_tensor=input, weights=\"imagenet\")\n",
    "\n",
    "    # Freeze the pretrained weights\n",
    "    model.trainable = False\n",
    "\n",
    "    # Rebuild top\n",
    "    x = tf.keras.layers.GlobalAveragePooling2D(name=\"avg_pool\")(model.output)\n",
    "    x = tf.keras.layers.BatchNormalization()(x)\n",
    "\n",
    "    top_dropout_rate = 0.2\n",
    "    x = tf.keras.layers.Dropout(top_dropout_rate, name=\"top_dropout\")(x)\n",
    "    output = tf.keras.layers.Dense(num_classes, activation=\"softmax\", name=\"pred\")(x)\n",
    "\n",
    "    # Compile\n",
    "    model = tf.keras.Model(input, output, name=\"ResNet\")\n",
    "    #model.compile(optimizer='adam', loss = \"sparse_categorical_crossentropy\", metrics = ['sparse_categorical_accuracy'])\n",
    "    model.compile(optimizer = Adam(learning_rate=0.0001, beta_1=0.9, beta_2=0.999,), \n",
    "                  loss = \"sparse_categorical_crossentropy\", \n",
    "                  metrics = ['sparse_categorical_accuracy', 'sparse_top_k_categorical_accuracy'])\n",
    "                    \n",
    "    return model \n",
    "\n",
    "model = build_model(num_classes)\n",
    "print(model.summary())"
   ]
  },
  {
   "cell_type": "code",
   "execution_count": 11,
   "id": "ae06027c",
   "metadata": {},
   "outputs": [
    {
     "name": "stdout",
     "output_type": "stream",
     "text": [
      "Epoch 1/5\n"
     ]
    },
    {
     "ename": "InvalidArgumentError",
     "evalue": "Graph execution error:\n\nDetected at node 'IteratorGetNext' defined at (most recent call last):\n    File \"c:\\ProgramData\\Anaconda3\\lib\\runpy.py\", line 197, in _run_module_as_main\n      return _run_code(code, main_globals, None,\n    File \"c:\\ProgramData\\Anaconda3\\lib\\runpy.py\", line 87, in _run_code\n      exec(code, run_globals)\n    File \"c:\\ProgramData\\Anaconda3\\lib\\site-packages\\ipykernel_launcher.py\", line 16, in <module>\n      app.launch_new_instance()\n    File \"c:\\ProgramData\\Anaconda3\\lib\\site-packages\\traitlets\\config\\application.py\", line 846, in launch_instance\n      app.start()\n    File \"c:\\ProgramData\\Anaconda3\\lib\\site-packages\\ipykernel\\kernelapp.py\", line 677, in start\n      self.io_loop.start()\n    File \"c:\\ProgramData\\Anaconda3\\lib\\site-packages\\tornado\\platform\\asyncio.py\", line 199, in start\n      self.asyncio_loop.run_forever()\n    File \"c:\\ProgramData\\Anaconda3\\lib\\asyncio\\base_events.py\", line 596, in run_forever\n      self._run_once()\n    File \"c:\\ProgramData\\Anaconda3\\lib\\asyncio\\base_events.py\", line 1890, in _run_once\n      handle._run()\n    File \"c:\\ProgramData\\Anaconda3\\lib\\asyncio\\events.py\", line 80, in _run\n      self._context.run(self._callback, *self._args)\n    File \"c:\\ProgramData\\Anaconda3\\lib\\site-packages\\ipykernel\\kernelbase.py\", line 457, in dispatch_queue\n      await self.process_one()\n    File \"c:\\ProgramData\\Anaconda3\\lib\\site-packages\\ipykernel\\kernelbase.py\", line 446, in process_one\n      await dispatch(*args)\n    File \"c:\\ProgramData\\Anaconda3\\lib\\site-packages\\ipykernel\\kernelbase.py\", line 353, in dispatch_shell\n      await result\n    File \"c:\\ProgramData\\Anaconda3\\lib\\site-packages\\ipykernel\\kernelbase.py\", line 648, in execute_request\n      reply_content = await reply_content\n    File \"c:\\ProgramData\\Anaconda3\\lib\\site-packages\\ipykernel\\ipkernel.py\", line 353, in do_execute\n      res = shell.run_cell(code, store_history=store_history, silent=silent)\n    File \"c:\\ProgramData\\Anaconda3\\lib\\site-packages\\ipykernel\\zmqshell.py\", line 533, in run_cell\n      return super(ZMQInteractiveShell, self).run_cell(*args, **kwargs)\n    File \"c:\\ProgramData\\Anaconda3\\lib\\site-packages\\IPython\\core\\interactiveshell.py\", line 2901, in run_cell\n      result = self._run_cell(\n    File \"c:\\ProgramData\\Anaconda3\\lib\\site-packages\\IPython\\core\\interactiveshell.py\", line 2947, in _run_cell\n      return runner(coro)\n    File \"c:\\ProgramData\\Anaconda3\\lib\\site-packages\\IPython\\core\\async_helpers.py\", line 68, in _pseudo_sync_runner\n      coro.send(None)\n    File \"c:\\ProgramData\\Anaconda3\\lib\\site-packages\\IPython\\core\\interactiveshell.py\", line 3172, in run_cell_async\n      has_raised = await self.run_ast_nodes(code_ast.body, cell_name,\n    File \"c:\\ProgramData\\Anaconda3\\lib\\site-packages\\IPython\\core\\interactiveshell.py\", line 3364, in run_ast_nodes\n      if (await self.run_code(code, result,  async_=asy)):\n    File \"c:\\ProgramData\\Anaconda3\\lib\\site-packages\\IPython\\core\\interactiveshell.py\", line 3444, in run_code\n      exec(code_obj, self.user_global_ns, self.user_ns)\n    File \"C:\\Users\\gianl\\AppData\\Local\\Temp/ipykernel_3268/3751188769.py\", line 1, in <module>\n      history_ResNet2_spatial_stream = model.fit(train_ds,\n    File \"c:\\ProgramData\\Anaconda3\\lib\\site-packages\\keras\\utils\\traceback_utils.py\", line 64, in error_handler\n      return fn(*args, **kwargs)\n    File \"c:\\ProgramData\\Anaconda3\\lib\\site-packages\\keras\\engine\\training.py\", line 1409, in fit\n      tmp_logs = self.train_function(iterator)\n    File \"c:\\ProgramData\\Anaconda3\\lib\\site-packages\\keras\\engine\\training.py\", line 1051, in train_function\n      return step_function(self, iterator)\n    File \"c:\\ProgramData\\Anaconda3\\lib\\site-packages\\keras\\engine\\training.py\", line 1039, in step_function\n      data = next(iterator)\nNode: 'IteratorGetNext'\nDetected at node 'IteratorGetNext' defined at (most recent call last):\n    File \"c:\\ProgramData\\Anaconda3\\lib\\runpy.py\", line 197, in _run_module_as_main\n      return _run_code(code, main_globals, None,\n    File \"c:\\ProgramData\\Anaconda3\\lib\\runpy.py\", line 87, in _run_code\n      exec(code, run_globals)\n    File \"c:\\ProgramData\\Anaconda3\\lib\\site-packages\\ipykernel_launcher.py\", line 16, in <module>\n      app.launch_new_instance()\n    File \"c:\\ProgramData\\Anaconda3\\lib\\site-packages\\traitlets\\config\\application.py\", line 846, in launch_instance\n      app.start()\n    File \"c:\\ProgramData\\Anaconda3\\lib\\site-packages\\ipykernel\\kernelapp.py\", line 677, in start\n      self.io_loop.start()\n    File \"c:\\ProgramData\\Anaconda3\\lib\\site-packages\\tornado\\platform\\asyncio.py\", line 199, in start\n      self.asyncio_loop.run_forever()\n    File \"c:\\ProgramData\\Anaconda3\\lib\\asyncio\\base_events.py\", line 596, in run_forever\n      self._run_once()\n    File \"c:\\ProgramData\\Anaconda3\\lib\\asyncio\\base_events.py\", line 1890, in _run_once\n      handle._run()\n    File \"c:\\ProgramData\\Anaconda3\\lib\\asyncio\\events.py\", line 80, in _run\n      self._context.run(self._callback, *self._args)\n    File \"c:\\ProgramData\\Anaconda3\\lib\\site-packages\\ipykernel\\kernelbase.py\", line 457, in dispatch_queue\n      await self.process_one()\n    File \"c:\\ProgramData\\Anaconda3\\lib\\site-packages\\ipykernel\\kernelbase.py\", line 446, in process_one\n      await dispatch(*args)\n    File \"c:\\ProgramData\\Anaconda3\\lib\\site-packages\\ipykernel\\kernelbase.py\", line 353, in dispatch_shell\n      await result\n    File \"c:\\ProgramData\\Anaconda3\\lib\\site-packages\\ipykernel\\kernelbase.py\", line 648, in execute_request\n      reply_content = await reply_content\n    File \"c:\\ProgramData\\Anaconda3\\lib\\site-packages\\ipykernel\\ipkernel.py\", line 353, in do_execute\n      res = shell.run_cell(code, store_history=store_history, silent=silent)\n    File \"c:\\ProgramData\\Anaconda3\\lib\\site-packages\\ipykernel\\zmqshell.py\", line 533, in run_cell\n      return super(ZMQInteractiveShell, self).run_cell(*args, **kwargs)\n    File \"c:\\ProgramData\\Anaconda3\\lib\\site-packages\\IPython\\core\\interactiveshell.py\", line 2901, in run_cell\n      result = self._run_cell(\n    File \"c:\\ProgramData\\Anaconda3\\lib\\site-packages\\IPython\\core\\interactiveshell.py\", line 2947, in _run_cell\n      return runner(coro)\n    File \"c:\\ProgramData\\Anaconda3\\lib\\site-packages\\IPython\\core\\async_helpers.py\", line 68, in _pseudo_sync_runner\n      coro.send(None)\n    File \"c:\\ProgramData\\Anaconda3\\lib\\site-packages\\IPython\\core\\interactiveshell.py\", line 3172, in run_cell_async\n      has_raised = await self.run_ast_nodes(code_ast.body, cell_name,\n    File \"c:\\ProgramData\\Anaconda3\\lib\\site-packages\\IPython\\core\\interactiveshell.py\", line 3364, in run_ast_nodes\n      if (await self.run_code(code, result,  async_=asy)):\n    File \"c:\\ProgramData\\Anaconda3\\lib\\site-packages\\IPython\\core\\interactiveshell.py\", line 3444, in run_code\n      exec(code_obj, self.user_global_ns, self.user_ns)\n    File \"C:\\Users\\gianl\\AppData\\Local\\Temp/ipykernel_3268/3751188769.py\", line 1, in <module>\n      history_ResNet2_spatial_stream = model.fit(train_ds,\n    File \"c:\\ProgramData\\Anaconda3\\lib\\site-packages\\keras\\utils\\traceback_utils.py\", line 64, in error_handler\n      return fn(*args, **kwargs)\n    File \"c:\\ProgramData\\Anaconda3\\lib\\site-packages\\keras\\engine\\training.py\", line 1409, in fit\n      tmp_logs = self.train_function(iterator)\n    File \"c:\\ProgramData\\Anaconda3\\lib\\site-packages\\keras\\engine\\training.py\", line 1051, in train_function\n      return step_function(self, iterator)\n    File \"c:\\ProgramData\\Anaconda3\\lib\\site-packages\\keras\\engine\\training.py\", line 1039, in step_function\n      data = next(iterator)\nNode: 'IteratorGetNext'\n2 root error(s) found.\n  (0) INVALID_ARGUMENT:  Cannot batch tensors with different shapes in component 0. First element had shape [240,320,3] and element 12 had shape [240,352,3].\n\t [[{{node IteratorGetNext}}]]\n\t [[IteratorGetNext/_2]]\n  (1) INVALID_ARGUMENT:  Cannot batch tensors with different shapes in component 0. First element had shape [240,320,3] and element 12 had shape [240,352,3].\n\t [[{{node IteratorGetNext}}]]\n0 successful operations.\n0 derived errors ignored. [Op:__inference_train_function_8957]",
     "output_type": "error",
     "traceback": [
      "\u001b[1;31m---------------------------------------------------------------------------\u001b[0m",
      "\u001b[1;31mInvalidArgumentError\u001b[0m                      Traceback (most recent call last)",
      "\u001b[1;32m~\\AppData\\Local\\Temp/ipykernel_3268/3751188769.py\u001b[0m in \u001b[0;36m<module>\u001b[1;34m\u001b[0m\n\u001b[1;32m----> 1\u001b[1;33m history_ResNet2_spatial_stream = model.fit(train_ds, \n\u001b[0m\u001b[0;32m      2\u001b[0m                                         \u001b[0mvalidation_data\u001b[0m \u001b[1;33m=\u001b[0m \u001b[0mval_ds\u001b[0m\u001b[1;33m,\u001b[0m\u001b[1;33m\u001b[0m\u001b[1;33m\u001b[0m\u001b[0m\n\u001b[0;32m      3\u001b[0m                                         \u001b[0mbatch_size\u001b[0m\u001b[1;33m=\u001b[0m\u001b[0mbatch_size\u001b[0m\u001b[1;33m,\u001b[0m\u001b[1;33m\u001b[0m\u001b[1;33m\u001b[0m\u001b[0m\n\u001b[0;32m      4\u001b[0m                                         \u001b[0mepochs\u001b[0m\u001b[1;33m=\u001b[0m\u001b[1;36m5\u001b[0m\u001b[1;33m,\u001b[0m\u001b[1;33m\u001b[0m\u001b[1;33m\u001b[0m\u001b[0m\n\u001b[0;32m      5\u001b[0m                                         \u001b[0msteps_per_epoch\u001b[0m\u001b[1;33m=\u001b[0m\u001b[0mstep_per_epoch_train\u001b[0m\u001b[1;33m,\u001b[0m\u001b[1;33m\u001b[0m\u001b[1;33m\u001b[0m\u001b[0m\n",
      "\u001b[1;32mc:\\ProgramData\\Anaconda3\\lib\\site-packages\\keras\\utils\\traceback_utils.py\u001b[0m in \u001b[0;36merror_handler\u001b[1;34m(*args, **kwargs)\u001b[0m\n\u001b[0;32m     65\u001b[0m     \u001b[1;32mexcept\u001b[0m \u001b[0mException\u001b[0m \u001b[1;32mas\u001b[0m \u001b[0me\u001b[0m\u001b[1;33m:\u001b[0m  \u001b[1;31m# pylint: disable=broad-except\u001b[0m\u001b[1;33m\u001b[0m\u001b[1;33m\u001b[0m\u001b[0m\n\u001b[0;32m     66\u001b[0m       \u001b[0mfiltered_tb\u001b[0m \u001b[1;33m=\u001b[0m \u001b[0m_process_traceback_frames\u001b[0m\u001b[1;33m(\u001b[0m\u001b[0me\u001b[0m\u001b[1;33m.\u001b[0m\u001b[0m__traceback__\u001b[0m\u001b[1;33m)\u001b[0m\u001b[1;33m\u001b[0m\u001b[1;33m\u001b[0m\u001b[0m\n\u001b[1;32m---> 67\u001b[1;33m       \u001b[1;32mraise\u001b[0m \u001b[0me\u001b[0m\u001b[1;33m.\u001b[0m\u001b[0mwith_traceback\u001b[0m\u001b[1;33m(\u001b[0m\u001b[0mfiltered_tb\u001b[0m\u001b[1;33m)\u001b[0m \u001b[1;32mfrom\u001b[0m \u001b[1;32mNone\u001b[0m\u001b[1;33m\u001b[0m\u001b[1;33m\u001b[0m\u001b[0m\n\u001b[0m\u001b[0;32m     68\u001b[0m     \u001b[1;32mfinally\u001b[0m\u001b[1;33m:\u001b[0m\u001b[1;33m\u001b[0m\u001b[1;33m\u001b[0m\u001b[0m\n\u001b[0;32m     69\u001b[0m       \u001b[1;32mdel\u001b[0m \u001b[0mfiltered_tb\u001b[0m\u001b[1;33m\u001b[0m\u001b[1;33m\u001b[0m\u001b[0m\n",
      "\u001b[1;32mc:\\ProgramData\\Anaconda3\\lib\\site-packages\\tensorflow\\python\\eager\\execute.py\u001b[0m in \u001b[0;36mquick_execute\u001b[1;34m(op_name, num_outputs, inputs, attrs, ctx, name)\u001b[0m\n\u001b[0;32m     52\u001b[0m   \u001b[1;32mtry\u001b[0m\u001b[1;33m:\u001b[0m\u001b[1;33m\u001b[0m\u001b[1;33m\u001b[0m\u001b[0m\n\u001b[0;32m     53\u001b[0m     \u001b[0mctx\u001b[0m\u001b[1;33m.\u001b[0m\u001b[0mensure_initialized\u001b[0m\u001b[1;33m(\u001b[0m\u001b[1;33m)\u001b[0m\u001b[1;33m\u001b[0m\u001b[1;33m\u001b[0m\u001b[0m\n\u001b[1;32m---> 54\u001b[1;33m     tensors = pywrap_tfe.TFE_Py_Execute(ctx._handle, device_name, op_name,\n\u001b[0m\u001b[0;32m     55\u001b[0m                                         inputs, attrs, num_outputs)\n\u001b[0;32m     56\u001b[0m   \u001b[1;32mexcept\u001b[0m \u001b[0mcore\u001b[0m\u001b[1;33m.\u001b[0m\u001b[0m_NotOkStatusException\u001b[0m \u001b[1;32mas\u001b[0m \u001b[0me\u001b[0m\u001b[1;33m:\u001b[0m\u001b[1;33m\u001b[0m\u001b[1;33m\u001b[0m\u001b[0m\n",
      "\u001b[1;31mInvalidArgumentError\u001b[0m: Graph execution error:\n\nDetected at node 'IteratorGetNext' defined at (most recent call last):\n    File \"c:\\ProgramData\\Anaconda3\\lib\\runpy.py\", line 197, in _run_module_as_main\n      return _run_code(code, main_globals, None,\n    File \"c:\\ProgramData\\Anaconda3\\lib\\runpy.py\", line 87, in _run_code\n      exec(code, run_globals)\n    File \"c:\\ProgramData\\Anaconda3\\lib\\site-packages\\ipykernel_launcher.py\", line 16, in <module>\n      app.launch_new_instance()\n    File \"c:\\ProgramData\\Anaconda3\\lib\\site-packages\\traitlets\\config\\application.py\", line 846, in launch_instance\n      app.start()\n    File \"c:\\ProgramData\\Anaconda3\\lib\\site-packages\\ipykernel\\kernelapp.py\", line 677, in start\n      self.io_loop.start()\n    File \"c:\\ProgramData\\Anaconda3\\lib\\site-packages\\tornado\\platform\\asyncio.py\", line 199, in start\n      self.asyncio_loop.run_forever()\n    File \"c:\\ProgramData\\Anaconda3\\lib\\asyncio\\base_events.py\", line 596, in run_forever\n      self._run_once()\n    File \"c:\\ProgramData\\Anaconda3\\lib\\asyncio\\base_events.py\", line 1890, in _run_once\n      handle._run()\n    File \"c:\\ProgramData\\Anaconda3\\lib\\asyncio\\events.py\", line 80, in _run\n      self._context.run(self._callback, *self._args)\n    File \"c:\\ProgramData\\Anaconda3\\lib\\site-packages\\ipykernel\\kernelbase.py\", line 457, in dispatch_queue\n      await self.process_one()\n    File \"c:\\ProgramData\\Anaconda3\\lib\\site-packages\\ipykernel\\kernelbase.py\", line 446, in process_one\n      await dispatch(*args)\n    File \"c:\\ProgramData\\Anaconda3\\lib\\site-packages\\ipykernel\\kernelbase.py\", line 353, in dispatch_shell\n      await result\n    File \"c:\\ProgramData\\Anaconda3\\lib\\site-packages\\ipykernel\\kernelbase.py\", line 648, in execute_request\n      reply_content = await reply_content\n    File \"c:\\ProgramData\\Anaconda3\\lib\\site-packages\\ipykernel\\ipkernel.py\", line 353, in do_execute\n      res = shell.run_cell(code, store_history=store_history, silent=silent)\n    File \"c:\\ProgramData\\Anaconda3\\lib\\site-packages\\ipykernel\\zmqshell.py\", line 533, in run_cell\n      return super(ZMQInteractiveShell, self).run_cell(*args, **kwargs)\n    File \"c:\\ProgramData\\Anaconda3\\lib\\site-packages\\IPython\\core\\interactiveshell.py\", line 2901, in run_cell\n      result = self._run_cell(\n    File \"c:\\ProgramData\\Anaconda3\\lib\\site-packages\\IPython\\core\\interactiveshell.py\", line 2947, in _run_cell\n      return runner(coro)\n    File \"c:\\ProgramData\\Anaconda3\\lib\\site-packages\\IPython\\core\\async_helpers.py\", line 68, in _pseudo_sync_runner\n      coro.send(None)\n    File \"c:\\ProgramData\\Anaconda3\\lib\\site-packages\\IPython\\core\\interactiveshell.py\", line 3172, in run_cell_async\n      has_raised = await self.run_ast_nodes(code_ast.body, cell_name,\n    File \"c:\\ProgramData\\Anaconda3\\lib\\site-packages\\IPython\\core\\interactiveshell.py\", line 3364, in run_ast_nodes\n      if (await self.run_code(code, result,  async_=asy)):\n    File \"c:\\ProgramData\\Anaconda3\\lib\\site-packages\\IPython\\core\\interactiveshell.py\", line 3444, in run_code\n      exec(code_obj, self.user_global_ns, self.user_ns)\n    File \"C:\\Users\\gianl\\AppData\\Local\\Temp/ipykernel_3268/3751188769.py\", line 1, in <module>\n      history_ResNet2_spatial_stream = model.fit(train_ds,\n    File \"c:\\ProgramData\\Anaconda3\\lib\\site-packages\\keras\\utils\\traceback_utils.py\", line 64, in error_handler\n      return fn(*args, **kwargs)\n    File \"c:\\ProgramData\\Anaconda3\\lib\\site-packages\\keras\\engine\\training.py\", line 1409, in fit\n      tmp_logs = self.train_function(iterator)\n    File \"c:\\ProgramData\\Anaconda3\\lib\\site-packages\\keras\\engine\\training.py\", line 1051, in train_function\n      return step_function(self, iterator)\n    File \"c:\\ProgramData\\Anaconda3\\lib\\site-packages\\keras\\engine\\training.py\", line 1039, in step_function\n      data = next(iterator)\nNode: 'IteratorGetNext'\nDetected at node 'IteratorGetNext' defined at (most recent call last):\n    File \"c:\\ProgramData\\Anaconda3\\lib\\runpy.py\", line 197, in _run_module_as_main\n      return _run_code(code, main_globals, None,\n    File \"c:\\ProgramData\\Anaconda3\\lib\\runpy.py\", line 87, in _run_code\n      exec(code, run_globals)\n    File \"c:\\ProgramData\\Anaconda3\\lib\\site-packages\\ipykernel_launcher.py\", line 16, in <module>\n      app.launch_new_instance()\n    File \"c:\\ProgramData\\Anaconda3\\lib\\site-packages\\traitlets\\config\\application.py\", line 846, in launch_instance\n      app.start()\n    File \"c:\\ProgramData\\Anaconda3\\lib\\site-packages\\ipykernel\\kernelapp.py\", line 677, in start\n      self.io_loop.start()\n    File \"c:\\ProgramData\\Anaconda3\\lib\\site-packages\\tornado\\platform\\asyncio.py\", line 199, in start\n      self.asyncio_loop.run_forever()\n    File \"c:\\ProgramData\\Anaconda3\\lib\\asyncio\\base_events.py\", line 596, in run_forever\n      self._run_once()\n    File \"c:\\ProgramData\\Anaconda3\\lib\\asyncio\\base_events.py\", line 1890, in _run_once\n      handle._run()\n    File \"c:\\ProgramData\\Anaconda3\\lib\\asyncio\\events.py\", line 80, in _run\n      self._context.run(self._callback, *self._args)\n    File \"c:\\ProgramData\\Anaconda3\\lib\\site-packages\\ipykernel\\kernelbase.py\", line 457, in dispatch_queue\n      await self.process_one()\n    File \"c:\\ProgramData\\Anaconda3\\lib\\site-packages\\ipykernel\\kernelbase.py\", line 446, in process_one\n      await dispatch(*args)\n    File \"c:\\ProgramData\\Anaconda3\\lib\\site-packages\\ipykernel\\kernelbase.py\", line 353, in dispatch_shell\n      await result\n    File \"c:\\ProgramData\\Anaconda3\\lib\\site-packages\\ipykernel\\kernelbase.py\", line 648, in execute_request\n      reply_content = await reply_content\n    File \"c:\\ProgramData\\Anaconda3\\lib\\site-packages\\ipykernel\\ipkernel.py\", line 353, in do_execute\n      res = shell.run_cell(code, store_history=store_history, silent=silent)\n    File \"c:\\ProgramData\\Anaconda3\\lib\\site-packages\\ipykernel\\zmqshell.py\", line 533, in run_cell\n      return super(ZMQInteractiveShell, self).run_cell(*args, **kwargs)\n    File \"c:\\ProgramData\\Anaconda3\\lib\\site-packages\\IPython\\core\\interactiveshell.py\", line 2901, in run_cell\n      result = self._run_cell(\n    File \"c:\\ProgramData\\Anaconda3\\lib\\site-packages\\IPython\\core\\interactiveshell.py\", line 2947, in _run_cell\n      return runner(coro)\n    File \"c:\\ProgramData\\Anaconda3\\lib\\site-packages\\IPython\\core\\async_helpers.py\", line 68, in _pseudo_sync_runner\n      coro.send(None)\n    File \"c:\\ProgramData\\Anaconda3\\lib\\site-packages\\IPython\\core\\interactiveshell.py\", line 3172, in run_cell_async\n      has_raised = await self.run_ast_nodes(code_ast.body, cell_name,\n    File \"c:\\ProgramData\\Anaconda3\\lib\\site-packages\\IPython\\core\\interactiveshell.py\", line 3364, in run_ast_nodes\n      if (await self.run_code(code, result,  async_=asy)):\n    File \"c:\\ProgramData\\Anaconda3\\lib\\site-packages\\IPython\\core\\interactiveshell.py\", line 3444, in run_code\n      exec(code_obj, self.user_global_ns, self.user_ns)\n    File \"C:\\Users\\gianl\\AppData\\Local\\Temp/ipykernel_3268/3751188769.py\", line 1, in <module>\n      history_ResNet2_spatial_stream = model.fit(train_ds,\n    File \"c:\\ProgramData\\Anaconda3\\lib\\site-packages\\keras\\utils\\traceback_utils.py\", line 64, in error_handler\n      return fn(*args, **kwargs)\n    File \"c:\\ProgramData\\Anaconda3\\lib\\site-packages\\keras\\engine\\training.py\", line 1409, in fit\n      tmp_logs = self.train_function(iterator)\n    File \"c:\\ProgramData\\Anaconda3\\lib\\site-packages\\keras\\engine\\training.py\", line 1051, in train_function\n      return step_function(self, iterator)\n    File \"c:\\ProgramData\\Anaconda3\\lib\\site-packages\\keras\\engine\\training.py\", line 1039, in step_function\n      data = next(iterator)\nNode: 'IteratorGetNext'\n2 root error(s) found.\n  (0) INVALID_ARGUMENT:  Cannot batch tensors with different shapes in component 0. First element had shape [240,320,3] and element 12 had shape [240,352,3].\n\t [[{{node IteratorGetNext}}]]\n\t [[IteratorGetNext/_2]]\n  (1) INVALID_ARGUMENT:  Cannot batch tensors with different shapes in component 0. First element had shape [240,320,3] and element 12 had shape [240,352,3].\n\t [[{{node IteratorGetNext}}]]\n0 successful operations.\n0 derived errors ignored. [Op:__inference_train_function_8957]"
     ]
    }
   ],
   "source": [
    "history_ResNet2_spatial_stream = model.fit(train_ds, \n",
    "                                        validation_data = val_ds, \n",
    "                                        batch_size=batch_size, \n",
    "                                        epochs=5, \n",
    "                                        steps_per_epoch=step_per_epoch_train, \n",
    "                                        validation_steps=step_per_epoch_val,\n",
    "                                        callbacks=[model_checkpoint_callback])"
   ]
  },
  {
   "cell_type": "code",
   "execution_count": 36,
   "id": "fc44b54f",
   "metadata": {},
   "outputs": [
    {
     "name": "stdout",
     "output_type": "stream",
     "text": [
      "406/406 [==============================] - 125s 308ms/step - loss: 2.7244 - sparse_categorical_accuracy: 0.3468 - sparse_top_k_categorical_accuracy: 0.6810\n",
      "Loss val: 2.724404811859131\n",
      "Sparse_categorical_accuracy: 0.3467518389225006\n",
      "Sparse_top_5_categorical_accuracy: 0.681034505367279\n"
     ]
    }
   ],
   "source": [
    "score = model.evaluate(val_ds, verbose=1, batch_size = batch_size, steps=step_per_epoch_val)\n",
    "print('Loss val:', score[0])\n",
    "print('Sparse_categorical_accuracy:', score[1])\n",
    "print('Sparse_top_5_categorical_accuracy:', score[2])"
   ]
  },
  {
   "cell_type": "code",
   "execution_count": 38,
   "id": "5e2084da",
   "metadata": {},
   "outputs": [
    {
     "data": {
      "image/png": "[encoded data removed]",
      "text/plain": [
       "<Figure size 432x288 with 1 Axes>"
      ]
     },
     "metadata": {
      "needs_background": "light"
     },
     "output_type": "display_data"
    }
   ],
   "source": [
    "fig2 = plt.gcf()\n",
    "plt.plot(history_ResNet2_spatial_stream.history['sparse_categorical_accuracy'])\n",
    "plt.plot(history_ResNet2_spatial_stream.history['val_sparse_categorical_accuracy'])\n",
    "plt.axis(ymin=0,ymax=1)\n",
    "plt.grid()\n",
    "plt.title('Model Accuracy')\n",
    "plt.ylabel('Accuracy')\n",
    "plt.xlabel('Epochs')\n",
    "plt.legend(['train', 'validation'])\n",
    "plt.savefig('./Plots/resnet2_1.png')\n",
    "plt.show()"
   ]
  },
  {
   "cell_type": "markdown",
   "id": "9e1ce681",
   "metadata": {},
   "source": [
    "# Full video evaluation"
   ]
  },
  {
   "cell_type": "code",
   "execution_count": 13,
   "id": "107228f1",
   "metadata": {},
   "outputs": [],
   "source": [
    "resnet_model = keras.models.load_model('./Models/spatial_model_finetuned_resnet_best.hdf5')"
   ]
  },
  {
   "cell_type": "code",
   "execution_count": null,
   "id": "fac249c9",
   "metadata": {},
   "outputs": [],
   "source": [
    "score = resnet_model.evaluate(val_ds, verbose=1, batch_size = batch_size, steps=step_per_epoch_val)\n",
    "print('Loss val:', score[0])\n",
    "print('Sparse_categorical_accuracy:', score[1])\n",
    "print('Sparse_top_5_categorical_accuracy:', score[2])"
   ]
  },
  {
   "cell_type": "code",
   "execution_count": 14,
   "id": "90236a4a",
   "metadata": {},
   "outputs": [],
   "source": [
    "class_ind = pd.read_csv(\"./data/hmdb51/annotations/classInd.txt\", sep=\" \", header=None)\n",
    "class_ind.columns = [\"class_ind\", \"class\"]\n",
    "class_ind['class_ind'] = class_ind['class_ind'] - 1\n",
    "class_ind.set_index('class_ind', inplace=True)\n",
    "class_ind.head(10)\n",
    "class_ind_copy = class_ind.copy()"
   ]
  },
  {
   "cell_type": "code",
   "execution_count": 15,
   "id": "396f82e0",
   "metadata": {},
   "outputs": [],
   "source": [
    "def find_paths(partition, type_frame):\n",
    "    if partition == 'train':\n",
    "        video_list = pd.read_csv(f'{path_annotations}/hmdb51_train_split_1_rawframes.txt', sep=\" \", header=None) #train\n",
    "        video_list.columns = [\"path\", \"num_frames_tot\", \"class\"]\n",
    "    elif partition == 'val':\n",
    "        video_list = pd.read_csv(f'{path_annotations}/hmdb51_val_split_1_rawframes.txt', sep=\" \", header=None) #test\n",
    "        video_list.columns = [\"path\", \"num_frames_tot\", \"class\"]\n",
    "    else:\n",
    "        raise Exception(\"invalid partition\")\n",
    "\n",
    "\n",
    "    paths = []\n",
    "    classes = []\n",
    "    for index, row in video_list.iterrows():\n",
    "        temp_path = row['path']\n",
    "        frame_list = os.listdir(os.path.join(f'./{temp_path}'))\n",
    "\n",
    "        frame_list_type = [i for i in frame_list if i.startswith(f'{type_frame}')]\n",
    "\n",
    "        filename = frame_list_type\n",
    "\n",
    "        paths.append([os.path.join('.\\\\', temp_path, file) for file in filename])\n",
    "        temp = [row['class']] * len(filename)\n",
    "        classes.append(temp)\n",
    "\n",
    "    return(paths, classes)"
   ]
  },
  {
   "cell_type": "code",
   "execution_count": 16,
   "id": "e82ef5bd",
   "metadata": {},
   "outputs": [],
   "source": [
    "filenames_img, labels = find_paths(partition='val', type_frame='img')"
   ]
  },
  {
   "cell_type": "code",
   "execution_count": 17,
   "id": "e3b07dcc",
   "metadata": {},
   "outputs": [
    {
     "name": "stdout",
     "output_type": "stream",
     "text": [
      "2/2 [==============================] - 5s 698ms/step\n",
      "0 / 1530\n",
      "5/5 [==============================] - 1s 242ms/step\n",
      "1 / 1530\n",
      "2/2 [==============================] - 1s 597ms/step\n",
      "2 / 1530\n",
      "3/3 [==============================] - 1s 499ms/step\n",
      "3 / 1530\n",
      "4/4 [==============================] - 1s 323ms/step\n",
      "4 / 1530\n",
      "4/4 [==============================] - 0s 140ms/step\n",
      "5 / 1530\n",
      "3/3 [==============================] - 1s 382ms/step\n",
      "6 / 1530\n",
      "3/3 [==============================] - 1s 488ms/step\n",
      "7 / 1530\n",
      "4/4 [==============================] - 0s 141ms/step\n",
      "8 / 1530\n",
      "2/2 [==============================] - 1s 1s/step\n",
      "9 / 1530\n",
      "3/3 [==============================] - 1s 566ms/step\n",
      "10 / 1530\n",
      "2/2 [==============================] - 1s 846ms/step\n",
      "11 / 1530\n",
      "10/10 [==============================] - 1s 143ms/step\n",
      "12 / 1530\n",
      "3/3 [==============================] - 0s 141ms/step\n",
      "13 / 1530\n",
      "4/4 [==============================] - 1s 359ms/step\n",
      "14 / 1530\n",
      "2/2 [==============================] - 1s 702ms/step\n",
      "15 / 1530\n",
      "3/3 [==============================] - 1s 652ms/step\n",
      "16 / 1530\n",
      "2/2 [==============================] - 1s 950ms/step\n",
      "17 / 1530\n",
      "3/3 [==============================] - 1s 457ms/step\n",
      "18 / 1530\n",
      "3/3 [==============================] - 0s 141ms/step\n",
      "19 / 1530\n",
      "2/2 [==============================] - 0s 139ms/step\n",
      "20 / 1530\n",
      "5/5 [==============================] - 1s 143ms/step\n",
      "21 / 1530\n",
      "3/3 [==============================] - 0s 141ms/step\n",
      "22 / 1530\n",
      "3/3 [==============================] - 0s 141ms/step\n",
      "23 / 1530\n",
      "8/8 [==============================] - 2s 220ms/step\n",
      "24 / 1530\n",
      "3/3 [==============================] - 1s 477ms/step\n",
      "25 / 1530\n",
      "2/2 [==============================] - 0s 138ms/step\n",
      "26 / 1530\n",
      "5/5 [==============================] - 1s 143ms/step\n",
      "27 / 1530\n",
      "4/4 [==============================] - 0s 142ms/step\n",
      "28 / 1530\n",
      "2/2 [==============================] - 0s 141ms/step\n",
      "29 / 1530\n",
      "2/2 [==============================] - 0s 141ms/step\n",
      "30 / 1530\n",
      "2/2 [==============================] - 0s 139ms/step\n",
      "31 / 1530\n",
      "3/3 [==============================] - 0s 143ms/step\n",
      "32 / 1530\n",
      "3/3 [==============================] - 0s 142ms/step\n",
      "33 / 1530\n",
      "2/2 [==============================] - 0s 140ms/step\n",
      "34 / 1530\n",
      "3/3 [==============================] - 0s 142ms/step\n",
      "35 / 1530\n",
      "3/3 [==============================] - 0s 143ms/step\n",
      "36 / 1530\n",
      "3/3 [==============================] - 0s 143ms/step\n",
      "37 / 1530\n",
      "2/2 [==============================] - 1s 1s/step\n",
      "38 / 1530\n",
      "3/3 [==============================] - 0s 144ms/step\n",
      "39 / 1530\n",
      "2/2 [==============================] - 1s 1s/step\n",
      "40 / 1530\n",
      "3/3 [==============================] - 0s 149ms/step\n",
      "41 / 1530\n",
      "1/1 [==============================] - 1s 998ms/step\n",
      "42 / 1530\n",
      "2/2 [==============================] - 1s 1s/step\n",
      "43 / 1530\n",
      "4/4 [==============================] - 0s 148ms/step\n",
      "44 / 1530\n",
      "2/2 [==============================] - 1s 1s/step\n",
      "45 / 1530\n",
      "3/3 [==============================] - 1s 714ms/step\n",
      "46 / 1530\n",
      "2/2 [==============================] - 1s 725ms/step\n",
      "47 / 1530\n",
      "4/4 [==============================] - 0s 150ms/step\n",
      "48 / 1530\n",
      "5/5 [==============================] - 1s 151ms/step\n",
      "49 / 1530\n",
      "4/4 [==============================] - 0s 147ms/step\n",
      "50 / 1530\n",
      "3/3 [==============================] - 0s 151ms/step\n",
      "51 / 1530\n",
      "3/3 [==============================] - 0s 150ms/step\n",
      "52 / 1530\n",
      "2/2 [==============================] - 0s 147ms/step\n",
      "53 / 1530\n",
      "3/3 [==============================] - 0s 149ms/step\n",
      "54 / 1530\n",
      "3/3 [==============================] - 0s 151ms/step\n",
      "55 / 1530\n",
      "2/2 [==============================] - 0s 149ms/step\n",
      "56 / 1530\n",
      "3/3 [==============================] - 0s 152ms/step\n",
      "57 / 1530\n",
      "4/4 [==============================] - 0s 153ms/step\n",
      "58 / 1530\n",
      "3/3 [==============================] - 0s 152ms/step\n",
      "59 / 1530\n",
      "1/1 [==============================] - 1s 1s/step\n",
      "60 / 1530\n",
      "5/5 [==============================] - 1s 153ms/step\n",
      "61 / 1530\n",
      "3/3 [==============================] - 1s 728ms/step\n",
      "62 / 1530\n",
      "2/2 [==============================] - 0s 148ms/step\n",
      "63 / 1530\n",
      "3/3 [==============================] - 0s 151ms/step\n",
      "64 / 1530\n",
      "3/3 [==============================] - 0s 151ms/step\n",
      "65 / 1530\n",
      "3/3 [==============================] - 0s 153ms/step\n",
      "66 / 1530\n",
      "3/3 [==============================] - 0s 153ms/step\n",
      "67 / 1530\n",
      "2/2 [==============================] - 0s 148ms/step\n",
      "68 / 1530\n",
      "3/3 [==============================] - 0s 151ms/step\n",
      "69 / 1530\n",
      "3/3 [==============================] - 0s 154ms/step\n",
      "70 / 1530\n",
      "4/4 [==============================] - 1s 154ms/step\n",
      "71 / 1530\n",
      "5/5 [==============================] - 1s 153ms/step\n",
      "72 / 1530\n",
      "2/2 [==============================] - 0s 148ms/step\n",
      "73 / 1530\n",
      "3/3 [==============================] - 0s 152ms/step\n",
      "74 / 1530\n",
      "3/3 [==============================] - 0s 152ms/step\n",
      "75 / 1530\n",
      "3/3 [==============================] - 0s 153ms/step\n",
      "76 / 1530\n",
      "3/3 [==============================] - 0s 152ms/step\n",
      "77 / 1530\n",
      "3/3 [==============================] - 0s 152ms/step\n",
      "78 / 1530\n",
      "3/3 [==============================] - 0s 154ms/step\n",
      "79 / 1530\n",
      "3/3 [==============================] - 0s 152ms/step\n",
      "80 / 1530\n",
      "4/4 [==============================] - 1s 392ms/step\n",
      "81 / 1530\n",
      "2/2 [==============================] - 0s 151ms/step\n",
      "82 / 1530\n",
      "3/3 [==============================] - 0s 153ms/step\n",
      "83 / 1530\n",
      "1/1 [==============================] - 1s 1s/step\n",
      "84 / 1530\n",
      "3/3 [==============================] - 0s 154ms/step\n",
      "85 / 1530\n",
      "3/3 [==============================] - 0s 153ms/step\n",
      "86 / 1530\n",
      "11/11 [==============================] - 2s 154ms/step\n",
      "87 / 1530\n",
      "3/3 [==============================] - 0s 154ms/step\n",
      "88 / 1530\n",
      "4/4 [==============================] - 0s 154ms/step\n",
      "89 / 1530\n",
      "8/8 [==============================] - 2s 282ms/step\n",
      "90 / 1530\n",
      "3/3 [==============================] - 0s 152ms/step\n",
      "91 / 1530\n",
      "3/3 [==============================] - 0s 153ms/step\n",
      "92 / 1530\n",
      "2/2 [==============================] - 0s 152ms/step\n",
      "93 / 1530\n",
      "5/5 [==============================] - 1s 154ms/step\n",
      "94 / 1530\n",
      "2/2 [==============================] - 0s 153ms/step\n",
      "95 / 1530\n",
      "4/4 [==============================] - 0s 153ms/step\n",
      "96 / 1530\n",
      "5/5 [==============================] - 1s 154ms/step\n",
      "97 / 1530\n",
      "2/2 [==============================] - 0s 150ms/step\n",
      "98 / 1530\n",
      "3/3 [==============================] - 0s 154ms/step\n",
      "99 / 1530\n",
      "4/4 [==============================] - 0s 152ms/step\n",
      "100 / 1530\n",
      "8/8 [==============================] - 1s 154ms/step\n",
      "101 / 1530\n",
      "3/3 [==============================] - 0s 152ms/step\n",
      "102 / 1530\n",
      "4/4 [==============================] - 0s 153ms/step\n",
      "103 / 1530\n",
      "1/1 [==============================] - 0s 28ms/step\n",
      "104 / 1530\n",
      "2/2 [==============================] - 0s 149ms/step\n",
      "105 / 1530\n",
      "4/4 [==============================] - 0s 155ms/step\n",
      "106 / 1530\n",
      "2/2 [==============================] - 0s 151ms/step\n",
      "107 / 1530\n",
      "1/1 [==============================] - 0s 28ms/step\n",
      "108 / 1530\n",
      "3/3 [==============================] - 0s 152ms/step\n",
      "109 / 1530\n",
      "3/3 [==============================] - 0s 153ms/step\n",
      "110 / 1530\n",
      "3/3 [==============================] - 0s 152ms/step\n",
      "111 / 1530\n",
      "4/4 [==============================] - 0s 153ms/step\n",
      "112 / 1530\n",
      "2/2 [==============================] - 0s 151ms/step\n",
      "113 / 1530\n",
      "2/2 [==============================] - 0s 149ms/step\n",
      "114 / 1530\n",
      "3/3 [==============================] - 0s 153ms/step\n",
      "115 / 1530\n",
      "3/3 [==============================] - 0s 152ms/step\n",
      "116 / 1530\n",
      "9/9 [==============================] - 1s 154ms/step\n",
      "117 / 1530\n",
      "3/3 [==============================] - 0s 152ms/step\n",
      "118 / 1530\n",
      "6/6 [==============================] - 1s 153ms/step\n",
      "119 / 1530\n",
      "3/3 [==============================] - 0s 150ms/step\n",
      "120 / 1530\n",
      "3/3 [==============================] - 0s 150ms/step\n",
      "121 / 1530\n",
      "3/3 [==============================] - 0s 149ms/step\n",
      "122 / 1530\n",
      "3/3 [==============================] - 0s 150ms/step\n",
      "123 / 1530\n",
      "1/1 [==============================] - 0s 29ms/step\n",
      "124 / 1530\n",
      "3/3 [==============================] - 0s 148ms/step\n",
      "125 / 1530\n",
      "7/7 [==============================] - 1s 151ms/step\n",
      "126 / 1530\n",
      "3/3 [==============================] - 0s 142ms/step\n",
      "127 / 1530\n",
      "7/7 [==============================] - 1s 152ms/step\n",
      "128 / 1530\n",
      "4/4 [==============================] - 0s 149ms/step\n",
      "129 / 1530\n",
      "2/2 [==============================] - 1s 940ms/step\n",
      "130 / 1530\n",
      "3/3 [==============================] - 0s 145ms/step\n",
      "131 / 1530\n",
      "4/4 [==============================] - 0s 150ms/step\n",
      "132 / 1530\n",
      "2/2 [==============================] - 1s 668ms/step\n",
      "133 / 1530\n",
      "4/4 [==============================] - 0s 145ms/step\n",
      "134 / 1530\n",
      "2/2 [==============================] - 0s 138ms/step\n",
      "135 / 1530\n",
      "2/2 [==============================] - 0s 140ms/step\n",
      "136 / 1530\n",
      "4/4 [==============================] - 0s 147ms/step\n",
      "137 / 1530\n",
      "3/3 [==============================] - 0s 143ms/step\n",
      "138 / 1530\n",
      "3/3 [==============================] - 0s 143ms/step\n",
      "139 / 1530\n",
      "3/3 [==============================] - 0s 146ms/step\n",
      "140 / 1530\n",
      "2/2 [==============================] - 0s 139ms/step\n",
      "141 / 1530\n",
      "14/14 [==============================] - 2s 144ms/step\n",
      "142 / 1530\n",
      "3/3 [==============================] - 0s 141ms/step\n",
      "143 / 1530\n",
      "3/3 [==============================] - 0s 141ms/step\n",
      "144 / 1530\n",
      "3/3 [==============================] - 0s 142ms/step\n",
      "145 / 1530\n",
      "1/1 [==============================] - 0s 37ms/step\n",
      "146 / 1530\n",
      "2/2 [==============================] - 0s 138ms/step\n",
      "147 / 1530\n",
      "2/2 [==============================] - 0s 142ms/step\n",
      "148 / 1530\n",
      "2/2 [==============================] - 0s 142ms/step\n",
      "149 / 1530\n",
      "3/3 [==============================] - 0s 142ms/step\n",
      "150 / 1530\n",
      "3/3 [==============================] - 0s 142ms/step\n",
      "151 / 1530\n",
      "3/3 [==============================] - 0s 141ms/step\n",
      "152 / 1530\n",
      "2/2 [==============================] - 0s 139ms/step\n",
      "153 / 1530\n",
      "2/2 [==============================] - 0s 131ms/step\n",
      "154 / 1530\n",
      "3/3 [==============================] - 0s 142ms/step\n",
      "155 / 1530\n",
      "3/3 [==============================] - 0s 143ms/step\n",
      "156 / 1530\n",
      "3/3 [==============================] - 0s 142ms/step\n",
      "157 / 1530\n",
      "4/4 [==============================] - 0s 141ms/step\n",
      "158 / 1530\n",
      "6/6 [==============================] - 1s 144ms/step\n",
      "159 / 1530\n",
      "3/3 [==============================] - 0s 141ms/step\n",
      "160 / 1530\n",
      "11/11 [==============================] - 2s 152ms/step\n",
      "161 / 1530\n",
      "4/4 [==============================] - 0s 141ms/step\n",
      "162 / 1530\n",
      "4/4 [==============================] - 0s 142ms/step\n",
      "163 / 1530\n",
      "4/4 [==============================] - 0s 142ms/step\n",
      "164 / 1530\n",
      "3/3 [==============================] - 0s 141ms/step\n",
      "165 / 1530\n",
      "2/2 [==============================] - 0s 140ms/step\n",
      "166 / 1530\n",
      "4/4 [==============================] - 0s 141ms/step\n",
      "167 / 1530\n",
      "1/1 [==============================] - 0s 33ms/step\n",
      "168 / 1530\n",
      "2/2 [==============================] - 0s 137ms/step\n",
      "169 / 1530\n",
      "2/2 [==============================] - 0s 140ms/step\n",
      "170 / 1530\n",
      "3/3 [==============================] - 0s 141ms/step\n",
      "171 / 1530\n",
      "2/2 [==============================] - 0s 139ms/step\n",
      "172 / 1530\n",
      "6/6 [==============================] - 1s 143ms/step\n",
      "173 / 1530\n",
      "2/2 [==============================] - 0s 139ms/step\n",
      "174 / 1530\n",
      "2/2 [==============================] - 0s 138ms/step\n",
      "175 / 1530\n",
      "10/10 [==============================] - 1s 144ms/step\n",
      "176 / 1530\n",
      "2/2 [==============================] - 0s 142ms/step\n",
      "177 / 1530\n",
      "2/2 [==============================] - 0s 142ms/step\n",
      "178 / 1530\n",
      "3/3 [==============================] - 0s 141ms/step\n",
      "179 / 1530\n",
      "3/3 [==============================] - 0s 142ms/step\n",
      "180 / 1530\n",
      "3/3 [==============================] - 0s 141ms/step\n",
      "181 / 1530\n",
      "3/3 [==============================] - 0s 142ms/step\n",
      "182 / 1530\n",
      "3/3 [==============================] - 0s 142ms/step\n",
      "183 / 1530\n",
      "3/3 [==============================] - 0s 142ms/step\n",
      "184 / 1530\n",
      "5/5 [==============================] - 1s 144ms/step\n",
      "185 / 1530\n",
      "1/1 [==============================] - 0s 38ms/step\n",
      "186 / 1530\n",
      "3/3 [==============================] - 0s 142ms/step\n",
      "187 / 1530\n",
      "1/1 [==============================] - 0s 35ms/step\n",
      "188 / 1530\n",
      "2/2 [==============================] - 0s 141ms/step\n",
      "189 / 1530\n",
      "4/4 [==============================] - 0s 141ms/step\n",
      "190 / 1530\n",
      "3/3 [==============================] - 0s 141ms/step\n",
      "191 / 1530\n",
      "3/3 [==============================] - 0s 141ms/step\n",
      "192 / 1530\n",
      "3/3 [==============================] - 0s 141ms/step\n",
      "193 / 1530\n",
      "3/3 [==============================] - 0s 142ms/step\n",
      "194 / 1530\n",
      "4/4 [==============================] - 0s 141ms/step\n",
      "195 / 1530\n",
      "3/3 [==============================] - 0s 142ms/step\n",
      "196 / 1530\n",
      "3/3 [==============================] - 0s 141ms/step\n",
      "197 / 1530\n",
      "2/2 [==============================] - 0s 140ms/step\n",
      "198 / 1530\n",
      "3/3 [==============================] - 0s 140ms/step\n",
      "199 / 1530\n"
     ]
    }
   ],
   "source": [
    "# ------ all in one (for loop)\n",
    "#random_video_frames_path = random.choice(filenames_img)\n",
    "\n",
    "from imgaug import augmenters as iaa\n",
    "\n",
    "random.shuffle(filenames_img)\n",
    "top1 = 0\n",
    "top5 = 0\n",
    "miss = 0\n",
    "\n",
    "\n",
    "for count, video_frames_path in enumerate(filenames_img[:200]):\n",
    "\n",
    "    #print(len(video_frames_path))\n",
    "    class_ind = class_ind_copy.copy()\n",
    "\n",
    "    original_rgb_frames = []\n",
    "\n",
    "    for frame in video_frames_path:\n",
    "        original_rgb_frames.append(cv2.imread(frame, cv2.IMREAD_UNCHANGED))\n",
    "\n",
    "    # generate spatial batch as done in the dataloader\n",
    "    spatial_batch_temp = []\n",
    "    for image in original_rgb_frames:\n",
    "        spatial_batch_temp.append(cv2.cvtColor(image, cv2.COLOR_BGR2RGB))\n",
    "        #spatial_batch_temp.append(image) - [103.939, 116.779, 123.68]) #peggiora se non si fa BGR2RGB e se si toglie la media\n",
    "\n",
    "    # image resize augmenter to be fed into the network\n",
    "    \n",
    "    augmenter = iaa.Sequential([\n",
    "        iaa.Resize((img_height, img_width))\n",
    "        #iaa.CropToFixedSize(img_height, img_width)\n",
    "    ])\n",
    "    spatial_batch = np.array(augmenter.augment_images(spatial_batch_temp), dtype=np.float32)# /255.0\n",
    "\n",
    "    true_class = video_frames_path[0].split('\\\\')[4]\n",
    "    #print(true_class)\n",
    "\n",
    "    # predict spatial stream output\n",
    "    try:\n",
    "        spatial_pred = resnet_model.predict(spatial_batch)\n",
    "    except:\n",
    "        print('saltatoooooo')\n",
    "    spatial_classes = np.argsort(spatial_pred,axis=1)#[:,:-6:-1]\n",
    "    spatial_scores = np.sort(spatial_pred,axis=1)#[:,:-6:-1]\n",
    "\n",
    "    spatial_sorted = []\n",
    "\n",
    "    for spatial_class, spacial_score in zip(spatial_classes, spatial_scores):\n",
    "        zipped = zip(spatial_class, spacial_score)\n",
    "        spatial_sorted.append(sorted(zipped, key=lambda x: x[0]))\n",
    "\n",
    "    avg_scores = np.average(spatial_sorted, axis=0)\n",
    "    class_ind['percentage'] = round(pd.Series(avg_scores[:,1])*100, 1)\n",
    "    class_ind.sort_values('percentage', ascending=False, inplace=True)\n",
    "    class_ind = class_ind.head(5)\n",
    "    class_ind.reset_index('class_ind', inplace = True)\n",
    "\n",
    "\n",
    "    if class_ind.loc[0]['class'] == true_class:\n",
    "        #print('top 1')\n",
    "        top1 += 1\n",
    "    elif true_class in class_ind['class'].tolist():\n",
    "        #print('top 5')\n",
    "        top5 += 1\n",
    "    else:\n",
    "        #print('niente')\n",
    "        miss += 1\n",
    "    print(count,'/',len(filenames_img))"
   ]
  },
  {
   "cell_type": "code",
   "execution_count": 18,
   "id": "35df26e4",
   "metadata": {},
   "outputs": [
    {
     "name": "stdout",
     "output_type": "stream",
     "text": [
      "199 200\n",
      "90 67 43\n"
     ]
    }
   ],
   "source": [
    "print(count, top1+top5+miss)\n",
    "print(top1, top5, miss)"
   ]
  },
  {
   "cell_type": "code",
   "execution_count": 19,
   "id": "2b549d19",
   "metadata": {},
   "outputs": [
    {
     "name": "stdout",
     "output_type": "stream",
     "text": [
      "0.45 0.785\n"
     ]
    }
   ],
   "source": [
    "print(top1/(count+1), (top1+top5)/(count+1))"
   ]
  },
  {
   "cell_type": "code",
   "execution_count": 168,
   "id": "0e8069fe",
   "metadata": {},
   "outputs": [],
   "source": [
    "# load frames of random video\n",
    "from ctypes import resize\n",
    "\n",
    "random_video_frames_path = random.choice(filenames_img)"
   ]
  },
  {
   "cell_type": "code",
   "execution_count": 169,
   "id": "79e9db2b",
   "metadata": {},
   "outputs": [],
   "source": [
    "original_rgb_frames = []\n",
    "\n",
    "for frame in random_video_frames_path:\n",
    "    original_rgb_frames.append(cv2.imread(frame, cv2.IMREAD_UNCHANGED))\n",
    "\n",
    "\n",
    "# generate spatial batch as done in the dataloader\n",
    "spatial_batch_temp = []\n",
    "for image in original_rgb_frames:\n",
    "    spatial_batch_temp.append(cv2.cvtColor(image, cv2.COLOR_BGR2RGB))\n",
    "    #spatial_batch_temp.append(image) - [103.939, 116.779, 123.68]) #peggiora se non si fa BGR2RGB e se si toglie la media\n",
    "\n"
   ]
  },
  {
   "cell_type": "code",
   "execution_count": 170,
   "id": "e5dc6341",
   "metadata": {},
   "outputs": [],
   "source": [
    "# image resize augmenter to be fed into the network\n",
    "from imgaug import augmenters as iaa\n",
    "augmenter = iaa.Sequential([\n",
    "    iaa.Resize((img_height, img_width))\n",
    "    #iaa.CropToFixedSize(img_height, img_width)\n",
    "])\n",
    "spatial_batch = np.array(augmenter.augment_images(spatial_batch_temp), dtype=np.float32)# /255.0"
   ]
  },
  {
   "cell_type": "code",
   "execution_count": 171,
   "id": "bfbdc1ee",
   "metadata": {},
   "outputs": [
    {
     "name": "stdout",
     "output_type": "stream",
     "text": [
      "Class:  ride_bike\n"
     ]
    },
    {
     "data": {
      "text/plain": [
       "<matplotlib.image.AxesImage at 0x1e28476bbe0>"
      ]
     },
     "execution_count": 171,
     "metadata": {},
     "output_type": "execute_result"
    },
    {
     "data": {
      "image/png": "[encoded data removed]",
      "text/plain": [
       "<Figure size 432x288 with 1 Axes>"
      ]
     },
     "metadata": {
      "needs_background": "light"
     },
     "output_type": "display_data"
    }
   ],
   "source": [
    "print('Class: ', random_video_frames_path[0].split('\\\\')[4])\n",
    "plt.imshow(spatial_batch[0]/255)"
   ]
  },
  {
   "cell_type": "code",
   "execution_count": 172,
   "id": "f526b20b",
   "metadata": {},
   "outputs": [
    {
     "name": "stdout",
     "output_type": "stream",
     "text": [
      "3/3 [==============================] - 1s 258ms/step\n"
     ]
    }
   ],
   "source": [
    "# predict spatial stream output\n",
    "spatial_pred = resnet_model.predict(spatial_batch)\n",
    "spatial_classes = np.argsort(spatial_pred,axis=1)#[:,:-6:-1]\n",
    "spatial_scores = np.sort(spatial_pred,axis=1)#[:,:-6:-1]\n",
    "\n",
    "spatial_sorted = []\n",
    "\n",
    "for spatial_class, spacial_score in zip(spatial_classes, spatial_scores):\n",
    "    zipped = zip(spatial_class, spacial_score)\n",
    "    spatial_sorted.append(sorted(zipped, key=lambda x: x[0]))"
   ]
  },
  {
   "cell_type": "code",
   "execution_count": 173,
   "id": "cfb3fac4",
   "metadata": {},
   "outputs": [
    {
     "data": {
      "text/html": [
       "<div>\n",
       "<style scoped>\n",
       "    .dataframe tbody tr th:only-of-type {\n",
       "        vertical-align: middle;\n",
       "    }\n",
       "\n",
       "    .dataframe tbody tr th {\n",
       "        vertical-align: top;\n",
       "    }\n",
       "\n",
       "    .dataframe thead th {\n",
       "        text-align: right;\n",
       "    }\n",
       "</style>\n",
       "<table border=\"1\" class=\"dataframe\">\n",
       "  <thead>\n",
       "    <tr style=\"text-align: right;\">\n",
       "      <th></th>\n",
       "      <th>class</th>\n",
       "      <th>percentage</th>\n",
       "    </tr>\n",
       "    <tr>\n",
       "      <th>class_ind</th>\n",
       "      <th></th>\n",
       "      <th></th>\n",
       "    </tr>\n",
       "  </thead>\n",
       "  <tbody>\n",
       "    <tr>\n",
       "      <th>30</th>\n",
       "      <td>ride_bike</td>\n",
       "      <td>87.5</td>\n",
       "    </tr>\n",
       "    <tr>\n",
       "      <th>28</th>\n",
       "      <td>push</td>\n",
       "      <td>2.9</td>\n",
       "    </tr>\n",
       "    <tr>\n",
       "      <th>24</th>\n",
       "      <td>pick</td>\n",
       "      <td>2.0</td>\n",
       "    </tr>\n",
       "    <tr>\n",
       "      <th>32</th>\n",
       "      <td>run</td>\n",
       "      <td>1.2</td>\n",
       "    </tr>\n",
       "    <tr>\n",
       "      <th>44</th>\n",
       "      <td>sword</td>\n",
       "      <td>1.1</td>\n",
       "    </tr>\n",
       "    <tr>\n",
       "      <th>41</th>\n",
       "      <td>somersault</td>\n",
       "      <td>0.9</td>\n",
       "    </tr>\n",
       "    <tr>\n",
       "      <th>47</th>\n",
       "      <td>throw</td>\n",
       "      <td>0.8</td>\n",
       "    </tr>\n",
       "    <tr>\n",
       "      <th>17</th>\n",
       "      <td>hit</td>\n",
       "      <td>0.5</td>\n",
       "    </tr>\n",
       "    <tr>\n",
       "      <th>9</th>\n",
       "      <td>dribble</td>\n",
       "      <td>0.4</td>\n",
       "    </tr>\n",
       "    <tr>\n",
       "      <th>21</th>\n",
       "      <td>kick_ball</td>\n",
       "      <td>0.4</td>\n",
       "    </tr>\n",
       "  </tbody>\n",
       "</table>\n",
       "</div>"
      ],
      "text/plain": [
       "                class  percentage\n",
       "class_ind                        \n",
       "30          ride_bike        87.5\n",
       "28               push         2.9\n",
       "24               pick         2.0\n",
       "32                run         1.2\n",
       "44              sword         1.1\n",
       "41         somersault         0.9\n",
       "47              throw         0.8\n",
       "17                hit         0.5\n",
       "9             dribble         0.4\n",
       "21          kick_ball         0.4"
      ]
     },
     "execution_count": 173,
     "metadata": {},
     "output_type": "execute_result"
    }
   ],
   "source": [
    "avg_scores = np.average(spatial_sorted, axis=0)\n",
    "class_ind['percentage'] = round(pd.Series(avg_scores[:,1])*100, 1)\n",
    "class_ind.sort_values('percentage', ascending=False, inplace=True)\n",
    "class_ind.head(10)"
   ]
  },
  {
   "cell_type": "code",
   "execution_count": 175,
   "id": "02c20720",
   "metadata": {},
   "outputs": [
    {
     "data": {
      "text/plain": [
       "'\\npredict motion stream output\\n\\nmotion_pred = motion_model_restored.predict(motion_batch)\\nmotion_classes = np.argsort(motion_pred,axis=1)[:,:-6:-1]\\nmotion_scores = np.sort(motion_pred,axis=1)[:,:-6:-1]\\n\\nget the average output prediction\\naverage_pred = motion_pred + spatial_pred[:motion_pred.shape[0],]\\naverage_classes = np.argsort(average_pred,axis=1)[:,:-6:-1]\\naverage_scores = np.sort(average_pred,axis=1)[:,:-6:-1]\\n'"
      ]
     },
     "execution_count": 175,
     "metadata": {},
     "output_type": "execute_result"
    }
   ],
   "source": [
    "# find path\n",
    "#filenames_flow_x, labels = find_paths(partition='val', type_frame='flow_x', num_frames_desired=num_frames_desired)\n",
    "#filenames_flow_y, labels = find_paths(partition='val', type_frame='flow_y', num_frames_desired=num_frames_desired)\n",
    "\n",
    "# optical flow\n",
    "'''\n",
    "# make the optical flow frames\n",
    "original_v_frames = []\n",
    "original_u_frames = []\n",
    "\n",
    "frames = list(map(lambda frame: cv2.cvtColor(frame, cv2.COLOR_BGR2GRAY).astype(np.float32) / 255.0, original_rgb_frames))\n",
    "optical_flow = cv2.optflow.DualTVL1OpticalFlow_create()\n",
    "\n",
    "for frame_index in range(len(frames) - 1):\n",
    "    if frame_index % 10 == 0:\n",
    "        print(\"processing tvl flow of frame \",frame_index)\n",
    "\n",
    "    flow = optical_flow.calc(frames[frame_index], frames[frame_index + 1], None)\n",
    "    u_frame = convert_to_image(flow[..., 0])\n",
    "    v_frame = convert_to_image(flow[..., 1])\n",
    "\n",
    "    original_v_frames.append(v_frame)\n",
    "    original_u_frames.append(u_frame)\n",
    "\n",
    "print(\"original_rgb_frames:\", len(original_rgb_frames), \"original_u_frames:\", len(original_u_frames), \"original_v_frames:\", len(original_v_frames))\n",
    "'''\n",
    "\n",
    "# generate motion batch as done in the dataloade\n",
    "\n",
    "'''\n",
    "motion_batch = []\n",
    "\n",
    "for first_optical_frame_id in range(len(original_u_frames) - stacked_frames):\n",
    "    motion_batch.append(  # append one sample which is (h,w,stacked*2)\n",
    "        stack_opticalflow(start_frame_index=first_optical_frame_id, stacked_frames=stacked_frames)\n",
    "    )\n",
    "motion_batch = np.array(augmenter.augment_images(motion_batch), dtype=np.float32) / 255.0\n",
    "'''\n",
    "\n",
    "\n",
    "#zipped\n",
    "\"\"\"\n",
    "predict motion stream output\n",
    "\n",
    "motion_pred = motion_model_restored.predict(motion_batch)\n",
    "motion_classes = np.argsort(motion_pred,axis=1)[:,:-6:-1]\n",
    "motion_scores = np.sort(motion_pred,axis=1)[:,:-6:-1]\n",
    "\n",
    "get the average output prediction\n",
    "average_pred = motion_pred + spatial_pred[:motion_pred.shape[0],]\n",
    "average_classes = np.argsort(average_pred,axis=1)[:,:-6:-1]\n",
    "average_scores = np.sort(average_pred,axis=1)[:,:-6:-1]\n",
    "\"\"\""
   ]
  },
  {
   "cell_type": "markdown",
   "id": "6f1f454b",
   "metadata": {},
   "source": [
    "# Animation creation"
   ]
  },
  {
   "cell_type": "code",
   "execution_count": 102,
   "id": "c5b285e9",
   "metadata": {},
   "outputs": [],
   "source": [
    "high_resolution_video = True # for good internet :D\n",
    "\n",
    "def make_bar_chart(classes,scores):\n",
    "    height = scores.tolist()\n",
    "    bars = [action_names[class_index] for class_index in classes]\n",
    "    y_pos = np.arange(len(bars))\n",
    "    \n",
    "    bar = plt.bar(y_pos, height, color=['yellow', 'red', 'green', 'blue', 'cyan'])\n",
    "    # plt.xticks(y_pos, bars, rotation=90) this will draw them below\n",
    "    # plt.tick_params(axis=\"x\",labelsize=10,direction=\"in\", pad=-15)\n",
    "    plt.ylim(top=1)  \n",
    "    plt.ylim(bottom=0) \n",
    "    \n",
    "    for bar_id,rect in enumerate(bar):\n",
    "        plt.text(rect.get_x() + rect.get_width()/2.0, .5, bars[bar_id], ha='center', va='center', rotation=75,fontdict={'fontsize': 13 if high_resolution_video else 10})"
   ]
  },
  {
   "cell_type": "code",
   "execution_count": 103,
   "id": "85c71205",
   "metadata": {},
   "outputs": [
    {
     "ename": "NameError",
     "evalue": "name 'bars' is not defined",
     "output_type": "error",
     "traceback": [
      "\u001b[1;31m---------------------------------------------------------------------------\u001b[0m",
      "\u001b[1;31mNameError\u001b[0m                                 Traceback (most recent call last)",
      "\u001b[1;32m~\\AppData\\Local\\Temp/ipykernel_20936/2084619823.py\u001b[0m in \u001b[0;36m<module>\u001b[1;34m\u001b[0m\n\u001b[1;32m----> 1\u001b[1;33m \u001b[0mmake_bar_chart\u001b[0m\u001b[1;33m(\u001b[0m\u001b[0mspatial_classes\u001b[0m\u001b[1;33m[\u001b[0m\u001b[1;36m0\u001b[0m\u001b[1;33m]\u001b[0m\u001b[1;33m,\u001b[0m\u001b[0mspatial_scores\u001b[0m\u001b[1;33m[\u001b[0m\u001b[1;36m0\u001b[0m\u001b[1;33m]\u001b[0m\u001b[1;33m)\u001b[0m\u001b[1;33m\u001b[0m\u001b[1;33m\u001b[0m\u001b[0m\n\u001b[0m",
      "\u001b[1;32m~\\AppData\\Local\\Temp/ipykernel_20936/195597558.py\u001b[0m in \u001b[0;36mmake_bar_chart\u001b[1;34m(classes, scores)\u001b[0m\n\u001b[0;32m      4\u001b[0m     \u001b[0mheight\u001b[0m \u001b[1;33m=\u001b[0m \u001b[0mscores\u001b[0m\u001b[1;33m.\u001b[0m\u001b[0mtolist\u001b[0m\u001b[1;33m(\u001b[0m\u001b[1;33m)\u001b[0m\u001b[1;33m\u001b[0m\u001b[1;33m\u001b[0m\u001b[0m\n\u001b[0;32m      5\u001b[0m     \u001b[1;31m#bars = [action_names[class_index] for class_index in classes]\u001b[0m\u001b[1;33m\u001b[0m\u001b[1;33m\u001b[0m\u001b[0m\n\u001b[1;32m----> 6\u001b[1;33m     \u001b[0my_pos\u001b[0m \u001b[1;33m=\u001b[0m \u001b[0mnp\u001b[0m\u001b[1;33m.\u001b[0m\u001b[0marange\u001b[0m\u001b[1;33m(\u001b[0m\u001b[0mlen\u001b[0m\u001b[1;33m(\u001b[0m\u001b[0mbars\u001b[0m\u001b[1;33m)\u001b[0m\u001b[1;33m)\u001b[0m\u001b[1;33m\u001b[0m\u001b[1;33m\u001b[0m\u001b[0m\n\u001b[0m\u001b[0;32m      7\u001b[0m \u001b[1;33m\u001b[0m\u001b[0m\n\u001b[0;32m      8\u001b[0m     \u001b[0mbar\u001b[0m \u001b[1;33m=\u001b[0m \u001b[0mplt\u001b[0m\u001b[1;33m.\u001b[0m\u001b[0mbar\u001b[0m\u001b[1;33m(\u001b[0m\u001b[0my_pos\u001b[0m\u001b[1;33m,\u001b[0m \u001b[0mheight\u001b[0m\u001b[1;33m,\u001b[0m \u001b[0mcolor\u001b[0m\u001b[1;33m=\u001b[0m\u001b[1;33m[\u001b[0m\u001b[1;34m'yellow'\u001b[0m\u001b[1;33m,\u001b[0m \u001b[1;34m'red'\u001b[0m\u001b[1;33m,\u001b[0m \u001b[1;34m'green'\u001b[0m\u001b[1;33m,\u001b[0m \u001b[1;34m'blue'\u001b[0m\u001b[1;33m,\u001b[0m \u001b[1;34m'cyan'\u001b[0m\u001b[1;33m]\u001b[0m\u001b[1;33m)\u001b[0m\u001b[1;33m\u001b[0m\u001b[1;33m\u001b[0m\u001b[0m\n",
      "\u001b[1;31mNameError\u001b[0m: name 'bars' is not defined"
     ]
    }
   ],
   "source": [
    "make_bar_chart(spatial_classes[0],spatial_scores[0])"
   ]
  },
  {
   "cell_type": "code",
   "execution_count": 67,
   "id": "75354ce8",
   "metadata": {},
   "outputs": [
    {
     "ename": "AssertionError",
     "evalue": "Unknown encoder extension: .gif",
     "output_type": "error",
     "traceback": [
      "\u001b[1;31m---------------------------------------------------------------------------\u001b[0m",
      "\u001b[1;31mAssertionError\u001b[0m                            Traceback (most recent call last)",
      "\u001b[1;32m~\\AppData\\Local\\Temp/ipykernel_20936/3044709381.py\u001b[0m in \u001b[0;36m<module>\u001b[1;34m\u001b[0m\n\u001b[0;32m      2\u001b[0m \u001b[1;32mimport\u001b[0m \u001b[0mskvideo\u001b[0m\u001b[1;33m.\u001b[0m\u001b[0mio\u001b[0m\u001b[1;33m\u001b[0m\u001b[1;33m\u001b[0m\u001b[0m\n\u001b[0;32m      3\u001b[0m \u001b[1;33m\u001b[0m\u001b[0m\n\u001b[1;32m----> 4\u001b[1;33m writer = skvideo.io.FFmpegWriter(\"demo.gif\", inputdict={\n\u001b[0m\u001b[0;32m      5\u001b[0m       \u001b[1;34m'-r'\u001b[0m\u001b[1;33m:\u001b[0m \u001b[1;34m'16'\u001b[0m\u001b[1;33m,\u001b[0m\u001b[1;33m\u001b[0m\u001b[1;33m\u001b[0m\u001b[0m\n\u001b[0;32m      6\u001b[0m     })\n",
      "\u001b[1;32mc:\\ProgramData\\Anaconda3\\lib\\site-packages\\skvideo\\io\\ffmpeg.py\u001b[0m in \u001b[0;36m__init__\u001b[1;34m(self, filename, inputdict, outputdict, verbosity)\u001b[0m\n\u001b[0;32m    334\u001b[0m \u001b[1;33m\u001b[0m\u001b[0m\n\u001b[0;32m    335\u001b[0m         \u001b[1;31m# check that the extension makes sense\u001b[0m\u001b[1;33m\u001b[0m\u001b[1;33m\u001b[0m\u001b[0m\n\u001b[1;32m--> 336\u001b[1;33m         \u001b[1;32massert\u001b[0m \u001b[0mstr\u001b[0m\u001b[1;33m.\u001b[0m\u001b[0mencode\u001b[0m\u001b[1;33m(\u001b[0m\u001b[0mself\u001b[0m\u001b[1;33m.\u001b[0m\u001b[0mextension\u001b[0m\u001b[1;33m)\u001b[0m\u001b[1;33m.\u001b[0m\u001b[0mlower\u001b[0m\u001b[1;33m(\u001b[0m\u001b[1;33m)\u001b[0m \u001b[1;32min\u001b[0m \u001b[0m_FFMPEG_SUPPORTED_ENCODERS\u001b[0m\u001b[1;33m,\u001b[0m \u001b[1;34m\"Unknown encoder extension: \"\u001b[0m \u001b[1;33m+\u001b[0m \u001b[0mself\u001b[0m\u001b[1;33m.\u001b[0m\u001b[0mextension\u001b[0m\u001b[1;33m.\u001b[0m\u001b[0mlower\u001b[0m\u001b[1;33m(\u001b[0m\u001b[1;33m)\u001b[0m\u001b[1;33m\u001b[0m\u001b[1;33m\u001b[0m\u001b[0m\n\u001b[0m\u001b[0;32m    337\u001b[0m \u001b[1;33m\u001b[0m\u001b[0m\n\u001b[0;32m    338\u001b[0m         \u001b[0mbasepath\u001b[0m\u001b[1;33m,\u001b[0m \u001b[0m_\u001b[0m \u001b[1;33m=\u001b[0m \u001b[0mos\u001b[0m\u001b[1;33m.\u001b[0m\u001b[0mpath\u001b[0m\u001b[1;33m.\u001b[0m\u001b[0msplit\u001b[0m\u001b[1;33m(\u001b[0m\u001b[0mfilename\u001b[0m\u001b[1;33m)\u001b[0m\u001b[1;33m\u001b[0m\u001b[1;33m\u001b[0m\u001b[0m\n",
      "\u001b[1;31mAssertionError\u001b[0m: Unknown encoder extension: .gif"
     ]
    }
   ],
   "source": [
    "# Define the codec and create VideoWriter object.The output is stored in 'demo.mp4' file.\n",
    "import skvideo.io\n",
    "\n",
    "writer = skvideo.io.FFmpegWriter(\"demo.mp4\", inputdict={\n",
    "      '-r': '16',\n",
    "    })\n",
    "\n",
    "gs = gridspec.GridSpec(2, 3,\n",
    "                       width_ratios=[1, 1,1],\n",
    "                       height_ratios=[1.5, 1]\n",
    "                       )\n",
    "\n",
    "gs.update(wspace=0.2,hspace=0)\n",
    "\n",
    "# generating output video\n",
    "for frame_index in range(motion_classes.shape[0]): \n",
    "    if high_resolution_video :\n",
    "        fig = plt.figure(figsize=(16, 12))\n",
    "        fig.suptitle(\"Demo for {}\".format(video_name), fontsize=24)\n",
    "\n",
    "        fig.text(.125,0.91,\"Average Prediction from spatial stream: {}\".format(action_names[np.mean(spatial_pred,axis = 0).argmax()]),color='r', fontsize=18)\n",
    "        fig.text(.125,.87,\"Average Prediction from motion stream: {}\".format(action_names[np.mean(motion_pred,axis = 0).argmax()]),color='g',fontsize=18)\n",
    "        fig.text(.125,.83,\"Average Prediction from both streams: {}\".format(action_names[np.mean(average_pred,axis = 0).argmax()]),color='b', fontsize=18)\n",
    "    else :\n",
    "        fig = plt.figure(figsize=(9, 6))\n",
    "        fig.suptitle(\"Demo for {}\".format(video_name), fontsize=16)\n",
    "\n",
    "        fig.text(.125,0.91,\"Average Prediction from spatial stream: {}\".format(action_names[np.mean(spatial_pred,axis = 0).argmax()]),color='r', fontsize=13)\n",
    "        fig.text(.125,.87,\"Average Prediction from motion stream: {}\".format(action_names[np.mean(motion_pred,axis = 0).argmax()]),color='g',fontsize=13)\n",
    "        fig.text(.125,.83,\"Average Prediction from both streams: {}\".format(action_names[np.mean(average_pred,axis = 0).argmax()]),color='b', fontsize=13)\n",
    "    \n",
    "\n",
    "    if frame_index % 10 == 0:\n",
    "        print(\"processing frame \",frame_index)\n",
    "    ##########################################################\n",
    "    # rgb frame\n",
    "    ax = plt.subplot(gs[0])\n",
    "    ax.set_title(\"RGB frame\", fontsize=16 if high_resolution_video else 13)\n",
    "    ax.get_yaxis().set_visible(False)\n",
    "    ax.get_xaxis().set_visible(False)\n",
    "    ax.imshow(cv2.cvtColor(original_rgb_frames[frame_index],cv2.COLOR_RGB2BGR))\n",
    "    ##########################################################\n",
    "    # optical flow frame\n",
    "    ax = plt.subplot(gs[1])\n",
    "    ax.set_title(\"TVL1 Optical flow u-frame\", fontsize=16 if high_resolution_video else 13)\n",
    "    ax.get_yaxis().set_visible(False)\n",
    "    ax.get_xaxis().set_visible(False)\n",
    "    ax.imshow(original_u_frames[frame_index],cmap=\"inferno\") # viridis,inferno,plasma,magma\n",
    "    ##########################################################\n",
    "    # optical flow frame\n",
    "    ax = plt.subplot(gs[2])\n",
    "    ax.set_title(\"TVL1 Optical flow v-frame\", fontsize= 16 if high_resolution_video else 13)\n",
    "\n",
    "    ax.get_yaxis().set_visible(False)\n",
    "    ax.get_xaxis().set_visible(False)\n",
    "    ax.imshow(original_v_frames[frame_index],cmap=\"inferno\") # viridis,inferno,plasma,magma\n",
    "    ##########################################################\n",
    "    # prediction scores\n",
    "    ax = plt.subplot(gs[3])\n",
    "    ax.set_title(\"Spatial Stream Output scores\",fontsize= 16 if high_resolution_video else 13)\n",
    "\n",
    "    make_bar_chart(spatial_classes[frame_index],spatial_scores[frame_index])\n",
    "    ##########################################################\n",
    "    # prediction scores\n",
    "    ax = plt.subplot(gs[4])\n",
    "    ax.set_title(\"Motion Stream Output scores\",fontsize= 16 if high_resolution_video else 13)\n",
    "\n",
    "    make_bar_chart(motion_classes[frame_index],motion_scores[frame_index])\n",
    "    ##########################################################\n",
    "    # prediction scores\n",
    "    ax = plt.subplot(gs[5])\n",
    "    ax.set_title(\"Average Output scores\",fontsize= 16 if high_resolution_video else 13)\n",
    "\n",
    "    make_bar_chart(average_classes[frame_index],average_scores[frame_index])\n",
    "    ##########################################################\n",
    "    fig.tight_layout( pad=0, h_pad=0, w_pad=0)\n",
    "    writer.writeFrame(get_image_from_fig(fig))\n",
    "    \n",
    "    plt.close(fig)\n",
    "    \n",
    "writer.close()"
   ]
  },
  {
   "cell_type": "code",
   "execution_count": null,
   "id": "dbfb5ed1",
   "metadata": {},
   "outputs": [],
   "source": [
    "video = io.open(\"demo.mp4\" , 'r+b').read()\n",
    "encoded = base64.b64encode(video)\n",
    "\n",
    "HTML(data='''<video controls autoplay loop>\n",
    "\t\t\t<source type=\"video/mp4\" src=\"data:video/mp4;base64,{}\"\n",
    "      \t\t</video>'''.format(encoded.decode('ascii')))"
   ]
  },
  {
   "cell_type": "markdown",
   "id": "a13fedd4",
   "metadata": {},
   "source": [
    "# External video prediction"
   ]
  },
  {
   "cell_type": "code",
   "execution_count": 19,
   "id": "adc210c7",
   "metadata": {},
   "outputs": [],
   "source": [
    "# Frame creation vid 1\n",
    "\n",
    "img_path = \"C:\\\\Users\\\\gianl\\\\Desktop\\\\VID_20220830_115011_2.mp4\"\n",
    "cap= cv2.VideoCapture(img_path)\n",
    "i=0\n",
    "while(cap.isOpened()):\n",
    "    ret, frame = cap.read()\n",
    "    if ret == False:\n",
    "        break\n",
    "    cv2.imwrite(f'C:\\\\Users\\\\gianl\\\\Desktop\\\\VID_20220830_115011_2\\\\frame_{i}.jpg',frame)\n",
    "    i+=1\n",
    "\n",
    "cap.release()\n",
    "cv2.destroyAllWindows()"
   ]
  },
  {
   "cell_type": "code",
   "execution_count": 20,
   "id": "eaa042aa",
   "metadata": {},
   "outputs": [],
   "source": [
    "# Frame creation vid 2\n",
    "\n",
    "img_path = \"C:\\\\Users\\\\gianl\\\\Desktop\\\\VID_20220830_115837_2.mp4\"\n",
    "cap= cv2.VideoCapture(img_path)\n",
    "i=0\n",
    "while(cap.isOpened()):\n",
    "    ret, frame = cap.read()\n",
    "    if ret == False:\n",
    "        break\n",
    "    cv2.imwrite(f'C:\\\\Users\\\\gianl\\\\Desktop\\\\VID_20220830_115837_2\\\\frame_{i}.jpg',frame)\n",
    "    i+=1\n",
    "\n",
    "cap.release()\n",
    "cv2.destroyAllWindows()"
   ]
  },
  {
   "cell_type": "code",
   "execution_count": 115,
   "id": "39db0c7f",
   "metadata": {},
   "outputs": [
    {
     "data": {
      "image/png": "[encoded data removed]",
      "text/plain": [
       "<Figure size 432x288 with 1 Axes>"
      ]
     },
     "metadata": {
      "needs_background": "light"
     },
     "output_type": "display_data"
    }
   ],
   "source": [
    "from tensorflow.keras.preprocessing import image\n",
    "\n",
    "img = image.load_img('C:\\\\Users\\\\gianl\\\\Desktop\\\\VID_20220830_115011_2\\\\frame_7.jpg', target_size=(224, 224))\n",
    "\n",
    "plt.imshow(img)\n",
    "plt.show()"
   ]
  },
  {
   "cell_type": "code",
   "execution_count": 116,
   "id": "8f475cbd",
   "metadata": {},
   "outputs": [],
   "source": [
    "from tensorflow.keras.applications.resnet50 import preprocess_input, decode_predictions\n",
    "\n",
    "img_array = image.img_to_array(img)\n",
    "\n",
    "img_batch = np.expand_dims(img_array, axis=0)\n",
    "img_preprocessed = preprocess_input(img_batch)"
   ]
  },
  {
   "cell_type": "code",
   "execution_count": 117,
   "id": "fe5b6c3e",
   "metadata": {},
   "outputs": [
    {
     "name": "stdout",
     "output_type": "stream",
     "text": [
      "1/1 [==============================] - 0s 26ms/step\n",
      "[2.34737352e-04 2.80613426e-06 2.06132230e-04 2.17731167e-02\n",
      " 1.88459363e-02 1.17951444e-04 6.84310799e-05 1.74175785e-03\n",
      " 2.81521445e-03 2.53350063e-05 2.46298907e-04 9.55551211e-03\n",
      " 1.22938538e-04 1.77506263e-05 7.09710643e-04 6.05761779e-05\n",
      " 1.42559918e-04 1.61227741e-04 3.17378930e-04 8.89190196e-05\n",
      " 9.71090049e-04 3.20103165e-04 4.35469759e-04 2.65767910e-02\n",
      " 7.08426478e-06 8.48668721e-03 1.42214602e-04 5.57961583e-04\n",
      " 8.40892244e-06 3.99721393e-05 5.58073589e-05 1.20170624e-03\n",
      " 3.36911976e-02 1.65908709e-02 1.45321079e-02 1.15361828e-02\n",
      " 1.09464873e-03 2.34421721e-04 1.86969133e-04 2.46176213e-01\n",
      " 4.39039946e-01 4.31478693e-05 1.27284159e-03 7.31704931e-05\n",
      " 1.85199138e-02 1.66689613e-04 4.10390378e-04 3.21507454e-02\n",
      " 8.22452363e-03 9.36539378e-03 7.06331283e-02]\n"
     ]
    }
   ],
   "source": [
    "prediction = resnet_model.predict(img_preprocessed)\n",
    "print(prediction[0])"
   ]
  },
  {
   "cell_type": "code",
   "execution_count": 118,
   "id": "fd495950",
   "metadata": {},
   "outputs": [
    {
     "data": {
      "text/plain": [
       "<BarContainer object of 51 artists>"
      ]
     },
     "execution_count": 118,
     "metadata": {},
     "output_type": "execute_result"
    },
    {
     "data": {
      "image/png": "[encoded data removed]",
      "text/plain": [
       "<Figure size 432x288 with 1 Axes>"
      ]
     },
     "metadata": {
      "needs_background": "light"
     },
     "output_type": "display_data"
    }
   ],
   "source": [
    "plt.bar(list(range(0,51)), prediction[0])"
   ]
  },
  {
   "cell_type": "code",
   "execution_count": null,
   "id": "a67015d2",
   "metadata": {},
   "outputs": [],
   "source": []
  }
 ],
 "metadata": {
  "accelerator": "GPU",
  "colab": {
   "collapsed_sections": [],
   "name": "DataExploration.ipynb",
   "provenance": []
  },
  "gpuClass": "standard",
  "kernelspec": {
   "display_name": "Python 3.7.9 ('scrap37')",
   "language": "python",
   "name": "python3"
  },
  "language_info": {
   "codemirror_mode": {
    "name": "ipython",
    "version": 3
   },
   "file_extension": ".py",
   "mimetype": "text/x-python",
   "name": "python",
   "nbconvert_exporter": "python",
   "pygments_lexer": "ipython3",
   "version": "3.7.9"
  },
  "toc": {
   "base_numbering": 1,
   "nav_menu": {},
   "number_sections": true,
   "sideBar": true,
   "skip_h1_title": false,
   "title_cell": "Table of Contents",
   "title_sidebar": "Contents",
   "toc_cell": false,
   "toc_position": {},
   "toc_section_display": true,
   "toc_window_display": false
  },
  "vscode": {
   "interpreter": {
    "hash": "a35beda03bbc0857b155eb663910d12fdb9b48fbc24371996095146823c720df"
   }
  }
 },
 "nbformat": 4,
 "nbformat_minor": 5
}
