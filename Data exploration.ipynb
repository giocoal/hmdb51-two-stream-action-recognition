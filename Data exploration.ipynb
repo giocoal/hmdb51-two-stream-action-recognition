{
 "cells": [
  {
   "cell_type": "code",
   "execution_count": 1,
   "id": "4a1a45cd",
   "metadata": {
    "id": "4a1a45cd"
   },
   "outputs": [],
   "source": [
    "import numpy as np\n",
    "import pandas as pd\n",
    "import matplotlib.pyplot as plt\n",
    "import os\n",
    "import random\n",
    "import cv2"
   ]
  },
  {
   "cell_type": "code",
   "execution_count": 13,
   "id": "1a14315d",
   "metadata": {
    "id": "1a14315d"
   },
   "outputs": [],
   "source": [
    "#path dove si trova il dataframe hmdb51\n",
    "path = \"./data\""
   ]
  },
  {
   "cell_type": "markdown",
   "id": "dafeebea",
   "metadata": {
    "id": "dafeebea"
   },
   "source": [
    "##### Per ogni categoria di azioni del dataset viene estratto casualmente un video e catturato un frame"
   ]
  },
  {
   "cell_type": "code",
   "execution_count": 14,
   "id": "2603161e",
   "metadata": {
    "id": "2603161e",
    "outputId": "bb3cdaba-344b-4d1c-bb75-017405f0a2bd"
   },
   "outputs": [
    {
     "ename": "error",
     "evalue": "OpenCV(4.6.0) D:\\a\\opencv-python\\opencv-python\\opencv\\modules\\imgproc\\src\\color.cpp:182: error: (-215:Assertion failed) !_src.empty() in function 'cv::cvtColor'\n",
     "output_type": "error",
     "traceback": [
      "\u001b[1;31m---------------------------------------------------------------------------\u001b[0m",
      "\u001b[1;31merror\u001b[0m                                     Traceback (most recent call last)",
      "\u001b[1;32m~\\AppData\\Local\\Temp/ipykernel_5792/4138283135.py\u001b[0m in \u001b[0;36m<module>\u001b[1;34m\u001b[0m\n\u001b[0;32m     10\u001b[0m         \u001b[0mret\u001b[0m\u001b[1;33m,\u001b[0m \u001b[0mgbrframe\u001b[0m \u001b[1;33m=\u001b[0m \u001b[0mvideo_reader\u001b[0m\u001b[1;33m.\u001b[0m\u001b[0mread\u001b[0m\u001b[1;33m(\u001b[0m\u001b[1;33m)\u001b[0m\u001b[1;33m\u001b[0m\u001b[1;33m\u001b[0m\u001b[0m\n\u001b[0;32m     11\u001b[0m         \u001b[0mvideo_reader\u001b[0m\u001b[1;33m.\u001b[0m\u001b[0mrelease\u001b[0m\u001b[1;33m(\u001b[0m\u001b[1;33m)\u001b[0m\u001b[1;33m\u001b[0m\u001b[1;33m\u001b[0m\u001b[0m\n\u001b[1;32m---> 12\u001b[1;33m         \u001b[0mrgb_frame\u001b[0m \u001b[1;33m=\u001b[0m \u001b[0mcv2\u001b[0m\u001b[1;33m.\u001b[0m\u001b[0mcvtColor\u001b[0m\u001b[1;33m(\u001b[0m\u001b[0mgbrframe\u001b[0m\u001b[1;33m,\u001b[0m \u001b[0mcv2\u001b[0m\u001b[1;33m.\u001b[0m\u001b[0mCOLOR_BGR2RGB\u001b[0m\u001b[1;33m)\u001b[0m    \u001b[1;31m#converto immagine da BGR a RGB\u001b[0m\u001b[1;33m\u001b[0m\u001b[1;33m\u001b[0m\u001b[0m\n\u001b[0m\u001b[0;32m     13\u001b[0m         \u001b[0mplt\u001b[0m\u001b[1;33m.\u001b[0m\u001b[0msubplot\u001b[0m\u001b[1;33m(\u001b[0m\u001b[1;36m9\u001b[0m\u001b[1;33m,\u001b[0m\u001b[1;36m6\u001b[0m\u001b[1;33m,\u001b[0m\u001b[0mcounter\u001b[0m\u001b[1;33m)\u001b[0m\u001b[1;33m;\u001b[0m\u001b[0mplt\u001b[0m\u001b[1;33m.\u001b[0m\u001b[0mimshow\u001b[0m\u001b[1;33m(\u001b[0m\u001b[0mrgb_frame\u001b[0m\u001b[1;33m,\u001b[0m \u001b[0maspect\u001b[0m \u001b[1;33m=\u001b[0m \u001b[1;34m\"auto\"\u001b[0m\u001b[1;33m)\u001b[0m\u001b[1;33m;\u001b[0m\u001b[0mplt\u001b[0m\u001b[1;33m.\u001b[0m\u001b[0maxis\u001b[0m\u001b[1;33m(\u001b[0m\u001b[1;34m\"off\"\u001b[0m\u001b[1;33m)\u001b[0m\u001b[1;33m\u001b[0m\u001b[1;33m\u001b[0m\u001b[0m\n\u001b[0;32m     14\u001b[0m         \u001b[0mplt\u001b[0m\u001b[1;33m.\u001b[0m\u001b[0mtitle\u001b[0m\u001b[1;33m(\u001b[0m\u001b[0maction\u001b[0m\u001b[1;33m,\u001b[0m \u001b[0mfontsize\u001b[0m \u001b[1;33m=\u001b[0m \u001b[1;36m20\u001b[0m\u001b[1;33m)\u001b[0m\u001b[1;33m\u001b[0m\u001b[1;33m\u001b[0m\u001b[0m\n",
      "\u001b[1;31merror\u001b[0m: OpenCV(4.6.0) D:\\a\\opencv-python\\opencv-python\\opencv\\modules\\imgproc\\src\\color.cpp:182: error: (-215:Assertion failed) !_src.empty() in function 'cv::cvtColor'\n"
     ]
    },
    {
     "data": {
      "image/png": "[encoded data removed]",
      "text/plain": [
       "<Figure size 2160x2160 with 1 Axes>"
      ]
     },
     "metadata": {
      "needs_background": "light"
     },
     "output_type": "display_data"
    }
   ],
   "source": [
    "plt.figure(figsize=(30,30))\n",
    "actions = os.listdir(f\"{path}/hmdb51\")    #va estratto il dataset dal file zippato\n",
    "counter = 0\n",
    "for action in actions:\n",
    "    counter += 1\n",
    "    list_videos_action = os.listdir(f\"{path}/hmdb51/{action}\")    #tutti i video di quell'azione\n",
    "    if (action != \"video\") and (action != \"rawframes\"):  \n",
    "        selected_video = random.choice(list_videos_action)\n",
    "        video_reader = cv2.VideoCapture(f\"{path}/hmdb51/{action}/{selected_video}\")\n",
    "        ret, gbrframe = video_reader.read()\n",
    "        video_reader.release()\n",
    "        rgb_frame = cv2.cvtColor(gbrframe, cv2.COLOR_BGR2RGB)    #converto immagine da BGR a RGB\n",
    "        plt.subplot(9,6,counter);plt.imshow(rgb_frame, aspect = \"auto\");plt.axis(\"off\")\n",
    "        plt.title(action, fontsize = 20)"
   ]
  },
  {
   "cell_type": "markdown",
   "id": "98796765",
   "metadata": {
    "id": "98796765"
   },
   "source": [
    "##### Creo dataframes contenenti le informazioni di quali video usare come training/test"
   ]
  },
  {
   "cell_type": "code",
   "execution_count": 15,
   "id": "9f31f0d9",
   "metadata": {
    "id": "9f31f0d9"
   },
   "outputs": [],
   "source": [
    "def split_to_df(split):\n",
    "    df = pd.DataFrame(columns=['action', 'title', 'train/test'])\n",
    "    for action in actions:\n",
    "        if (action != \"video\") and (action != \"rawframes\"):  \n",
    "            with open(f\"{path}/testTrainMulti_7030_splits/{action}_test_{split}.txt\") as f:\n",
    "                informations = f.readlines()       \n",
    "            for info in informations:   #per ogni video della lista dei video di una data azione\n",
    "                df.loc[len(df)] = action, info.split()[0], int(info.split()[1])\n",
    "    return df"
   ]
  },
  {
   "cell_type": "code",
   "execution_count": 16,
   "id": "2c652137",
   "metadata": {
    "id": "2c652137"
   },
   "outputs": [
    {
     "ename": "FileNotFoundError",
     "evalue": "[Errno 2] No such file or directory: './data/testTrainMulti_7030_splits/annotations_test_split1.txt'",
     "output_type": "error",
     "traceback": [
      "\u001b[1;31m---------------------------------------------------------------------------\u001b[0m",
      "\u001b[1;31mFileNotFoundError\u001b[0m                         Traceback (most recent call last)",
      "\u001b[1;32m~\\AppData\\Local\\Temp/ipykernel_5792/4148119391.py\u001b[0m in \u001b[0;36m<module>\u001b[1;34m\u001b[0m\n\u001b[1;32m----> 1\u001b[1;33m \u001b[0msplit1\u001b[0m \u001b[1;33m=\u001b[0m \u001b[0msplit_to_df\u001b[0m\u001b[1;33m(\u001b[0m\u001b[1;34m\"split1\"\u001b[0m\u001b[1;33m)\u001b[0m\u001b[1;33m\u001b[0m\u001b[1;33m\u001b[0m\u001b[0m\n\u001b[0m\u001b[0;32m      2\u001b[0m \u001b[0msplit2\u001b[0m \u001b[1;33m=\u001b[0m \u001b[0msplit_to_df\u001b[0m\u001b[1;33m(\u001b[0m\u001b[1;34m\"split2\"\u001b[0m\u001b[1;33m)\u001b[0m\u001b[1;33m\u001b[0m\u001b[1;33m\u001b[0m\u001b[0m\n\u001b[0;32m      3\u001b[0m \u001b[0msplit3\u001b[0m \u001b[1;33m=\u001b[0m \u001b[0msplit_to_df\u001b[0m\u001b[1;33m(\u001b[0m\u001b[1;34m\"split3\"\u001b[0m\u001b[1;33m)\u001b[0m\u001b[1;33m\u001b[0m\u001b[1;33m\u001b[0m\u001b[0m\n",
      "\u001b[1;32m~\\AppData\\Local\\Temp/ipykernel_5792/58195675.py\u001b[0m in \u001b[0;36msplit_to_df\u001b[1;34m(split)\u001b[0m\n\u001b[0;32m      3\u001b[0m     \u001b[1;32mfor\u001b[0m \u001b[0maction\u001b[0m \u001b[1;32min\u001b[0m \u001b[0mactions\u001b[0m\u001b[1;33m:\u001b[0m\u001b[1;33m\u001b[0m\u001b[1;33m\u001b[0m\u001b[0m\n\u001b[0;32m      4\u001b[0m         \u001b[1;32mif\u001b[0m \u001b[1;33m(\u001b[0m\u001b[0maction\u001b[0m \u001b[1;33m!=\u001b[0m \u001b[1;34m\"video\"\u001b[0m\u001b[1;33m)\u001b[0m \u001b[1;32mand\u001b[0m \u001b[1;33m(\u001b[0m\u001b[0maction\u001b[0m \u001b[1;33m!=\u001b[0m \u001b[1;34m\"rawframes\"\u001b[0m\u001b[1;33m)\u001b[0m\u001b[1;33m:\u001b[0m\u001b[1;33m\u001b[0m\u001b[1;33m\u001b[0m\u001b[0m\n\u001b[1;32m----> 5\u001b[1;33m             \u001b[1;32mwith\u001b[0m \u001b[0mopen\u001b[0m\u001b[1;33m(\u001b[0m\u001b[1;34mf\"{path}/testTrainMulti_7030_splits/{action}_test_{split}.txt\"\u001b[0m\u001b[1;33m)\u001b[0m \u001b[1;32mas\u001b[0m \u001b[0mf\u001b[0m\u001b[1;33m:\u001b[0m\u001b[1;33m\u001b[0m\u001b[1;33m\u001b[0m\u001b[0m\n\u001b[0m\u001b[0;32m      6\u001b[0m                 \u001b[0minformations\u001b[0m \u001b[1;33m=\u001b[0m \u001b[0mf\u001b[0m\u001b[1;33m.\u001b[0m\u001b[0mreadlines\u001b[0m\u001b[1;33m(\u001b[0m\u001b[1;33m)\u001b[0m\u001b[1;33m\u001b[0m\u001b[1;33m\u001b[0m\u001b[0m\n\u001b[0;32m      7\u001b[0m             \u001b[1;32mfor\u001b[0m \u001b[0minfo\u001b[0m \u001b[1;32min\u001b[0m \u001b[0minformations\u001b[0m\u001b[1;33m:\u001b[0m   \u001b[1;31m#per ogni video della lista dei video di una data azione\u001b[0m\u001b[1;33m\u001b[0m\u001b[1;33m\u001b[0m\u001b[0m\n",
      "\u001b[1;31mFileNotFoundError\u001b[0m: [Errno 2] No such file or directory: './data/testTrainMulti_7030_splits/annotations_test_split1.txt'"
     ]
    }
   ],
   "source": [
    "split1 = split_to_df(\"split1\")\n",
    "split2 = split_to_df(\"split2\")\n",
    "split3 = split_to_df(\"split3\")"
   ]
  },
  {
   "cell_type": "code",
   "execution_count": 5,
   "id": "199d3b27",
   "metadata": {
    "id": "199d3b27",
    "outputId": "ea4a4ad0-e78f-4610-a73f-2e21d946b112",
    "scrolled": true
   },
   "outputs": [
    {
     "ename": "NameError",
     "evalue": "name 'split1' is not defined",
     "output_type": "error",
     "traceback": [
      "\u001b[1;31m---------------------------------------------------------------------------\u001b[0m",
      "\u001b[1;31mNameError\u001b[0m                                 Traceback (most recent call last)",
      "\u001b[1;32m~\\AppData\\Local\\Temp/ipykernel_5792/3227684909.py\u001b[0m in \u001b[0;36m<module>\u001b[1;34m\u001b[0m\n\u001b[1;32m----> 1\u001b[1;33m \u001b[0msplit1\u001b[0m\u001b[1;33m.\u001b[0m\u001b[0mhead\u001b[0m\u001b[1;33m(\u001b[0m\u001b[1;36m10\u001b[0m\u001b[1;33m)\u001b[0m\u001b[1;33m\u001b[0m\u001b[1;33m\u001b[0m\u001b[0m\n\u001b[0m",
      "\u001b[1;31mNameError\u001b[0m: name 'split1' is not defined"
     ]
    }
   ],
   "source": [
    "split1.head(10)"
   ]
  },
  {
   "cell_type": "code",
   "execution_count": 6,
   "id": "c4fe6cbe",
   "metadata": {},
   "outputs": [
    {
     "ename": "NameError",
     "evalue": "name 'split1' is not defined",
     "output_type": "error",
     "traceback": [
      "\u001b[1;31m---------------------------------------------------------------------------\u001b[0m",
      "\u001b[1;31mNameError\u001b[0m                                 Traceback (most recent call last)",
      "\u001b[1;32m~\\AppData\\Local\\Temp/ipykernel_5792/706207924.py\u001b[0m in \u001b[0;36m<module>\u001b[1;34m\u001b[0m\n\u001b[1;32m----> 1\u001b[1;33m \u001b[0msplit1\u001b[0m\u001b[1;33m.\u001b[0m\u001b[0mto_csv\u001b[0m\u001b[1;33m(\u001b[0m\u001b[1;34m\"split1.csv\"\u001b[0m\u001b[1;33m)\u001b[0m\u001b[1;33m\u001b[0m\u001b[1;33m\u001b[0m\u001b[0m\n\u001b[0m\u001b[0;32m      2\u001b[0m \u001b[0msplit2\u001b[0m\u001b[1;33m.\u001b[0m\u001b[0mto_csv\u001b[0m\u001b[1;33m(\u001b[0m\u001b[1;34m\"split2.csv\"\u001b[0m\u001b[1;33m)\u001b[0m\u001b[1;33m\u001b[0m\u001b[1;33m\u001b[0m\u001b[0m\n\u001b[0;32m      3\u001b[0m \u001b[0msplit3\u001b[0m\u001b[1;33m.\u001b[0m\u001b[0mto_csv\u001b[0m\u001b[1;33m(\u001b[0m\u001b[1;34m\"split3.csv\"\u001b[0m\u001b[1;33m)\u001b[0m\u001b[1;33m\u001b[0m\u001b[1;33m\u001b[0m\u001b[0m\n",
      "\u001b[1;31mNameError\u001b[0m: name 'split1' is not defined"
     ]
    }
   ],
   "source": [
    "split1.to_csv(\"split1.csv\")\n",
    "split2.to_csv(\"split2.csv\")\n",
    "split3.to_csv(\"split3.csv\")"
   ]
  },
  {
   "cell_type": "markdown",
   "id": "5178b060",
   "metadata": {
    "id": "5178b060"
   },
   "source": [
    "##### Dimensioni video\n"
   ]
  },
  {
   "cell_type": "code",
   "execution_count": null,
   "id": "dfbfe574",
   "metadata": {
    "id": "dfbfe574",
    "outputId": "89ca47cf-7920-416e-94e5-092366496c52"
   },
   "outputs": [
    {
     "name": "stdout",
     "output_type": "stream",
     "text": [
      "sono ad azione:  wavew_exercise\r"
     ]
    }
   ],
   "source": [
    "dimensions = dict()\n",
    "for action in actions:\n",
    "    print(\"sono ad azione: \", action, end=\"\\r\")\n",
    "    for video in os.listdir(f\"{path}/hmdb51/{action}\"): \n",
    "        if split1[split1[\"title\"] == video][\"train/test\"].item() != 0:\n",
    "            video_reader = cv2.VideoCapture(f'{path}/hmdb51/{action}/{video}')\n",
    "            larghezza  = video_reader.get(cv2.CAP_PROP_FRAME_WIDTH)   # float `width`\n",
    "            video_reader.release()\n",
    "            if larghezza not in dimensions:\n",
    "                dimensions[larghezza] = 1\n",
    "            else:\n",
    "                dimensions[larghezza] += 1"
   ]
  },
  {
   "cell_type": "code",
   "execution_count": null,
   "id": "647ef150",
   "metadata": {
    "id": "647ef150",
    "outputId": "a1379755-e6bc-46f7-b6ca-7cdc041d31f0"
   },
   "outputs": [
    {
     "data": {
      "image/png": "[encoded data removed]",
      "text/plain": [
       "<Figure size 432x288 with 1 Axes>"
      ]
     },
     "metadata": {
      "needs_background": "light"
     },
     "output_type": "display_data"
    }
   ],
   "source": [
    "plt.hist (dimensions)\n",
    "plt.show()"
   ]
  },
  {
   "cell_type": "markdown",
   "id": "d9f2f89a",
   "metadata": {
    "id": "d9f2f89a"
   },
   "source": [
    "## Categories exploration"
   ]
  },
  {
   "cell_type": "code",
   "execution_count": 17,
   "id": "13c6dd21",
   "metadata": {
    "ExecuteTime": {
     "end_time": "2022-08-04T15:32:36.664645Z",
     "start_time": "2022-08-04T15:32:36.649074Z"
    },
    "id": "13c6dd21"
   },
   "outputs": [],
   "source": [
    "dataset_directory = './data/hmdb51/videos/'"
   ]
  },
  {
   "cell_type": "code",
   "execution_count": 18,
   "id": "d11e04aa",
   "metadata": {
    "ExecuteTime": {
     "end_time": "2022-08-04T15:32:36.794642Z",
     "start_time": "2022-08-04T15:32:36.669356Z"
    },
    "id": "d11e04aa",
    "outputId": "6e5fc827-57f3-4050-820a-16d1208c9e1a"
   },
   "outputs": [
    {
     "name": "stdout",
     "output_type": "stream",
     "text": [
      "Number of files: 6766\n"
     ]
    }
   ],
   "source": [
    "completelist = [os.path.join(path, name) for path, subdirs, files in os.walk(dataset_directory) for name in files]\n",
    "print(\"Number of files:\", len(completelist))"
   ]
  },
  {
   "cell_type": "code",
   "execution_count": 19,
   "id": "b8725588",
   "metadata": {
    "ExecuteTime": {
     "end_time": "2022-08-04T15:32:36.810569Z",
     "start_time": "2022-08-04T15:32:36.794642Z"
    },
    "id": "b8725588",
    "outputId": "13dfde97-f144-4e6a-f87a-8c18011c993b"
   },
   "outputs": [
    {
     "name": "stdout",
     "output_type": "stream",
     "text": [
      "Number of categories: 51\n"
     ]
    }
   ],
   "source": [
    "cat_list = os.listdir(os.path.join(dataset_directory))\n",
    "print(\"Number of categories:\", len(cat_list))"
   ]
  },
  {
   "cell_type": "code",
   "execution_count": 20,
   "id": "d0fdf7d9",
   "metadata": {
    "ExecuteTime": {
     "end_time": "2022-08-04T15:32:36.842589Z",
     "start_time": "2022-08-04T15:32:36.810569Z"
    },
    "id": "d0fdf7d9"
   },
   "outputs": [],
   "source": [
    "file_name_list = []\n",
    "cat_list_rep = []\n",
    "\n",
    "for cat in cat_list:\n",
    "    path = os.path.join(dataset_directory, cat)\n",
    "    for loc, subdirs, files in os.walk(path):\n",
    "        for file in files:\n",
    "            file_name_list.append(file)\n",
    "            cat_list_rep.append(cat)"
   ]
  },
  {
   "cell_type": "code",
   "execution_count": 21,
   "id": "c7ced32a",
   "metadata": {
    "ExecuteTime": {
     "end_time": "2022-08-04T15:32:36.922635Z",
     "start_time": "2022-08-04T15:32:36.842589Z"
    },
    "id": "c7ced32a",
    "outputId": "3dc6ee4b-4b97-47d2-ccaa-f1d5f28678bb"
   },
   "outputs": [
    {
     "data": {
      "text/html": [
       "<div>\n",
       "<style scoped>\n",
       "    .dataframe tbody tr th:only-of-type {\n",
       "        vertical-align: middle;\n",
       "    }\n",
       "\n",
       "    .dataframe tbody tr th {\n",
       "        vertical-align: top;\n",
       "    }\n",
       "\n",
       "    .dataframe thead th {\n",
       "        text-align: right;\n",
       "    }\n",
       "</style>\n",
       "<table border=\"1\" class=\"dataframe\">\n",
       "  <thead>\n",
       "    <tr style=\"text-align: right;\">\n",
       "      <th></th>\n",
       "      <th>file_name</th>\n",
       "      <th>activity</th>\n",
       "    </tr>\n",
       "  </thead>\n",
       "  <tbody>\n",
       "    <tr>\n",
       "      <th>0</th>\n",
       "      <td>April_09_brush_hair_u_nm_np1_ba_goo_0.avi</td>\n",
       "      <td>brush_hair</td>\n",
       "    </tr>\n",
       "    <tr>\n",
       "      <th>1</th>\n",
       "      <td>April_09_brush_hair_u_nm_np1_ba_goo_1.avi</td>\n",
       "      <td>brush_hair</td>\n",
       "    </tr>\n",
       "    <tr>\n",
       "      <th>2</th>\n",
       "      <td>April_09_brush_hair_u_nm_np1_ba_goo_2.avi</td>\n",
       "      <td>brush_hair</td>\n",
       "    </tr>\n",
       "    <tr>\n",
       "      <th>3</th>\n",
       "      <td>atempting_to_brush_my_hair_brush_hair_u_nm_np2...</td>\n",
       "      <td>brush_hair</td>\n",
       "    </tr>\n",
       "    <tr>\n",
       "      <th>4</th>\n",
       "      <td>atempting_to_brush_my_hair_brush_hair_u_nm_np2...</td>\n",
       "      <td>brush_hair</td>\n",
       "    </tr>\n",
       "    <tr>\n",
       "      <th>...</th>\n",
       "      <td>...</td>\n",
       "      <td>...</td>\n",
       "    </tr>\n",
       "    <tr>\n",
       "      <th>6761</th>\n",
       "      <td>winKen_wave_u_cm_np1_ba_bad_0.avi</td>\n",
       "      <td>wave</td>\n",
       "    </tr>\n",
       "    <tr>\n",
       "      <th>6762</th>\n",
       "      <td>winKen_wave_u_cm_np1_ri_bad_1.avi</td>\n",
       "      <td>wave</td>\n",
       "    </tr>\n",
       "    <tr>\n",
       "      <th>6763</th>\n",
       "      <td>_I_ll_Just_Wave_My_Hand__sung_by_Cornerstone_M...</td>\n",
       "      <td>wave</td>\n",
       "    </tr>\n",
       "    <tr>\n",
       "      <th>6764</th>\n",
       "      <td>_I_ll_Just_Wave_My_Hand__sung_by_Cornerstone_M...</td>\n",
       "      <td>wave</td>\n",
       "    </tr>\n",
       "    <tr>\n",
       "      <th>6765</th>\n",
       "      <td>_I_ll_Just_Wave_My_Hand__sung_by_Cornerstone_M...</td>\n",
       "      <td>wave</td>\n",
       "    </tr>\n",
       "  </tbody>\n",
       "</table>\n",
       "<p>6766 rows × 2 columns</p>\n",
       "</div>"
      ],
      "text/plain": [
       "                                              file_name    activity\n",
       "0             April_09_brush_hair_u_nm_np1_ba_goo_0.avi  brush_hair\n",
       "1             April_09_brush_hair_u_nm_np1_ba_goo_1.avi  brush_hair\n",
       "2             April_09_brush_hair_u_nm_np1_ba_goo_2.avi  brush_hair\n",
       "3     atempting_to_brush_my_hair_brush_hair_u_nm_np2...  brush_hair\n",
       "4     atempting_to_brush_my_hair_brush_hair_u_nm_np2...  brush_hair\n",
       "...                                                 ...         ...\n",
       "6761                  winKen_wave_u_cm_np1_ba_bad_0.avi        wave\n",
       "6762                  winKen_wave_u_cm_np1_ri_bad_1.avi        wave\n",
       "6763  _I_ll_Just_Wave_My_Hand__sung_by_Cornerstone_M...        wave\n",
       "6764  _I_ll_Just_Wave_My_Hand__sung_by_Cornerstone_M...        wave\n",
       "6765  _I_ll_Just_Wave_My_Hand__sung_by_Cornerstone_M...        wave\n",
       "\n",
       "[6766 rows x 2 columns]"
      ]
     },
     "execution_count": 21,
     "metadata": {},
     "output_type": "execute_result"
    }
   ],
   "source": [
    "file_df = pd.DataFrame(list(zip(file_name_list, cat_list_rep)), columns = ['file_name','activity'])\n",
    "file_df"
   ]
  },
  {
   "cell_type": "code",
   "execution_count": 24,
   "id": "a3757951",
   "metadata": {
    "ExecuteTime": {
     "end_time": "2022-08-04T15:32:37.178718Z",
     "start_time": "2022-08-04T15:32:37.170567Z"
    },
    "id": "a3757951"
   },
   "outputs": [],
   "source": [
    "import regex as re\n",
    "def title_properties(string, category):\n",
    "    match = re.findall(f'(\\S+){category}(\\S+)', string)[-1]\n",
    "    return(match)"
   ]
  },
  {
   "cell_type": "code",
   "execution_count": 25,
   "id": "c455b02d",
   "metadata": {
    "ExecuteTime": {
     "end_time": "2022-08-04T15:32:37.912702Z",
     "start_time": "2022-08-04T15:32:37.648610Z"
    },
    "id": "c455b02d",
    "outputId": "889e7bb2-beec-4e55-f6a8-4dd6b41dc853"
   },
   "outputs": [
    {
     "data": {
      "text/html": [
       "<div>\n",
       "<style scoped>\n",
       "    .dataframe tbody tr th:only-of-type {\n",
       "        vertical-align: middle;\n",
       "    }\n",
       "\n",
       "    .dataframe tbody tr th {\n",
       "        vertical-align: top;\n",
       "    }\n",
       "\n",
       "    .dataframe thead th {\n",
       "        text-align: right;\n",
       "    }\n",
       "</style>\n",
       "<table border=\"1\" class=\"dataframe\">\n",
       "  <thead>\n",
       "    <tr style=\"text-align: right;\">\n",
       "      <th></th>\n",
       "      <th>file_name</th>\n",
       "      <th>activity</th>\n",
       "      <th>title</th>\n",
       "      <th>properties</th>\n",
       "    </tr>\n",
       "  </thead>\n",
       "  <tbody>\n",
       "    <tr>\n",
       "      <th>0</th>\n",
       "      <td>April_09_brush_hair_u_nm_np1_ba_goo_0.avi</td>\n",
       "      <td>brush_hair</td>\n",
       "      <td>April_09_</td>\n",
       "      <td>_u_nm_np1_ba_goo_0.avi</td>\n",
       "    </tr>\n",
       "    <tr>\n",
       "      <th>1</th>\n",
       "      <td>April_09_brush_hair_u_nm_np1_ba_goo_1.avi</td>\n",
       "      <td>brush_hair</td>\n",
       "      <td>April_09_</td>\n",
       "      <td>_u_nm_np1_ba_goo_1.avi</td>\n",
       "    </tr>\n",
       "    <tr>\n",
       "      <th>2</th>\n",
       "      <td>April_09_brush_hair_u_nm_np1_ba_goo_2.avi</td>\n",
       "      <td>brush_hair</td>\n",
       "      <td>April_09_</td>\n",
       "      <td>_u_nm_np1_ba_goo_2.avi</td>\n",
       "    </tr>\n",
       "    <tr>\n",
       "      <th>3</th>\n",
       "      <td>atempting_to_brush_my_hair_brush_hair_u_nm_np2...</td>\n",
       "      <td>brush_hair</td>\n",
       "      <td>atempting_to_brush_my_hair_</td>\n",
       "      <td>_u_nm_np2_le_goo_0.avi</td>\n",
       "    </tr>\n",
       "    <tr>\n",
       "      <th>4</th>\n",
       "      <td>atempting_to_brush_my_hair_brush_hair_u_nm_np2...</td>\n",
       "      <td>brush_hair</td>\n",
       "      <td>atempting_to_brush_my_hair_</td>\n",
       "      <td>_u_nm_np2_le_goo_1.avi</td>\n",
       "    </tr>\n",
       "    <tr>\n",
       "      <th>...</th>\n",
       "      <td>...</td>\n",
       "      <td>...</td>\n",
       "      <td>...</td>\n",
       "      <td>...</td>\n",
       "    </tr>\n",
       "    <tr>\n",
       "      <th>6761</th>\n",
       "      <td>winKen_wave_u_cm_np1_ba_bad_0.avi</td>\n",
       "      <td>wave</td>\n",
       "      <td>winKen_</td>\n",
       "      <td>_u_cm_np1_ba_bad_0.avi</td>\n",
       "    </tr>\n",
       "    <tr>\n",
       "      <th>6762</th>\n",
       "      <td>winKen_wave_u_cm_np1_ri_bad_1.avi</td>\n",
       "      <td>wave</td>\n",
       "      <td>winKen_</td>\n",
       "      <td>_u_cm_np1_ri_bad_1.avi</td>\n",
       "    </tr>\n",
       "    <tr>\n",
       "      <th>6763</th>\n",
       "      <td>_I_ll_Just_Wave_My_Hand__sung_by_Cornerstone_M...</td>\n",
       "      <td>wave</td>\n",
       "      <td>_I_ll_Just_Wave_My_Hand__sung_by_Cornerstone_M...</td>\n",
       "      <td>_u_cm_np1_fr_med_0.avi</td>\n",
       "    </tr>\n",
       "    <tr>\n",
       "      <th>6764</th>\n",
       "      <td>_I_ll_Just_Wave_My_Hand__sung_by_Cornerstone_M...</td>\n",
       "      <td>wave</td>\n",
       "      <td>_I_ll_Just_Wave_My_Hand__sung_by_Cornerstone_M...</td>\n",
       "      <td>_u_cm_np1_fr_med_1.avi</td>\n",
       "    </tr>\n",
       "    <tr>\n",
       "      <th>6765</th>\n",
       "      <td>_I_ll_Just_Wave_My_Hand__sung_by_Cornerstone_M...</td>\n",
       "      <td>wave</td>\n",
       "      <td>_I_ll_Just_Wave_My_Hand__sung_by_Cornerstone_M...</td>\n",
       "      <td>_u_cm_np1_fr_med_2.avi</td>\n",
       "    </tr>\n",
       "  </tbody>\n",
       "</table>\n",
       "<p>6766 rows × 4 columns</p>\n",
       "</div>"
      ],
      "text/plain": [
       "                                              file_name    activity  \\\n",
       "0             April_09_brush_hair_u_nm_np1_ba_goo_0.avi  brush_hair   \n",
       "1             April_09_brush_hair_u_nm_np1_ba_goo_1.avi  brush_hair   \n",
       "2             April_09_brush_hair_u_nm_np1_ba_goo_2.avi  brush_hair   \n",
       "3     atempting_to_brush_my_hair_brush_hair_u_nm_np2...  brush_hair   \n",
       "4     atempting_to_brush_my_hair_brush_hair_u_nm_np2...  brush_hair   \n",
       "...                                                 ...         ...   \n",
       "6761                  winKen_wave_u_cm_np1_ba_bad_0.avi        wave   \n",
       "6762                  winKen_wave_u_cm_np1_ri_bad_1.avi        wave   \n",
       "6763  _I_ll_Just_Wave_My_Hand__sung_by_Cornerstone_M...        wave   \n",
       "6764  _I_ll_Just_Wave_My_Hand__sung_by_Cornerstone_M...        wave   \n",
       "6765  _I_ll_Just_Wave_My_Hand__sung_by_Cornerstone_M...        wave   \n",
       "\n",
       "                                                  title  \\\n",
       "0                                             April_09_   \n",
       "1                                             April_09_   \n",
       "2                                             April_09_   \n",
       "3                           atempting_to_brush_my_hair_   \n",
       "4                           atempting_to_brush_my_hair_   \n",
       "...                                                 ...   \n",
       "6761                                            winKen_   \n",
       "6762                                            winKen_   \n",
       "6763  _I_ll_Just_Wave_My_Hand__sung_by_Cornerstone_M...   \n",
       "6764  _I_ll_Just_Wave_My_Hand__sung_by_Cornerstone_M...   \n",
       "6765  _I_ll_Just_Wave_My_Hand__sung_by_Cornerstone_M...   \n",
       "\n",
       "                  properties  \n",
       "0     _u_nm_np1_ba_goo_0.avi  \n",
       "1     _u_nm_np1_ba_goo_1.avi  \n",
       "2     _u_nm_np1_ba_goo_2.avi  \n",
       "3     _u_nm_np2_le_goo_0.avi  \n",
       "4     _u_nm_np2_le_goo_1.avi  \n",
       "...                      ...  \n",
       "6761  _u_cm_np1_ba_bad_0.avi  \n",
       "6762  _u_cm_np1_ri_bad_1.avi  \n",
       "6763  _u_cm_np1_fr_med_0.avi  \n",
       "6764  _u_cm_np1_fr_med_1.avi  \n",
       "6765  _u_cm_np1_fr_med_2.avi  \n",
       "\n",
       "[6766 rows x 4 columns]"
      ]
     },
     "execution_count": 25,
     "metadata": {},
     "output_type": "execute_result"
    }
   ],
   "source": [
    "file_df['title'] = file_df.apply(lambda file_df: title_properties(file_df['file_name'], file_df['activity'])[0], axis=1)\n",
    "file_df['properties'] = file_df.apply(lambda file_df: title_properties(file_df['file_name'], file_df['activity'])[1], axis=1)\n",
    "file_df"
   ]
  },
  {
   "cell_type": "code",
   "execution_count": 50,
   "id": "f7620bb4",
   "metadata": {},
   "outputs": [
    {
     "data": {
      "text/html": [
       "<div>\n",
       "<style scoped>\n",
       "    .dataframe tbody tr th:only-of-type {\n",
       "        vertical-align: middle;\n",
       "    }\n",
       "\n",
       "    .dataframe tbody tr th {\n",
       "        vertical-align: top;\n",
       "    }\n",
       "\n",
       "    .dataframe thead th {\n",
       "        text-align: right;\n",
       "    }\n",
       "</style>\n",
       "<table border=\"1\" class=\"dataframe\">\n",
       "  <thead>\n",
       "    <tr style=\"text-align: right;\">\n",
       "      <th></th>\n",
       "      <th>activity</th>\n",
       "      <th>properties</th>\n",
       "    </tr>\n",
       "  </thead>\n",
       "  <tbody>\n",
       "    <tr>\n",
       "      <th>0</th>\n",
       "      <td>walk</td>\n",
       "      <td>548</td>\n",
       "    </tr>\n",
       "    <tr>\n",
       "      <th>1</th>\n",
       "      <td>turn</td>\n",
       "      <td>240</td>\n",
       "    </tr>\n",
       "    <tr>\n",
       "      <th>2</th>\n",
       "      <td>run</td>\n",
       "      <td>232</td>\n",
       "    </tr>\n",
       "    <tr>\n",
       "      <th>3</th>\n",
       "      <td>drink</td>\n",
       "      <td>164</td>\n",
       "    </tr>\n",
       "    <tr>\n",
       "      <th>4</th>\n",
       "      <td>shake_hands</td>\n",
       "      <td>162</td>\n",
       "    </tr>\n",
       "  </tbody>\n",
       "</table>\n",
       "</div>"
      ],
      "text/plain": [
       "      activity  properties\n",
       "0         walk         548\n",
       "1         turn         240\n",
       "2          run         232\n",
       "3        drink         164\n",
       "4  shake_hands         162"
      ]
     },
     "execution_count": 50,
     "metadata": {},
     "output_type": "execute_result"
    }
   ],
   "source": [
    "from pydoc import describe\n",
    "\n",
    "\n",
    "df_bar = file_df.groupby('activity')[['properties']].count()\n",
    "df_bar.sort_values('properties', inplace=True, ascending=False)\n",
    "df_bar = df_bar.reset_index(level=0)\n",
    "df_bar['activity'] = df_bar['activity'].apply(lambda x: x.strip())\n",
    "df_bar.head()"
   ]
  },
  {
   "cell_type": "code",
   "execution_count": 68,
   "id": "c99ec8f8",
   "metadata": {},
   "outputs": [
    {
     "data": {
      "image/png": "[encoded data removed]",
      "text/plain": [
       "<Figure size 842.4x595.44 with 1 Axes>"
      ]
     },
     "metadata": {},
     "output_type": "display_data"
    }
   ],
   "source": [
    "import seaborn as sns\n",
    "sns.set_theme(style=\"whitegrid\")\n",
    "sns.set(rc={'figure.figsize':(11.7,8.27)})\n",
    "plt.xticks(rotation=90)\n",
    "\n",
    "#tips = sns.load_dataset(\"tips\")\n",
    "ax = sns.barplot(x=\"activity\", y=\"properties\", data=df_bar, color=\"salmon\", saturation=.5)\n",
    "\n",
    "#ax.axes.set_title(\"Videos by class\",fontsize=30)\n",
    "ax.set_ylabel(\"Number of videos\",fontsize= 25)\n",
    "ax.set_xlabel(\"Actions\",fontsize=25)\n",
    "#fig = ax.get_figure()\n",
    "plt.savefig(\"./Report/Plots/video_by_class.png\", bbox_inches = \"tight\")"
   ]
  },
  {
   "cell_type": "code",
   "execution_count": 26,
   "id": "53c2ab31",
   "metadata": {
    "ExecuteTime": {
     "end_time": "2022-08-04T15:32:38.104805Z",
     "start_time": "2022-08-04T15:32:38.088805Z"
    },
    "id": "53c2ab31"
   },
   "outputs": [],
   "source": [
    "def separate_properties(string):\n",
    "    match = re.match('_(\\w+)_(\\w+)_(\\w+)_(\\w+)_(\\w+)_(\\d+).avi', string)\n",
    "    return(match)"
   ]
  },
  {
   "cell_type": "code",
   "execution_count": null,
   "id": "0a14da74",
   "metadata": {
    "ExecuteTime": {
     "end_time": "2022-08-04T15:46:20.482719Z",
     "start_time": "2022-08-04T15:46:19.819252Z"
    },
    "id": "0a14da74",
    "scrolled": true
   },
   "outputs": [],
   "source": [
    "file_df['visible_body_parts'] = file_df.apply(lambda file_df: separate_properties(file_df['properties'])[1], axis=1)\n",
    "file_df['camera_motion'] = file_df.apply(lambda file_df: separate_properties(file_df['properties'])[2], axis=1)\n",
    "file_df['number_of_people'] = file_df.apply(lambda file_df: separate_properties(file_df['properties'])[3], axis=1)\n",
    "file_df['camera_viewpoint'] = file_df.apply(lambda file_df: separate_properties(file_df['properties'])[4], axis=1)\n",
    "file_df['video_quality'] = file_df.apply(lambda file_df: separate_properties(file_df['properties'])[5], axis=1)\n",
    "file_df['video_number'] = file_df.apply(lambda file_df: separate_properties(file_df['properties'])[6], axis=1)"
   ]
  },
  {
   "cell_type": "code",
   "execution_count": null,
   "id": "9c66d7b7",
   "metadata": {
    "ExecuteTime": {
     "end_time": "2022-08-04T15:46:22.529879Z",
     "start_time": "2022-08-04T15:46:22.490056Z"
    },
    "id": "9c66d7b7",
    "outputId": "b8e70838-2843-46af-cab1-8359f9b45c62"
   },
   "outputs": [
    {
     "data": {
      "text/html": [
       "<div>\n",
       "<style scoped>\n",
       "    .dataframe tbody tr th:only-of-type {\n",
       "        vertical-align: middle;\n",
       "    }\n",
       "\n",
       "    .dataframe tbody tr th {\n",
       "        vertical-align: top;\n",
       "    }\n",
       "\n",
       "    .dataframe thead th {\n",
       "        text-align: right;\n",
       "    }\n",
       "</style>\n",
       "<table border=\"1\" class=\"dataframe\">\n",
       "  <thead>\n",
       "    <tr style=\"text-align: right;\">\n",
       "      <th></th>\n",
       "      <th>title</th>\n",
       "      <th>video_number</th>\n",
       "      <th>activity</th>\n",
       "      <th>visible_body_parts</th>\n",
       "      <th>camera_motion</th>\n",
       "      <th>number_of_people</th>\n",
       "      <th>camera_viewpoint</th>\n",
       "      <th>video_quality</th>\n",
       "    </tr>\n",
       "  </thead>\n",
       "  <tbody>\n",
       "    <tr>\n",
       "      <th>0</th>\n",
       "      <td>April_09_</td>\n",
       "      <td>0</td>\n",
       "      <td>brush_hair</td>\n",
       "      <td>u</td>\n",
       "      <td>nm</td>\n",
       "      <td>np1</td>\n",
       "      <td>ba</td>\n",
       "      <td>goo</td>\n",
       "    </tr>\n",
       "    <tr>\n",
       "      <th>1</th>\n",
       "      <td>April_09_</td>\n",
       "      <td>1</td>\n",
       "      <td>brush_hair</td>\n",
       "      <td>u</td>\n",
       "      <td>nm</td>\n",
       "      <td>np1</td>\n",
       "      <td>ba</td>\n",
       "      <td>goo</td>\n",
       "    </tr>\n",
       "    <tr>\n",
       "      <th>2</th>\n",
       "      <td>April_09_</td>\n",
       "      <td>2</td>\n",
       "      <td>brush_hair</td>\n",
       "      <td>u</td>\n",
       "      <td>nm</td>\n",
       "      <td>np1</td>\n",
       "      <td>ba</td>\n",
       "      <td>goo</td>\n",
       "    </tr>\n",
       "    <tr>\n",
       "      <th>3</th>\n",
       "      <td>atempting_to_brush_my_hair_</td>\n",
       "      <td>0</td>\n",
       "      <td>brush_hair</td>\n",
       "      <td>u</td>\n",
       "      <td>nm</td>\n",
       "      <td>np2</td>\n",
       "      <td>le</td>\n",
       "      <td>goo</td>\n",
       "    </tr>\n",
       "    <tr>\n",
       "      <th>4</th>\n",
       "      <td>atempting_to_brush_my_hair_</td>\n",
       "      <td>1</td>\n",
       "      <td>brush_hair</td>\n",
       "      <td>u</td>\n",
       "      <td>nm</td>\n",
       "      <td>np2</td>\n",
       "      <td>le</td>\n",
       "      <td>goo</td>\n",
       "    </tr>\n",
       "    <tr>\n",
       "      <th>...</th>\n",
       "      <td>...</td>\n",
       "      <td>...</td>\n",
       "      <td>...</td>\n",
       "      <td>...</td>\n",
       "      <td>...</td>\n",
       "      <td>...</td>\n",
       "      <td>...</td>\n",
       "      <td>...</td>\n",
       "    </tr>\n",
       "    <tr>\n",
       "      <th>6761</th>\n",
       "      <td>winKen_</td>\n",
       "      <td>0</td>\n",
       "      <td>wave</td>\n",
       "      <td>u</td>\n",
       "      <td>cm</td>\n",
       "      <td>np1</td>\n",
       "      <td>ba</td>\n",
       "      <td>bad</td>\n",
       "    </tr>\n",
       "    <tr>\n",
       "      <th>6762</th>\n",
       "      <td>winKen_</td>\n",
       "      <td>1</td>\n",
       "      <td>wave</td>\n",
       "      <td>u</td>\n",
       "      <td>cm</td>\n",
       "      <td>np1</td>\n",
       "      <td>ri</td>\n",
       "      <td>bad</td>\n",
       "    </tr>\n",
       "    <tr>\n",
       "      <th>6763</th>\n",
       "      <td>_I_ll_Just_Wave_My_Hand__sung_by_Cornerstone_M...</td>\n",
       "      <td>0</td>\n",
       "      <td>wave</td>\n",
       "      <td>u</td>\n",
       "      <td>cm</td>\n",
       "      <td>np1</td>\n",
       "      <td>fr</td>\n",
       "      <td>med</td>\n",
       "    </tr>\n",
       "    <tr>\n",
       "      <th>6764</th>\n",
       "      <td>_I_ll_Just_Wave_My_Hand__sung_by_Cornerstone_M...</td>\n",
       "      <td>1</td>\n",
       "      <td>wave</td>\n",
       "      <td>u</td>\n",
       "      <td>cm</td>\n",
       "      <td>np1</td>\n",
       "      <td>fr</td>\n",
       "      <td>med</td>\n",
       "    </tr>\n",
       "    <tr>\n",
       "      <th>6765</th>\n",
       "      <td>_I_ll_Just_Wave_My_Hand__sung_by_Cornerstone_M...</td>\n",
       "      <td>2</td>\n",
       "      <td>wave</td>\n",
       "      <td>u</td>\n",
       "      <td>cm</td>\n",
       "      <td>np1</td>\n",
       "      <td>fr</td>\n",
       "      <td>med</td>\n",
       "    </tr>\n",
       "  </tbody>\n",
       "</table>\n",
       "<p>6766 rows × 8 columns</p>\n",
       "</div>"
      ],
      "text/plain": [
       "                                                  title  video_number  \\\n",
       "0                                             April_09_             0   \n",
       "1                                             April_09_             1   \n",
       "2                                             April_09_             2   \n",
       "3                           atempting_to_brush_my_hair_             0   \n",
       "4                           atempting_to_brush_my_hair_             1   \n",
       "...                                                 ...           ...   \n",
       "6761                                            winKen_             0   \n",
       "6762                                            winKen_             1   \n",
       "6763  _I_ll_Just_Wave_My_Hand__sung_by_Cornerstone_M...             0   \n",
       "6764  _I_ll_Just_Wave_My_Hand__sung_by_Cornerstone_M...             1   \n",
       "6765  _I_ll_Just_Wave_My_Hand__sung_by_Cornerstone_M...             2   \n",
       "\n",
       "        activity visible_body_parts camera_motion number_of_people  \\\n",
       "0     brush_hair                  u            nm              np1   \n",
       "1     brush_hair                  u            nm              np1   \n",
       "2     brush_hair                  u            nm              np1   \n",
       "3     brush_hair                  u            nm              np2   \n",
       "4     brush_hair                  u            nm              np2   \n",
       "...          ...                ...           ...              ...   \n",
       "6761        wave                  u            cm              np1   \n",
       "6762        wave                  u            cm              np1   \n",
       "6763        wave                  u            cm              np1   \n",
       "6764        wave                  u            cm              np1   \n",
       "6765        wave                  u            cm              np1   \n",
       "\n",
       "     camera_viewpoint video_quality  \n",
       "0                  ba           goo  \n",
       "1                  ba           goo  \n",
       "2                  ba           goo  \n",
       "3                  le           goo  \n",
       "4                  le           goo  \n",
       "...               ...           ...  \n",
       "6761               ba           bad  \n",
       "6762               ri           bad  \n",
       "6763               fr           med  \n",
       "6764               fr           med  \n",
       "6765               fr           med  \n",
       "\n",
       "[6766 rows x 8 columns]"
      ]
     },
     "execution_count": 34,
     "metadata": {},
     "output_type": "execute_result"
    }
   ],
   "source": [
    "file_df_complete = file_df[['title', 'video_number', 'activity', 'visible_body_parts', 'camera_motion', 'number_of_people', 'camera_viewpoint', 'video_quality']]\n",
    "file_df_complete = file_df_complete.astype({'video_number': int})\n",
    "file_df_complete"
   ]
  },
  {
   "cell_type": "code",
   "execution_count": null,
   "id": "322d6af8",
   "metadata": {
    "ExecuteTime": {
     "end_time": "2022-08-04T15:48:20.185087Z",
     "start_time": "2022-08-04T15:48:20.153340Z"
    },
    "id": "322d6af8",
    "outputId": "baaf0500-bb53-4dc0-8ff5-e84875cd0d66"
   },
   "outputs": [
    {
     "name": "stdout",
     "output_type": "stream",
     "text": [
      "Number of individual videos: 1407\n"
     ]
    }
   ],
   "source": [
    "print(\"Number of individual videos:\", len(file_df_complete.groupby('title').count()))"
   ]
  },
  {
   "cell_type": "code",
   "execution_count": null,
   "id": "3948d2ab",
   "metadata": {
    "ExecuteTime": {
     "end_time": "2022-08-04T15:50:41.848377Z",
     "start_time": "2022-08-04T15:50:41.550003Z"
    },
    "id": "3948d2ab",
    "outputId": "22957a7a-5840-4843-a92c-c32c41438d77"
   },
   "outputs": [
    {
     "name": "stderr",
     "output_type": "stream",
     "text": [
      "C:\\ProgramData\\Anaconda3\\lib\\site-packages\\seaborn\\_decorators.py:36: FutureWarning: Pass the following variable as a keyword arg: x. From version 0.12, the only valid positional argument will be `data`, and passing other arguments without an explicit keyword will result in an error or misinterpretation.\n",
      "  warnings.warn(\n"
     ]
    },
    {
     "ename": "TypeError",
     "evalue": "Horizontal orientation requires numeric `x` variable.",
     "output_type": "error",
     "traceback": [
      "\u001b[1;31m---------------------------------------------------------------------------\u001b[0m",
      "\u001b[1;31mTypeError\u001b[0m                                 Traceback (most recent call last)",
      "\u001b[1;32m~\\AppData\\Local\\Temp/ipykernel_24996/1641898624.py\u001b[0m in \u001b[0;36m<module>\u001b[1;34m\u001b[0m\n\u001b[1;32m----> 1\u001b[1;33m \u001b[0msns\u001b[0m\u001b[1;33m.\u001b[0m\u001b[0mbarplot\u001b[0m\u001b[1;33m(\u001b[0m\u001b[0mfile_df_complete\u001b[0m\u001b[1;33m[\u001b[0m\u001b[1;34m'camera_motion'\u001b[0m\u001b[1;33m]\u001b[0m\u001b[1;33m)\u001b[0m\u001b[1;33m\u001b[0m\u001b[1;33m\u001b[0m\u001b[0m\n\u001b[0m",
      "\u001b[1;32mC:\\ProgramData\\Anaconda3\\lib\\site-packages\\seaborn\\_decorators.py\u001b[0m in \u001b[0;36minner_f\u001b[1;34m(*args, **kwargs)\u001b[0m\n\u001b[0;32m     44\u001b[0m             )\n\u001b[0;32m     45\u001b[0m         \u001b[0mkwargs\u001b[0m\u001b[1;33m.\u001b[0m\u001b[0mupdate\u001b[0m\u001b[1;33m(\u001b[0m\u001b[1;33m{\u001b[0m\u001b[0mk\u001b[0m\u001b[1;33m:\u001b[0m \u001b[0marg\u001b[0m \u001b[1;32mfor\u001b[0m \u001b[0mk\u001b[0m\u001b[1;33m,\u001b[0m \u001b[0marg\u001b[0m \u001b[1;32min\u001b[0m \u001b[0mzip\u001b[0m\u001b[1;33m(\u001b[0m\u001b[0msig\u001b[0m\u001b[1;33m.\u001b[0m\u001b[0mparameters\u001b[0m\u001b[1;33m,\u001b[0m \u001b[0margs\u001b[0m\u001b[1;33m)\u001b[0m\u001b[1;33m}\u001b[0m\u001b[1;33m)\u001b[0m\u001b[1;33m\u001b[0m\u001b[1;33m\u001b[0m\u001b[0m\n\u001b[1;32m---> 46\u001b[1;33m         \u001b[1;32mreturn\u001b[0m \u001b[0mf\u001b[0m\u001b[1;33m(\u001b[0m\u001b[1;33m**\u001b[0m\u001b[0mkwargs\u001b[0m\u001b[1;33m)\u001b[0m\u001b[1;33m\u001b[0m\u001b[1;33m\u001b[0m\u001b[0m\n\u001b[0m\u001b[0;32m     47\u001b[0m     \u001b[1;32mreturn\u001b[0m \u001b[0minner_f\u001b[0m\u001b[1;33m\u001b[0m\u001b[1;33m\u001b[0m\u001b[0m\n\u001b[0;32m     48\u001b[0m \u001b[1;33m\u001b[0m\u001b[0m\n",
      "\u001b[1;32mC:\\ProgramData\\Anaconda3\\lib\\site-packages\\seaborn\\categorical.py\u001b[0m in \u001b[0;36mbarplot\u001b[1;34m(x, y, hue, data, order, hue_order, estimator, ci, n_boot, units, seed, orient, color, palette, saturation, errcolor, errwidth, capsize, dodge, ax, **kwargs)\u001b[0m\n\u001b[0;32m   3180\u001b[0m ):\n\u001b[0;32m   3181\u001b[0m \u001b[1;33m\u001b[0m\u001b[0m\n\u001b[1;32m-> 3182\u001b[1;33m     plotter = _BarPlotter(x, y, hue, data, order, hue_order,\n\u001b[0m\u001b[0;32m   3183\u001b[0m                           \u001b[0mestimator\u001b[0m\u001b[1;33m,\u001b[0m \u001b[0mci\u001b[0m\u001b[1;33m,\u001b[0m \u001b[0mn_boot\u001b[0m\u001b[1;33m,\u001b[0m \u001b[0munits\u001b[0m\u001b[1;33m,\u001b[0m \u001b[0mseed\u001b[0m\u001b[1;33m,\u001b[0m\u001b[1;33m\u001b[0m\u001b[1;33m\u001b[0m\u001b[0m\n\u001b[0;32m   3184\u001b[0m                           \u001b[0morient\u001b[0m\u001b[1;33m,\u001b[0m \u001b[0mcolor\u001b[0m\u001b[1;33m,\u001b[0m \u001b[0mpalette\u001b[0m\u001b[1;33m,\u001b[0m \u001b[0msaturation\u001b[0m\u001b[1;33m,\u001b[0m\u001b[1;33m\u001b[0m\u001b[1;33m\u001b[0m\u001b[0m\n",
      "\u001b[1;32mC:\\ProgramData\\Anaconda3\\lib\\site-packages\\seaborn\\categorical.py\u001b[0m in \u001b[0;36m__init__\u001b[1;34m(self, x, y, hue, data, order, hue_order, estimator, ci, n_boot, units, seed, orient, color, palette, saturation, errcolor, errwidth, capsize, dodge)\u001b[0m\n\u001b[0;32m   1582\u001b[0m                  errwidth, capsize, dodge):\n\u001b[0;32m   1583\u001b[0m         \u001b[1;34m\"\"\"Initialize the plotter.\"\"\"\u001b[0m\u001b[1;33m\u001b[0m\u001b[1;33m\u001b[0m\u001b[0m\n\u001b[1;32m-> 1584\u001b[1;33m         self.establish_variables(x, y, hue, data, orient,\n\u001b[0m\u001b[0;32m   1585\u001b[0m                                  order, hue_order, units)\n\u001b[0;32m   1586\u001b[0m         \u001b[0mself\u001b[0m\u001b[1;33m.\u001b[0m\u001b[0mestablish_colors\u001b[0m\u001b[1;33m(\u001b[0m\u001b[0mcolor\u001b[0m\u001b[1;33m,\u001b[0m \u001b[0mpalette\u001b[0m\u001b[1;33m,\u001b[0m \u001b[0msaturation\u001b[0m\u001b[1;33m)\u001b[0m\u001b[1;33m\u001b[0m\u001b[1;33m\u001b[0m\u001b[0m\n",
      "\u001b[1;32mC:\\ProgramData\\Anaconda3\\lib\\site-packages\\seaborn\\categorical.py\u001b[0m in \u001b[0;36mestablish_variables\u001b[1;34m(self, x, y, hue, data, orient, order, hue_order, units)\u001b[0m\n\u001b[0;32m    154\u001b[0m \u001b[1;33m\u001b[0m\u001b[0m\n\u001b[0;32m    155\u001b[0m             \u001b[1;31m# Figure out the plotting orientation\u001b[0m\u001b[1;33m\u001b[0m\u001b[1;33m\u001b[0m\u001b[0m\n\u001b[1;32m--> 156\u001b[1;33m             orient = infer_orient(\n\u001b[0m\u001b[0;32m    157\u001b[0m                 \u001b[0mx\u001b[0m\u001b[1;33m,\u001b[0m \u001b[0my\u001b[0m\u001b[1;33m,\u001b[0m \u001b[0morient\u001b[0m\u001b[1;33m,\u001b[0m \u001b[0mrequire_numeric\u001b[0m\u001b[1;33m=\u001b[0m\u001b[0mself\u001b[0m\u001b[1;33m.\u001b[0m\u001b[0mrequire_numeric\u001b[0m\u001b[1;33m\u001b[0m\u001b[1;33m\u001b[0m\u001b[0m\n\u001b[0;32m    158\u001b[0m             )\n",
      "\u001b[1;32mC:\\ProgramData\\Anaconda3\\lib\\site-packages\\seaborn\\_core.py\u001b[0m in \u001b[0;36minfer_orient\u001b[1;34m(x, y, orient, require_numeric)\u001b[0m\n\u001b[0;32m   1326\u001b[0m             \u001b[0mwarnings\u001b[0m\u001b[1;33m.\u001b[0m\u001b[0mwarn\u001b[0m\u001b[1;33m(\u001b[0m\u001b[0msingle_var_warning\u001b[0m\u001b[1;33m.\u001b[0m\u001b[0mformat\u001b[0m\u001b[1;33m(\u001b[0m\u001b[1;34m\"Vertical\"\u001b[0m\u001b[1;33m,\u001b[0m \u001b[1;34m\"x\"\u001b[0m\u001b[1;33m)\u001b[0m\u001b[1;33m)\u001b[0m\u001b[1;33m\u001b[0m\u001b[1;33m\u001b[0m\u001b[0m\n\u001b[0;32m   1327\u001b[0m         \u001b[1;32mif\u001b[0m \u001b[0mrequire_numeric\u001b[0m \u001b[1;32mand\u001b[0m \u001b[0mx_type\u001b[0m \u001b[1;33m!=\u001b[0m \u001b[1;34m\"numeric\"\u001b[0m\u001b[1;33m:\u001b[0m\u001b[1;33m\u001b[0m\u001b[1;33m\u001b[0m\u001b[0m\n\u001b[1;32m-> 1328\u001b[1;33m             \u001b[1;32mraise\u001b[0m \u001b[0mTypeError\u001b[0m\u001b[1;33m(\u001b[0m\u001b[0mnonnumeric_dv_error\u001b[0m\u001b[1;33m.\u001b[0m\u001b[0mformat\u001b[0m\u001b[1;33m(\u001b[0m\u001b[1;34m\"Horizontal\"\u001b[0m\u001b[1;33m,\u001b[0m \u001b[1;34m\"x\"\u001b[0m\u001b[1;33m)\u001b[0m\u001b[1;33m)\u001b[0m\u001b[1;33m\u001b[0m\u001b[1;33m\u001b[0m\u001b[0m\n\u001b[0m\u001b[0;32m   1329\u001b[0m         \u001b[1;32mreturn\u001b[0m \u001b[1;34m\"h\"\u001b[0m\u001b[1;33m\u001b[0m\u001b[1;33m\u001b[0m\u001b[0m\n\u001b[0;32m   1330\u001b[0m \u001b[1;33m\u001b[0m\u001b[0m\n",
      "\u001b[1;31mTypeError\u001b[0m: Horizontal orientation requires numeric `x` variable."
     ]
    }
   ],
   "source": [
    "sns.barplot(file_df_complete['camera_motion'])"
   ]
  },
  {
   "cell_type": "markdown",
   "id": "8e05da51",
   "metadata": {
    "id": "8e05da51"
   },
   "source": [
    "## Video details exploration"
   ]
  },
  {
   "cell_type": "code",
   "execution_count": null,
   "id": "4974408d",
   "metadata": {
    "ExecuteTime": {
     "end_time": "2022-08-02T14:01:35.708345Z",
     "start_time": "2022-08-02T14:01:33.281009Z"
    },
    "id": "4974408d",
    "outputId": "edfb6d6d-95ae-4b7e-cbfe-c522de33f062"
   },
   "outputs": [
    {
     "name": "stdout",
     "output_type": "stream",
     "text": [
      "hub://activeloop/hmdb51-train loaded successfully.\n",
      "This dataset can be visualized in Jupyter Notebook by ds.visualize() or at https://app.activeloop.ai/activeloop/hmdb51-train\n"
     ]
    },
    {
     "data": {
      "text/plain": [
       "Dataset(path='hub://activeloop/hmdb51-train', read_only=True, tensors=['visible_body_parts', 'camera_motion', 'camera_viewpoint', 'number_of_people', 'video_quality', 'labels', 'videos'])"
      ]
     },
     "execution_count": 16,
     "metadata": {},
     "output_type": "execute_result"
    }
   ],
   "source": [
    "hmdb51_train = hub.load(\"hub://activeloop/hmdb51-train\")\n",
    "#hmdb51_test = hub.load(\"hub://activeloop/hmdb51-test\")\n",
    "hmdb51_train"
   ]
  },
  {
   "cell_type": "code",
   "execution_count": null,
   "id": "72f82398",
   "metadata": {
    "ExecuteTime": {
     "end_time": "2022-08-02T15:28:36.546227Z",
     "start_time": "2022-08-02T15:28:36.528025Z"
    },
    "id": "72f82398"
   },
   "outputs": [],
   "source": [
    "#!pip install torchvision"
   ]
  },
  {
   "cell_type": "code",
   "execution_count": null,
   "id": "3a689851",
   "metadata": {
    "ExecuteTime": {
     "end_time": "2022-08-02T15:19:50.288955Z",
     "start_time": "2022-08-02T15:19:49.477601Z"
    },
    "id": "3a689851"
   },
   "outputs": [],
   "source": [
    "import torch\n",
    "import torch.nn as nn\n",
    "from torch.nn import functional as F\n",
    "from torch.utils.data import random_split, DataLoader\n",
    "from torch.optim.lr_scheduler import StepLR\n",
    "import torchvision\n",
    "from torchvision import get_video_backend\n",
    "from torchvision.models.video import r3d_18 \n",
    "from torchvision import transforms"
   ]
  },
  {
   "cell_type": "code",
   "execution_count": null,
   "id": "b8a5c2c1",
   "metadata": {
    "ExecuteTime": {
     "end_time": "2022-08-02T15:23:17.239752Z",
     "start_time": "2022-08-02T15:23:17.181928Z"
    },
    "id": "b8a5c2c1",
    "outputId": "5111149d-4422-4d9e-f549-05800a812a42",
    "scrolled": true
   },
   "outputs": [
    {
     "ename": "TypeError",
     "evalue": "__init__() missing 3 required positional arguments: 'root', 'annotation_path', and 'frames_per_clip'",
     "output_type": "error",
     "traceback": [
      "\u001b[1;31m---------------------------------------------------------------------------\u001b[0m",
      "\u001b[1;31mTypeError\u001b[0m                                 Traceback (most recent call last)",
      "\u001b[1;32m~\\AppData\\Local\\Temp/ipykernel_18248/1381628456.py\u001b[0m in \u001b[0;36m<module>\u001b[1;34m\u001b[0m\n\u001b[1;32m----> 1\u001b[1;33m \u001b[0mhmdb51_training\u001b[0m \u001b[1;33m=\u001b[0m \u001b[0mtorchvision\u001b[0m\u001b[1;33m.\u001b[0m\u001b[0mdatasets\u001b[0m\u001b[1;33m.\u001b[0m\u001b[0mHMDB51\u001b[0m\u001b[1;33m(\u001b[0m\u001b[1;33m)\u001b[0m\u001b[1;33m\u001b[0m\u001b[1;33m\u001b[0m\u001b[0m\n\u001b[0m\u001b[0;32m      2\u001b[0m \u001b[0mbatch_size\u001b[0m\u001b[1;33m=\u001b[0m\u001b[1;36m32\u001b[0m\u001b[1;33m\u001b[0m\u001b[1;33m\u001b[0m\u001b[0m\n\u001b[0;32m      3\u001b[0m \u001b[0mdata_loader\u001b[0m \u001b[1;33m=\u001b[0m \u001b[0mDataLoader\u001b[0m\u001b[1;33m(\u001b[0m\u001b[0mhmdb51_training\u001b[0m\u001b[1;33m,\u001b[0m \u001b[0mbatch_size\u001b[0m\u001b[1;33m=\u001b[0m\u001b[0mbatch_size\u001b[0m\u001b[1;33m,\u001b[0m \u001b[0mshuffle\u001b[0m\u001b[1;33m=\u001b[0m\u001b[1;32mTrue\u001b[0m\u001b[1;33m,\u001b[0m \u001b[1;33m**\u001b[0m\u001b[0mkwargs\u001b[0m\u001b[1;33m)\u001b[0m\u001b[1;33m\u001b[0m\u001b[1;33m\u001b[0m\u001b[0m\n",
      "\u001b[1;31mTypeError\u001b[0m: __init__() missing 3 required positional arguments: 'root', 'annotation_path', and 'frames_per_clip'"
     ]
    }
   ],
   "source": [
    "hmdb51_training = torchvision.datasets.HMDB51('video_data/', 'test_train_splits/', num_frames,\n",
    "                                                step_between_clips = clip_steps, fold=1, train=True,\n",
    "                                                transform=data, num_workers=num_workers)\n",
    "batch_size=32\n",
    "data_loader = DataLoader(hmdb51_training, batch_size=batch_size, shuffle=True, **kwargs)"
   ]
  },
  {
   "cell_type": "code",
   "execution_count": null,
   "id": "dea549b8",
   "metadata": {},
   "outputs": [],
   "source": [
    "import numpy as np\n",
    "import pandas as pd\n",
    "import matplotlib.pyplot as plt\n",
    "import os\n",
    "import random\n",
    "import cv2\n",
    "\n",
    "#path dove si trova il dataframe hmdb51\n",
    "path = \"C:/Users/Ale/Desktop/Uni/Magistrale/Secondo semestre/Deep Learning/Progetto\"\n",
    "\n",
    "##### Per ogni categoria di azioni del dataset viene estratto casualmente un video e catturato un frame\n",
    "\n",
    "plt.figure(figsize=(30,30))\n",
    "actions = os.listdir(f\"{path}/hmdb51\")    #va estratto il dataset dal file zippato\n",
    "counter = 0\n",
    "for action in actions:\n",
    "    counter += 1\n",
    "    list_videos_action = os.listdir(f\"{path}/hmdb51/{action}\")    #tutti i video di quell'azione\n",
    "    if (action != \"video\") and (action != \"rawframes\"):  \n",
    "        selected_video = random.choice(list_videos_action)\n",
    "        video_reader = cv2.VideoCapture(f\"{path}/hmdb51/{action}/{selected_video}\")\n",
    "        ret, gbrframe = video_reader.read()\n",
    "        video_reader.release()\n",
    "        rgb_frame = cv2.cvtColor(gbrframe, cv2.COLOR_BGR2RGB)    #converto immagine da BGR a RGB\n",
    "        plt.subplot(9,6,counter);plt.imshow(rgb_frame, aspect = \"auto\");plt.axis(\"off\")\n",
    "        plt.title(action, fontsize = 20)\n",
    "\n",
    "##### Creo dataframes contenenti le informazioni di quali video usare come training/test\n",
    "\n",
    "def split_to_df(split):\n",
    "    df = pd.DataFrame(columns=['action', 'title', 'train/test'])\n",
    "    for action in actions:\n",
    "        if (action != \"video\") and (action != \"rawframes\"):  \n",
    "            with open(f\"{path}/testTrainMulti_7030_splits/{action}_test_{split}.txt\") as f:\n",
    "                informations = f.readlines()       \n",
    "            for info in informations:   #per ogni video della lista dei video di una data azione\n",
    "                df.loc[len(df)] = action, info.split()[0], int(info.split()[1])\n",
    "    return df\n",
    "\n",
    "split1 = split_to_df(\"split1\")\n",
    "split2 = split_to_df(\"split2\")\n",
    "split3 = split_to_df(\"split3\")\n",
    "\n",
    "split1.head(10)\n",
    "\n",
    "split1.to_csv(\"split1.csv\")\n",
    "split2.to_csv(\"split2.csv\")\n",
    "split3.to_csv(\"split3.csv\")\n",
    "\n",
    "##### Dimensioni video\n",
    "\n",
    "\n",
    "dimensions = dict()\n",
    "for action in actions:\n",
    "    print(\"sono ad azione: \", action, end=\"\\r\")\n",
    "    for video in os.listdir(f\"{path}/hmdb51/{action}\"): \n",
    "        if split1[split1[\"title\"] == video][\"train/test\"].item() != 0:\n",
    "            video_reader = cv2.VideoCapture(f'{path}/hmdb51/{action}/{video}')\n",
    "            larghezza  = video_reader.get(cv2.CAP_PROP_FRAME_WIDTH)   # float `width`\n",
    "            video_reader.release()\n",
    "            if larghezza not in dimensions:\n",
    "                dimensions[larghezza] = 1\n",
    "            else:\n",
    "                dimensions[larghezza] += 1\n",
    "\n",
    "plt.hist (dimensions)\n",
    "plt.show()\n",
    "\n",
    "## Categories exploration\n",
    "\n",
    "dataset_directory = '.\\dataset\\Hmdb51_org_extracted'\n",
    "\n",
    "completelist = [os.path.join(path, name) for path, subdirs, files in os.walk(dataset_directory) for name in files]\n",
    "print(\"Number of files:\", len(completelist))\n",
    "\n",
    "cat_list = os.listdir(os.path.join(dataset_directory))\n",
    "print(\"Number of categories:\", len(cat_list))\n",
    "\n",
    "file_name_list = []\n",
    "cat_list_rep = []\n",
    "\n",
    "for cat in cat_list:\n",
    "    path = os.path.join(dataset_directory, cat)\n",
    "    for loc, subdirs, files in os.walk(path):\n",
    "        for file in files:\n",
    "            file_name_list.append(file)\n",
    "            cat_list_rep.append(cat)\n",
    "\n",
    "file_df = pd.DataFrame(list(zip(file_name_list, cat_list_rep)), columns = ['file_name','activity'])\n",
    "file_df\n",
    "\n",
    "def title_properties(string, category):\n",
    "    match = re.findall(f'(\\S+){category}(\\S+)', string)[-1]\n",
    "    return(match)\n",
    "\n",
    "file_df['title'] = file_df.apply(lambda file_df: title_properties(file_df['file_name'], file_df['activity'])[0], axis=1)\n",
    "file_df['properties'] = file_df.apply(lambda file_df: title_properties(file_df['file_name'], file_df['activity'])[1], axis=1)\n",
    "file_df\n",
    "\n",
    "def separate_properties(string):\n",
    "    match = re.match('_(\\w+)_(\\w+)_(\\w+)_(\\w+)_(\\w+)_(\\d+).avi', string)\n",
    "    return(match)\n",
    "\n",
    "file_df['visible_body_parts'] = file_df.apply(lambda file_df: separate_properties(file_df['properties'])[1], axis=1)\n",
    "file_df['camera_motion'] = file_df.apply(lambda file_df: separate_properties(file_df['properties'])[2], axis=1)\n",
    "file_df['number_of_people'] = file_df.apply(lambda file_df: separate_properties(file_df['properties'])[3], axis=1)\n",
    "file_df['camera_viewpoint'] = file_df.apply(lambda file_df: separate_properties(file_df['properties'])[4], axis=1)\n",
    "file_df['video_quality'] = file_df.apply(lambda file_df: separate_properties(file_df['properties'])[5], axis=1)\n",
    "file_df['video_number'] = file_df.apply(lambda file_df: separate_properties(file_df['properties'])[6], axis=1)\n",
    "\n",
    "file_df_complete = file_df[['title', 'video_number', 'activity', 'visible_body_parts', 'camera_motion', 'number_of_people', 'camera_viewpoint', 'video_quality']]\n",
    "file_df_complete = file_df_complete.astype({'video_number': int})\n",
    "file_df_complete\n",
    "\n",
    "print(\"Number of individual videos:\", len(file_df_complete.groupby('title').count()))\n",
    "\n",
    "sns.barplot(file_df_complete['camera_motion'])\n",
    "\n",
    "## Video details exploration\n",
    "\n",
    "hmdb51_train = hub.load(\"hub://activeloop/hmdb51-train\")\n",
    "#hmdb51_test = hub.load(\"hub://activeloop/hmdb51-test\")\n",
    "hmdb51_train\n",
    "\n",
    "#!pip install torchvision\n",
    "\n",
    "import torch\n",
    "import torch.nn as nn\n",
    "from torch.nn import functional as F\n",
    "from torch.utils.data import random_split, DataLoader\n",
    "from torch.optim.lr_scheduler import StepLR\n",
    "import torchvision\n",
    "from torchvision import get_video_backend\n",
    "from torchvision.models.video import r3d_18 \n",
    "from torchvision import transforms\n",
    "\n",
    "hmdb51_training = torchvision.datasets.HMDB51('video_data/', 'test_train_splits/', num_frames,\n",
    "                                                step_between_clips = clip_steps, fold=1, train=True,\n",
    "                                                transform=data, num_workers=num_workers)\n",
    "batch_size=32\n",
    "data_loader = DataLoader(hmdb51_training, batch_size=batch_size, shuffle=True, **kwargs)"
   ]
  }
 ],
 "metadata": {
  "kernelspec": {
   "display_name": "Python 3.9.7 ('base')",
   "language": "python",
   "name": "python3"
  },
  "language_info": {
   "codemirror_mode": {
    "name": "ipython",
    "version": 3
   },
   "file_extension": ".py",
   "mimetype": "text/x-python",
   "name": "python",
   "nbconvert_exporter": "python",
   "pygments_lexer": "ipython3",
   "version": "3.9.7"
  },
  "vscode": {
   "interpreter": {
    "hash": "ad2bdc8ecc057115af97d19610ffacc2b4e99fae6737bb82f5d7fb13d2f2c186"
   }
  }
 },
 "nbformat": 4,
 "nbformat_minor": 5
}
