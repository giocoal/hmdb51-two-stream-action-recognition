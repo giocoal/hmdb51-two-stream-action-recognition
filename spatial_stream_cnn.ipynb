{
 "cells": [
  {
   "cell_type": "markdown",
   "id": "7ff3c55f",
   "metadata": {},
   "source": [
    "# Setup"
   ]
  },
  {
   "cell_type": "code",
   "execution_count": 19,
   "id": "dbe10128",
   "metadata": {},
   "outputs": [],
   "source": [
    "import numpy as np\n",
    "import pandas as pd\n",
    "import matplotlib.pyplot as plt\n",
    "import os\n",
    "import random\n",
    "import cv2\n",
    "import tensorflow as tf\n",
    "from tensorflow import keras\n",
    "from tensorflow.keras import layers\n",
    "from tensorflow.keras import Model\n",
    "from tensorflow.keras.utils import plot_model\n",
    "from IPython.core.display import Image\n",
    "from keras.preprocessing.image import ImageDataGenerator\n",
    "\n",
    "from pathlib import Path\n",
    "import os\n",
    "\n",
    "from keras.layers.core import Dense,Flatten\n",
    "from tensorflow.keras.models import Sequential\n",
    "from tensorflow.keras.optimizers import Adam"
   ]
  },
  {
   "cell_type": "code",
   "execution_count": 7,
   "id": "6f4a195c",
   "metadata": {},
   "outputs": [
    {
     "name": "stdout",
     "output_type": "stream",
     "text": [
      "c:\\Users\\giorg\\Desktop\\deep-learning-video-classification\n"
     ]
    }
   ],
   "source": [
    "#path dove si trova il dataframe hmdb51\n",
    "path = Path.cwd()\n",
    "print(path)"
   ]
  },
  {
   "cell_type": "markdown",
   "id": "f4c48d39",
   "metadata": {},
   "source": [
    "Testing if cuda is on GPU"
   ]
  },
  {
   "cell_type": "code",
   "execution_count": 8,
   "id": "9bff241e",
   "metadata": {},
   "outputs": [
    {
     "name": "stdout",
     "output_type": "stream",
     "text": [
      "Default GPU Device:/device:GPU:0\n"
     ]
    }
   ],
   "source": [
    "if tf.test.gpu_device_name(): \n",
    "    print('Default GPU Device:{}'.format(tf.test.gpu_device_name()))\n",
    "else:\n",
    "   print(\"Please install GPU version of TF\")"
   ]
  },
  {
   "cell_type": "markdown",
   "id": "b802b407",
   "metadata": {},
   "source": [
    "# Spatial Data Generation\n"
   ]
  },
  {
   "cell_type": "code",
   "execution_count": 9,
   "id": "27cab245",
   "metadata": {},
   "outputs": [],
   "source": [
    "path = './data/hmdb51'\n",
    "path_rowframes = './data/hmdb51/rawframes/'\n",
    "path_annotations = './data/hmdb51/annotations/'\n",
    "\n",
    "img_height = 224\n",
    "img_width = 224\n",
    "batch_size = 128\n",
    "num_classes = 51\n",
    "\n",
    "num_frames_desired = 17     #number of frames per clip\n",
    "type_frame = 'img'          #img / flow_x / flow_y\n",
    "epochs = 200\n",
    "# partition = 'train'"
   ]
  },
  {
   "cell_type": "code",
   "execution_count": null,
   "id": "c4dc9ecb",
   "metadata": {},
   "outputs": [],
   "source": [
    "resize_and_rescale = tf.keras.Sequential([\n",
    "  # layers.Resizing(img_height, img_height),\n",
    "  tf.keras.layers.Rescaling(1./127.5, offset=-1)\n",
    "])"
   ]
  },
  {
   "cell_type": "code",
   "execution_count": null,
   "id": "a2e047eb",
   "metadata": {},
   "outputs": [],
   "source": [
    "data_augmentation = tf.keras.Sequential([\n",
    "    layers.RandomFlip(\"horizontal\"),\n",
    "    layers.RandomRotation(0.20, fill_mode = \"nearest\"),\n",
    "    # layers.RandomZoom(0.2),\n",
    "    layers.RandomCrop(img_height,img_width),\n",
    "    # layers.RandomHeight(0.2),\n",
    "    # layers.RandomWidth(0.2),\n",
    "    # layers.Resizing(224,224)\n",
    "    layers.Resizing(img_height, img_width)\n",
    "    ])"
   ]
  },
  {
   "cell_type": "code",
   "execution_count": 10,
   "id": "8eb40a0b",
   "metadata": {},
   "outputs": [],
   "source": [
    "def sampling(list, num_frames_desired):\n",
    "    step = len(list) // (num_frames_desired)\n",
    "    #selected_frames = list(range(0, len(list), step))[:num_frames_desired]\n",
    "    sampled_list = list[0:len(list):step][:num_frames_desired]\n",
    "    return(sampled_list)\n",
    "\n",
    "def parse_image(filename):\n",
    "    image = tf.io.read_file(filename)\n",
    "    image = tf.image.decode_jpeg(image, channels=3)\n",
    "    # image = tf.image.random_flip_left_right(image)\n",
    "    # image = tf.image.resize(image, [img_height, img_width])\n",
    "    return image\n",
    "\n",
    "\"\"\"def configure_for_performance(ds):\n",
    "    ds = ds.cache()\n",
    "    ds = ds.shuffle(buffer_size=1000)\n",
    "    ds = ds.batch(batch_size)\n",
    "    ds = ds.repeat() # repeat determines how many times the samples can be repeated in the given dataset. (def = 0)\n",
    "    ds = ds.prefetch(buffer_size=tf.data.experimental.AUTOTUNE)\n",
    "    return ds\"\"\"\n",
    "    \n",
    "def prepare(ds, shuffle=False, augment=False):\n",
    "  # Resize and rescale all datasets.\n",
    "  ds = ds.cache()\n",
    "  ds = ds.map(lambda x, y: (resize_and_rescale(x), y), \n",
    "              num_parallel_calls=tf.data.experimental.AUTOTUNE)\n",
    "  if shuffle:\n",
    "    ds = ds.shuffle(1000)\n",
    "  # Batch all datasets.\n",
    "  ds = ds.batch(batch_size)\n",
    "  ds = ds.repeat() # repeat determines how many times the samples can be repeated in the given dataset. (def = 0)\n",
    "  # Use data augmentation only on the training set.\n",
    "  if augment:\n",
    "    ds = ds.map(lambda x, y: (data_augmentation(x, training=True), y), \n",
    "                num_parallel_calls=tf.data.experimental.AUTOTUNE)\n",
    "  # Use buffered prefetching on all datasets.\n",
    "  return ds.prefetch(buffer_size=tf.data.experimental.AUTOTUNE)\n",
    "\n",
    "def find_paths(partition, type_frame, num_frames_desired):\n",
    "    if partition == 'train':\n",
    "        video_list = pd.read_csv(f'{path_annotations}/hmdb51_train_split_1_rawframes.txt', sep=\" \", header=None) #train\n",
    "        video_list.columns = [\"path\", \"num_frames_tot\", \"class\"]\n",
    "    elif partition == 'val':\n",
    "        video_list = pd.read_csv(f'{path_annotations}/hmdb51_val_split_1_rawframes.txt', sep=\" \", header=None) #test\n",
    "        video_list.columns = [\"path\", \"num_frames_tot\", \"class\"]\n",
    "    else:\n",
    "        raise Exception(\"invalid partition\")\n",
    "\n",
    "    #temp_path = video_list.loc[0]['path'] #da togliere!!!\n",
    "\n",
    "    paths = []\n",
    "    classes = []\n",
    "    for index, row in video_list.iterrows(): #da togliere [:1]\n",
    "        temp_path = row['path']                    #da rimuovere il commentato\n",
    "        frame_list = os.listdir(os.path.join(f'./{temp_path}'))\n",
    "\n",
    "        frame_list_type = [i for i in frame_list if i.startswith(f'{type_frame}')]\n",
    "\n",
    "        filename = sampling(frame_list_type, num_frames_desired)\n",
    "\n",
    "        paths.extend([os.path.join('.\\\\', temp_path, file) for file in filename])\n",
    "        temp = [row['class']] * num_frames_desired\n",
    "        classes.extend(temp)\n",
    "\n",
    "    #return(list(zip(paths, classes)))\n",
    "    return(list(zip(paths, classes)), video_list)"
   ]
  },
  {
   "cell_type": "code",
   "execution_count": 12,
   "id": "bb6384ad",
   "metadata": {},
   "outputs": [],
   "source": [
    "# ------- create train set\n",
    "filenames, video_list = find_paths(partition='train', type_frame=type_frame, num_frames_desired=num_frames_desired)\n",
    "video_list[['cose', 'class', 'vid']] = video_list[\"path\"].str.rsplit(\"\\\\\", n = 2, expand = True)\n",
    "\n",
    "random.shuffle(filenames)\n",
    "\n",
    "zipped = [list(t) for t in zip(*filenames)]\n",
    "\n",
    "filenames = zipped[0]\n",
    "labels = zipped[1]\n",
    "\n",
    "filenames_ds = tf.data.Dataset.from_tensor_slices(filenames)\n",
    "images_ds = filenames_ds.map(parse_image, num_parallel_calls=tf.data.experimental.AUTOTUNE)\n",
    "\n",
    "labels_ds = tf.data.Dataset.from_tensor_slices(labels)\n",
    "ds = tf.data.Dataset.zip((images_ds, labels_ds))\n",
    "# train_ds = configure_for_performance(ds)\n",
    "train_ds = prepare(ds, shuffle=True, augment=True)"
   ]
  },
  {
   "cell_type": "code",
   "execution_count": 13,
   "id": "71781ba8",
   "metadata": {},
   "outputs": [
    {
     "name": "stdout",
     "output_type": "stream",
     "text": [
      "60690\n"
     ]
    }
   ],
   "source": [
    "frame_number_train = len(filenames)\n",
    "print(frame_number_train)"
   ]
  },
  {
   "cell_type": "code",
   "execution_count": 14,
   "id": "75a40fcd",
   "metadata": {},
   "outputs": [],
   "source": [
    "# ------- create val test\n",
    "filenames, video_list = find_paths(partition='val', type_frame=type_frame, num_frames_desired=num_frames_desired)\n",
    "\n",
    "random.shuffle(filenames)\n",
    "\n",
    "zipped = [list(t) for t in zip(*filenames)]\n",
    "\n",
    "filenames = zipped[0]\n",
    "labels = zipped[1]\n",
    "\n",
    "filenames_ds = tf.data.Dataset.from_tensor_slices(filenames)\n",
    "images_ds = filenames_ds.map(parse_image, num_parallel_calls=tf.data.experimental.AUTOTUNE)\n",
    "labels_ds = tf.data.Dataset.from_tensor_slices(labels)\n",
    "ds = tf.data.Dataset.zip((images_ds, labels_ds))\n",
    "# val_ds = configure_for_performance(ds)\n",
    "val_ds = prepare(ds)"
   ]
  },
  {
   "cell_type": "code",
   "execution_count": 15,
   "id": "5bdd738a",
   "metadata": {},
   "outputs": [
    {
     "name": "stdout",
     "output_type": "stream",
     "text": [
      "26010\n"
     ]
    }
   ],
   "source": [
    "frame_number_val = len(filenames)\n",
    "print(frame_number_val)"
   ]
  },
  {
   "cell_type": "code",
   "execution_count": 16,
   "id": "dbf13314",
   "metadata": {},
   "outputs": [
    {
     "name": "stdout",
     "output_type": "stream",
     "text": [
      "474\n",
      "203\n"
     ]
    }
   ],
   "source": [
    "step_per_epoch_train = frame_number_train // batch_size\n",
    "step_per_epoch_val = frame_number_val // batch_size\n",
    "print(step_per_epoch_train)\n",
    "print(step_per_epoch_val)"
   ]
  },
  {
   "cell_type": "markdown",
   "id": "584c56de",
   "metadata": {},
   "source": [
    "# Spatial Stream Model"
   ]
  },
  {
   "cell_type": "code",
   "execution_count": 18,
   "id": "af1139c1",
   "metadata": {},
   "outputs": [],
   "source": [
    "early_stopper = tf.keras.callbacks.EarlyStopping(monitor='val_loss', patience=100)\n",
    "\n",
    "version = \"v4\"\n",
    "arc = \"a3\"\n",
    "checkpoint_filepath = f'./Models/spatial_stream/spatial_model_{version}_{arc}_val_acc_best.hdf5'\n",
    "model_checkpoint_callback = tf.keras.callbacks.ModelCheckpoint(\n",
    "    filepath=checkpoint_filepath,\n",
    "    monitor='val_sparse_categorical_accuracy',\n",
    "    mode='max',\n",
    "    save_best_only=True)"
   ]
  },
  {
   "cell_type": "code",
   "execution_count": null,
   "id": "5b3abfa1",
   "metadata": {},
   "outputs": [],
   "source": [
    "\"\"\"\n",
    "def prep_fn(img):\n",
    "    img = img / 255.0\n",
    "    img = (img - 0.5) * 2\n",
    "    return img\n",
    "\n",
    "def random_crop(img, random_crop_size):\n",
    "    # Note: image_data_format is 'channel_last'\n",
    "    assert img.shape[2] == 3\n",
    "    height, width = img.shape[0], img.shape[1]\n",
    "    dy, dx = random_crop_size\n",
    "    x = np.random.randint(0, width - dx + 1)\n",
    "    y = np.random.randint(0, height - dy + 1)\n",
    "    if width >= dy:\n",
    "        top = int((height - dy) * random.random())\n",
    "        left = int((width - dx) * random.random())\n",
    "        right = left + width\n",
    "        bottom = top + height\n",
    "    else: \n",
    "        top = int((height - dy) * random.random())\n",
    "        bottom = top + height\n",
    "        left = 0\n",
    "        right = width\n",
    "    img = img[top : bottom, left : right] \n",
    "    return img\n",
    "\n",
    "\n",
    "def crop_generator(batches, crop_length):\n",
    "    while True:\n",
    "        batch_x, batch_y = next(batches)\n",
    "        batch_crops = np.zeros((batch_x.shape[0], crop_length, crop_length, 3))\n",
    "        for i in range(batch_x.shape[0]):\n",
    "            batch_crops[i] = random_crop(batch_x[i], (crop_length, crop_length))\n",
    "        yield (batch_crops, batch_y)\n",
    "\n",
    "train_image_generator = ImageDataGenerator(\n",
    "    preprocessing_function=prep_fn,\n",
    "    horizontal_flip=True,\n",
    "    rotation_range=20, fill_mode='nearest'\n",
    "    \n",
    ") \n",
    "\"\"\""
   ]
  },
  {
   "cell_type": "code",
   "execution_count": 11,
   "id": "54af4cb3",
   "metadata": {},
   "outputs": [],
   "source": [
    "\"\"\"data_augmentation = tf.keras.Sequential([\n",
    "    layers.RandomFlip(\"horizontal\"),\n",
    "    layers.RandomRotation(0.15),\n",
    "    # layers.RandomZoom(0.2),\n",
    "    layers.RandomCrop(224,224)\n",
    "    # layers.RandomHeight(0.2),\n",
    "    # layers.RandomWidth(0.2),\n",
    "    # layers.Resizing(224,224)\n",
    "])\"\"\""
   ]
  },
  {
   "cell_type": "code",
   "execution_count": null,
   "id": "85e0898d",
   "metadata": {},
   "outputs": [],
   "source": [
    "# PREPROCESSING LAYERS"
   ]
  },
  {
   "cell_type": "code",
   "execution_count": 12,
   "id": "e9a260b5",
   "metadata": {},
   "outputs": [],
   "source": [
    "num_classes = 51\n",
    "\n",
    "# model_spat = keras.models.Sequential(tf.keras.layers.Rescaling(1./127.5, offset=-1))\n",
    "model_spat = keras.models.Sequential()\n",
    "\n",
    "#data_augmentation\n",
    "\n",
    "model_spat.add(keras.layers.Conv2D(96, (7,7), strides = 2, input_shape=(224, 224, 3), activation = \"relu\"))\n",
    "model_spat.add(keras.layers.BatchNormalization())\n",
    "model_spat.add(keras.layers.MaxPooling2D((3,3), strides=2, padding=\"same\"))\n",
    "\n",
    "model_spat.add(keras.layers.ZeroPadding2D(padding = (1,1)))\n",
    "model_spat.add(keras.layers.Conv2D(256, (5,5), strides = 2, activation='relu'))\n",
    "model_spat.add(keras.layers.BatchNormalization())\n",
    "model_spat.add(keras.layers.MaxPooling2D((3,3), strides=2, padding=\"same\"))\n",
    "          \n",
    "model_spat.add(keras.layers.ZeroPadding2D(padding = (1,1)))\n",
    "model_spat.add(keras.layers.Conv2D(512, (3,3), strides = 1, activation='relu'))\n",
    "\n",
    "model_spat.add(keras.layers.ZeroPadding2D(padding = (1,1)))\n",
    "model_spat.add(keras.layers.Conv2D(512, (3,3), strides = 1, activation='relu'))\n",
    "\n",
    "model_spat.add(keras.layers.ZeroPadding2D(padding = (1,1)))\n",
    "model_spat.add(keras.layers.Conv2D(512, (3,3), strides = 1, activation='relu'))\n",
    "model_spat.add(keras.layers.MaxPooling2D((3,3), strides=2, padding=\"same\"))\n",
    "\n",
    "model_spat.add(keras.layers.Flatten())\n",
    "\n",
    "model_spat.add(keras.layers.Dense(2048, activation='relu'))\n",
    "model_spat.add(keras.layers.Dropout(0.5))      #valore dropout 0.5 oppure 0.9? paper li usa entrambi \n",
    "\n",
    "model_spat.add(keras.layers.Dense(1024, activation='relu'))\n",
    "model_spat.add(keras.layers.Dropout(0.5))\n",
    "\n",
    "model_spat.add(keras.layers.Dense(num_classes, activation=\"softmax\"))"
   ]
  },
  {
   "cell_type": "code",
   "execution_count": 14,
   "id": "d15246a5",
   "metadata": {},
   "outputs": [
    {
     "name": "stdout",
     "output_type": "stream",
     "text": [
      "Model: \"sequential_1\"\n",
      "_________________________________________________________________\n",
      " Layer (type)                Output Shape              Param #   \n",
      "=================================================================\n",
      " conv2d (Conv2D)             (None, 109, 109, 96)      14208     \n",
      "                                                                 \n",
      " batch_normalization (BatchN  (None, 109, 109, 96)     384       \n",
      " ormalization)                                                   \n",
      "                                                                 \n",
      " max_pooling2d (MaxPooling2D  (None, 55, 55, 96)       0         \n",
      " )                                                               \n",
      "                                                                 \n",
      " zero_padding2d (ZeroPadding  (None, 57, 57, 96)       0         \n",
      " 2D)                                                             \n",
      "                                                                 \n",
      " conv2d_1 (Conv2D)           (None, 27, 27, 256)       614656    \n",
      "                                                                 \n",
      " batch_normalization_1 (Batc  (None, 27, 27, 256)      1024      \n",
      " hNormalization)                                                 \n",
      "                                                                 \n",
      " max_pooling2d_1 (MaxPooling  (None, 14, 14, 256)      0         \n",
      " 2D)                                                             \n",
      "                                                                 \n",
      " zero_padding2d_1 (ZeroPaddi  (None, 16, 16, 256)      0         \n",
      " ng2D)                                                           \n",
      "                                                                 \n",
      " conv2d_2 (Conv2D)           (None, 14, 14, 512)       1180160   \n",
      "                                                                 \n",
      " zero_padding2d_2 (ZeroPaddi  (None, 16, 16, 512)      0         \n",
      " ng2D)                                                           \n",
      "                                                                 \n",
      " conv2d_3 (Conv2D)           (None, 14, 14, 512)       2359808   \n",
      "                                                                 \n",
      " zero_padding2d_3 (ZeroPaddi  (None, 16, 16, 512)      0         \n",
      " ng2D)                                                           \n",
      "                                                                 \n",
      " conv2d_4 (Conv2D)           (None, 14, 14, 512)       2359808   \n",
      "                                                                 \n",
      " max_pooling2d_2 (MaxPooling  (None, 7, 7, 512)        0         \n",
      " 2D)                                                             \n",
      "                                                                 \n",
      " flatten (Flatten)           (None, 25088)             0         \n",
      "                                                                 \n",
      " dense (Dense)               (None, 4096)              102764544 \n",
      "                                                                 \n",
      " dropout (Dropout)           (None, 4096)              0         \n",
      "                                                                 \n",
      " dense_1 (Dense)             (None, 2048)              8390656   \n",
      "                                                                 \n",
      " dropout_1 (Dropout)         (None, 2048)              0         \n",
      "                                                                 \n",
      " dense_2 (Dense)             (None, 51)                104499    \n",
      "                                                                 \n",
      "=================================================================\n",
      "Total params: 117,789,747\n",
      "Trainable params: 117,789,043\n",
      "Non-trainable params: 704\n",
      "_________________________________________________________________\n"
     ]
    }
   ],
   "source": [
    "model_spat.summary()"
   ]
  },
  {
   "cell_type": "code",
   "execution_count": 28,
   "id": "36e69ae4",
   "metadata": {
    "id": "950cdb45"
   },
   "outputs": [],
   "source": [
    "#model_spat.compile(loss=keras.losses.sparse_categorical_crossentropy, metrics=['accuracy','sparse_categorical_accuracy'], \n",
    "#              optimizer=keras.optimizers.Adam(learning_rate=0.001))\n",
    "\n",
    "learning_rate = 1e-2 # -2\n",
    "momentum = 0.9\n",
    "optimizer = keras.optimizers.SGD(learning_rate=learning_rate, momentum=momentum, nesterov=True)\n",
    "\n",
    "model_spat.compile(loss=keras.losses.sparse_categorical_crossentropy, \n",
    "                   metrics=['sparse_categorical_accuracy','sparse_top_k_categorical_accuracy'], \n",
    "                   optimizer=optimizer)"
   ]
  },
  {
   "cell_type": "code",
   "execution_count": 29,
   "id": "ed9a1bc3",
   "metadata": {},
   "outputs": [
    {
     "name": "stdout",
     "output_type": "stream",
     "text": [
      "557\n",
      "239\n"
     ]
    }
   ],
   "source": [
    "step_per_epoch_train = frame_number_train // batch_size\n",
    "step_per_epoch_val = frame_number_val // batch_size\n",
    "print(step_per_epoch_train)\n",
    "print(step_per_epoch_val)\n",
    "\n"
   ]
  },
  {
   "cell_type": "code",
   "execution_count": 30,
   "id": "4fc456a9",
   "metadata": {
    "colab": {
     "base_uri": "https://localhost:8080/"
    },
    "id": "34d7d98d",
    "outputId": "e39004e4-5c77-4d59-b9b7-054d2a29254f",
    "scrolled": false
   },
   "outputs": [
    {
     "name": "stdout",
     "output_type": "stream",
     "text": [
      "Epoch 1/100\n",
      "557/557 [==============================] - 252s 448ms/step - loss: 3.7728 - accuracy: 0.0414 - sparse_categorical_accuracy: 0.0414 - val_loss: 4.0078 - val_accuracy: 0.0431 - val_sparse_categorical_accuracy: 0.0431\n",
      "Epoch 2/100\n",
      "557/557 [==============================] - 193s 345ms/step - loss: 3.7258 - accuracy: 0.0452 - sparse_categorical_accuracy: 0.0452 - val_loss: 3.8919 - val_accuracy: 0.0352 - val_sparse_categorical_accuracy: 0.0352\n",
      "Epoch 3/100\n",
      "557/557 [==============================] - 130s 233ms/step - loss: 3.6958 - accuracy: 0.0516 - sparse_categorical_accuracy: 0.0516 - val_loss: 3.8123 - val_accuracy: 0.0275 - val_sparse_categorical_accuracy: 0.0275\n",
      "Epoch 4/100\n",
      "557/557 [==============================] - 87s 156ms/step - loss: 3.6447 - accuracy: 0.0559 - sparse_categorical_accuracy: 0.0559 - val_loss: 3.8038 - val_accuracy: 0.0581 - val_sparse_categorical_accuracy: 0.0581\n",
      "Epoch 5/100\n",
      "557/557 [==============================] - 87s 157ms/step - loss: 3.6303 - accuracy: 0.0654 - sparse_categorical_accuracy: 0.0654 - val_loss: 3.7834 - val_accuracy: 0.0588 - val_sparse_categorical_accuracy: 0.0588\n",
      "Epoch 6/100\n",
      "557/557 [==============================] - 84s 151ms/step - loss: 3.5559 - accuracy: 0.0778 - sparse_categorical_accuracy: 0.0778 - val_loss: 3.8742 - val_accuracy: 0.0416 - val_sparse_categorical_accuracy: 0.0416\n",
      "Epoch 7/100\n",
      "557/557 [==============================] - 84s 151ms/step - loss: 3.4452 - accuracy: 0.1039 - sparse_categorical_accuracy: 0.1039 - val_loss: 4.0279 - val_accuracy: 0.0544 - val_sparse_categorical_accuracy: 0.0544\n",
      "Epoch 8/100\n",
      "557/557 [==============================] - 84s 150ms/step - loss: 3.2219 - accuracy: 0.1545 - sparse_categorical_accuracy: 0.1545 - val_loss: 4.1645 - val_accuracy: 0.0584 - val_sparse_categorical_accuracy: 0.0584\n",
      "Epoch 9/100\n",
      "557/557 [==============================] - 84s 152ms/step - loss: 2.9568 - accuracy: 0.2247 - sparse_categorical_accuracy: 0.2247 - val_loss: 4.4137 - val_accuracy: 0.0565 - val_sparse_categorical_accuracy: 0.0565\n",
      "Epoch 10/100\n",
      "557/557 [==============================] - 85s 152ms/step - loss: 2.5505 - accuracy: 0.3317 - sparse_categorical_accuracy: 0.3317 - val_loss: 4.8062 - val_accuracy: 0.0532 - val_sparse_categorical_accuracy: 0.0532\n",
      "Epoch 11/100\n",
      "557/557 [==============================] - 88s 159ms/step - loss: 2.1066 - accuracy: 0.4502 - sparse_categorical_accuracy: 0.4502 - val_loss: 5.1217 - val_accuracy: 0.0756 - val_sparse_categorical_accuracy: 0.0756\n",
      "Epoch 12/100\n",
      "557/557 [==============================] - 84s 151ms/step - loss: 1.6968 - accuracy: 0.5598 - sparse_categorical_accuracy: 0.5598 - val_loss: 5.0898 - val_accuracy: 0.0614 - val_sparse_categorical_accuracy: 0.0614\n",
      "Epoch 13/100\n",
      "557/557 [==============================] - 85s 152ms/step - loss: 1.3811 - accuracy: 0.6366 - sparse_categorical_accuracy: 0.6366 - val_loss: 5.5927 - val_accuracy: 0.0628 - val_sparse_categorical_accuracy: 0.0628\n",
      "Epoch 14/100\n",
      "557/557 [==============================] - 85s 152ms/step - loss: 1.1420 - accuracy: 0.6981 - sparse_categorical_accuracy: 0.6981 - val_loss: 5.7259 - val_accuracy: 0.0603 - val_sparse_categorical_accuracy: 0.0603\n",
      "Epoch 15/100\n",
      "557/557 [==============================] - 85s 152ms/step - loss: 0.9624 - accuracy: 0.7450 - sparse_categorical_accuracy: 0.7450 - val_loss: 6.3249 - val_accuracy: 0.0580 - val_sparse_categorical_accuracy: 0.0580\n",
      "Epoch 16/100\n",
      "557/557 [==============================] - 85s 152ms/step - loss: 0.8515 - accuracy: 0.7737 - sparse_categorical_accuracy: 0.7737 - val_loss: 6.1954 - val_accuracy: 0.0660 - val_sparse_categorical_accuracy: 0.0660\n",
      "Epoch 17/100\n",
      "557/557 [==============================] - 85s 152ms/step - loss: 0.7366 - accuracy: 0.8025 - sparse_categorical_accuracy: 0.8025 - val_loss: 6.7322 - val_accuracy: 0.0673 - val_sparse_categorical_accuracy: 0.0673\n",
      "Epoch 18/100\n",
      "557/557 [==============================] - 85s 153ms/step - loss: 0.6802 - accuracy: 0.8196 - sparse_categorical_accuracy: 0.8196 - val_loss: 6.7058 - val_accuracy: 0.0648 - val_sparse_categorical_accuracy: 0.0648\n",
      "Epoch 19/100\n",
      "557/557 [==============================] - 85s 152ms/step - loss: 0.6278 - accuracy: 0.8361 - sparse_categorical_accuracy: 0.8361 - val_loss: 7.0455 - val_accuracy: 0.0609 - val_sparse_categorical_accuracy: 0.0609\n",
      "Epoch 20/100\n",
      "557/557 [==============================] - 85s 152ms/step - loss: 0.5862 - accuracy: 0.8471 - sparse_categorical_accuracy: 0.8471 - val_loss: 7.4905 - val_accuracy: 0.0615 - val_sparse_categorical_accuracy: 0.0615\n",
      "Epoch 21/100\n",
      "557/557 [==============================] - 85s 153ms/step - loss: 0.5543 - accuracy: 0.8537 - sparse_categorical_accuracy: 0.8537 - val_loss: 6.7894 - val_accuracy: 0.0690 - val_sparse_categorical_accuracy: 0.0690\n",
      "Epoch 22/100\n",
      "557/557 [==============================] - 89s 160ms/step - loss: 0.5050 - accuracy: 0.8663 - sparse_categorical_accuracy: 0.8663 - val_loss: 6.7712 - val_accuracy: 0.0760 - val_sparse_categorical_accuracy: 0.0760\n",
      "Epoch 23/100\n",
      "557/557 [==============================] - 85s 152ms/step - loss: 0.4816 - accuracy: 0.8754 - sparse_categorical_accuracy: 0.8754 - val_loss: 7.4802 - val_accuracy: 0.0632 - val_sparse_categorical_accuracy: 0.0632\n",
      "Epoch 24/100\n",
      "557/557 [==============================] - 84s 151ms/step - loss: 0.4161 - accuracy: 0.8917 - sparse_categorical_accuracy: 0.8917 - val_loss: 6.9206 - val_accuracy: 0.0671 - val_sparse_categorical_accuracy: 0.0671\n",
      "Epoch 25/100\n",
      "557/557 [==============================] - 85s 152ms/step - loss: 0.4160 - accuracy: 0.8943 - sparse_categorical_accuracy: 0.8943 - val_loss: 7.3107 - val_accuracy: 0.0592 - val_sparse_categorical_accuracy: 0.0592\n",
      "Epoch 26/100\n",
      "557/557 [==============================] - 88s 159ms/step - loss: 0.4038 - accuracy: 0.8963 - sparse_categorical_accuracy: 0.8963 - val_loss: 7.7938 - val_accuracy: 0.0833 - val_sparse_categorical_accuracy: 0.0833\n",
      "Epoch 27/100\n",
      "557/557 [==============================] - 84s 151ms/step - loss: 0.3812 - accuracy: 0.9014 - sparse_categorical_accuracy: 0.9014 - val_loss: 7.8164 - val_accuracy: 0.0780 - val_sparse_categorical_accuracy: 0.0780\n",
      "Epoch 28/100\n",
      "557/557 [==============================] - 85s 152ms/step - loss: 0.4089 - accuracy: 0.8998 - sparse_categorical_accuracy: 0.8998 - val_loss: 7.4891 - val_accuracy: 0.0753 - val_sparse_categorical_accuracy: 0.0753\n",
      "Epoch 29/100\n",
      "557/557 [==============================] - 84s 151ms/step - loss: 0.3653 - accuracy: 0.9074 - sparse_categorical_accuracy: 0.9074 - val_loss: 7.9613 - val_accuracy: 0.0701 - val_sparse_categorical_accuracy: 0.0701\n",
      "Epoch 30/100\n",
      "557/557 [==============================] - 85s 152ms/step - loss: 0.3632 - accuracy: 0.9124 - sparse_categorical_accuracy: 0.9124 - val_loss: 7.2386 - val_accuracy: 0.0715 - val_sparse_categorical_accuracy: 0.0715\n",
      "Epoch 31/100\n",
      "557/557 [==============================] - 85s 152ms/step - loss: 0.3320 - accuracy: 0.9166 - sparse_categorical_accuracy: 0.9166 - val_loss: 8.5418 - val_accuracy: 0.0695 - val_sparse_categorical_accuracy: 0.0695\n",
      "Epoch 32/100\n",
      "557/557 [==============================] - 85s 152ms/step - loss: 0.3244 - accuracy: 0.9201 - sparse_categorical_accuracy: 0.9201 - val_loss: 8.4597 - val_accuracy: 0.0653 - val_sparse_categorical_accuracy: 0.0653\n",
      "Epoch 33/100\n",
      "557/557 [==============================] - 85s 152ms/step - loss: 0.3046 - accuracy: 0.9256 - sparse_categorical_accuracy: 0.9256 - val_loss: 7.4665 - val_accuracy: 0.0690 - val_sparse_categorical_accuracy: 0.0690\n",
      "Epoch 34/100\n",
      "557/557 [==============================] - 84s 151ms/step - loss: 0.2760 - accuracy: 0.9321 - sparse_categorical_accuracy: 0.9321 - val_loss: 7.6433 - val_accuracy: 0.0788 - val_sparse_categorical_accuracy: 0.0788\n",
      "Epoch 35/100\n",
      "557/557 [==============================] - 85s 152ms/step - loss: 0.2754 - accuracy: 0.9324 - sparse_categorical_accuracy: 0.9324 - val_loss: 8.3506 - val_accuracy: 0.0781 - val_sparse_categorical_accuracy: 0.0781\n",
      "Epoch 36/100\n",
      "557/557 [==============================] - 85s 152ms/step - loss: 0.3000 - accuracy: 0.9295 - sparse_categorical_accuracy: 0.9295 - val_loss: 8.7063 - val_accuracy: 0.0719 - val_sparse_categorical_accuracy: 0.0719\n",
      "Epoch 37/100\n",
      "557/557 [==============================] - 84s 151ms/step - loss: 0.2759 - accuracy: 0.9349 - sparse_categorical_accuracy: 0.9349 - val_loss: 7.6399 - val_accuracy: 0.0773 - val_sparse_categorical_accuracy: 0.0773\n",
      "Epoch 38/100\n",
      "557/557 [==============================] - 85s 153ms/step - loss: 0.2438 - accuracy: 0.9419 - sparse_categorical_accuracy: 0.9419 - val_loss: 7.8155 - val_accuracy: 0.0650 - val_sparse_categorical_accuracy: 0.0650\n",
      "Epoch 39/100\n",
      "557/557 [==============================] - 84s 152ms/step - loss: 0.2228 - accuracy: 0.9450 - sparse_categorical_accuracy: 0.9450 - val_loss: 7.5218 - val_accuracy: 0.0707 - val_sparse_categorical_accuracy: 0.0707\n",
      "Epoch 40/100\n",
      "557/557 [==============================] - 84s 151ms/step - loss: 0.2387 - accuracy: 0.9451 - sparse_categorical_accuracy: 0.9451 - val_loss: 8.6124 - val_accuracy: 0.0775 - val_sparse_categorical_accuracy: 0.0775\n",
      "Epoch 41/100\n",
      "557/557 [==============================] - 85s 152ms/step - loss: 0.2629 - accuracy: 0.9411 - sparse_categorical_accuracy: 0.9411 - val_loss: 9.0915 - val_accuracy: 0.0756 - val_sparse_categorical_accuracy: 0.0756\n",
      "Epoch 42/100\n",
      "557/557 [==============================] - 85s 152ms/step - loss: 0.2553 - accuracy: 0.9404 - sparse_categorical_accuracy: 0.9404 - val_loss: 8.4649 - val_accuracy: 0.0650 - val_sparse_categorical_accuracy: 0.0650\n",
      "Epoch 43/100\n",
      "557/557 [==============================] - 84s 152ms/step - loss: 0.2158 - accuracy: 0.9485 - sparse_categorical_accuracy: 0.9485 - val_loss: 8.5966 - val_accuracy: 0.0802 - val_sparse_categorical_accuracy: 0.0802\n",
      "Epoch 44/100\n",
      "557/557 [==============================] - 84s 151ms/step - loss: 0.2475 - accuracy: 0.9461 - sparse_categorical_accuracy: 0.9461 - val_loss: 8.1341 - val_accuracy: 0.0712 - val_sparse_categorical_accuracy: 0.0712\n",
      "Epoch 45/100\n",
      "557/557 [==============================] - 85s 152ms/step - loss: 0.2077 - accuracy: 0.9502 - sparse_categorical_accuracy: 0.9502 - val_loss: 9.0544 - val_accuracy: 0.0769 - val_sparse_categorical_accuracy: 0.0769\n",
      "Epoch 46/100\n",
      "557/557 [==============================] - 85s 152ms/step - loss: 0.2326 - accuracy: 0.9479 - sparse_categorical_accuracy: 0.9479 - val_loss: 8.5890 - val_accuracy: 0.0777 - val_sparse_categorical_accuracy: 0.0777\n",
      "Epoch 47/100\n",
      "557/557 [==============================] - 85s 152ms/step - loss: 0.2202 - accuracy: 0.9503 - sparse_categorical_accuracy: 0.9503 - val_loss: 7.9552 - val_accuracy: 0.0831 - val_sparse_categorical_accuracy: 0.0831\n",
      "Epoch 48/100\n",
      "557/557 [==============================] - 85s 152ms/step - loss: 0.1827 - accuracy: 0.9557 - sparse_categorical_accuracy: 0.9557 - val_loss: 9.1917 - val_accuracy: 0.0754 - val_sparse_categorical_accuracy: 0.0754\n",
      "Epoch 49/100\n",
      "557/557 [==============================] - 85s 152ms/step - loss: 0.1806 - accuracy: 0.9574 - sparse_categorical_accuracy: 0.9574 - val_loss: 9.0460 - val_accuracy: 0.0809 - val_sparse_categorical_accuracy: 0.0809\n",
      "Epoch 50/100\n",
      "557/557 [==============================] - 88s 159ms/step - loss: 0.2055 - accuracy: 0.9550 - sparse_categorical_accuracy: 0.9550 - val_loss: 8.3881 - val_accuracy: 0.0834 - val_sparse_categorical_accuracy: 0.0834\n",
      "Epoch 51/100\n",
      "557/557 [==============================] - 85s 152ms/step - loss: 0.2204 - accuracy: 0.9528 - sparse_categorical_accuracy: 0.9528 - val_loss: 8.2924 - val_accuracy: 0.0782 - val_sparse_categorical_accuracy: 0.0782\n",
      "Epoch 52/100\n",
      "557/557 [==============================] - 89s 160ms/step - loss: 0.1609 - accuracy: 0.9619 - sparse_categorical_accuracy: 0.9619 - val_loss: 9.0148 - val_accuracy: 0.0849 - val_sparse_categorical_accuracy: 0.0849\n",
      "Epoch 53/100\n",
      "557/557 [==============================] - 85s 153ms/step - loss: 0.1814 - accuracy: 0.9595 - sparse_categorical_accuracy: 0.9595 - val_loss: 9.1566 - val_accuracy: 0.0830 - val_sparse_categorical_accuracy: 0.0830\n",
      "Epoch 54/100\n",
      "557/557 [==============================] - 85s 152ms/step - loss: 0.1911 - accuracy: 0.9586 - sparse_categorical_accuracy: 0.9586 - val_loss: 8.1942 - val_accuracy: 0.0774 - val_sparse_categorical_accuracy: 0.0774\n",
      "Epoch 55/100\n",
      "557/557 [==============================] - 85s 152ms/step - loss: 0.1665 - accuracy: 0.9628 - sparse_categorical_accuracy: 0.9628 - val_loss: 8.6779 - val_accuracy: 0.0724 - val_sparse_categorical_accuracy: 0.0724\n",
      "Epoch 56/100\n",
      "557/557 [==============================] - 87s 157ms/step - loss: 0.1851 - accuracy: 0.9598 - sparse_categorical_accuracy: 0.9598 - val_loss: 8.0348 - val_accuracy: 0.0896 - val_sparse_categorical_accuracy: 0.0896\n",
      "Epoch 57/100\n",
      "557/557 [==============================] - 84s 152ms/step - loss: 0.1631 - accuracy: 0.9650 - sparse_categorical_accuracy: 0.9650 - val_loss: 9.4740 - val_accuracy: 0.0749 - val_sparse_categorical_accuracy: 0.0749\n",
      "Epoch 58/100\n",
      "557/557 [==============================] - 84s 151ms/step - loss: 0.1853 - accuracy: 0.9603 - sparse_categorical_accuracy: 0.9603 - val_loss: 9.5029 - val_accuracy: 0.0859 - val_sparse_categorical_accuracy: 0.0859\n",
      "Epoch 59/100\n",
      "557/557 [==============================] - 89s 159ms/step - loss: 0.1752 - accuracy: 0.9623 - sparse_categorical_accuracy: 0.9623 - val_loss: 9.5427 - val_accuracy: 0.0948 - val_sparse_categorical_accuracy: 0.0948\n",
      "Epoch 60/100\n",
      "557/557 [==============================] - 85s 152ms/step - loss: 0.1781 - accuracy: 0.9646 - sparse_categorical_accuracy: 0.9646 - val_loss: 9.2105 - val_accuracy: 0.0803 - val_sparse_categorical_accuracy: 0.0803\n",
      "Epoch 61/100\n",
      "557/557 [==============================] - 88s 157ms/step - loss: 0.1533 - accuracy: 0.9660 - sparse_categorical_accuracy: 0.9660 - val_loss: 8.3504 - val_accuracy: 0.0899 - val_sparse_categorical_accuracy: 0.0899\n",
      "Epoch 62/100\n",
      "557/557 [==============================] - 87s 156ms/step - loss: 0.1527 - accuracy: 0.9670 - sparse_categorical_accuracy: 0.9670 - val_loss: 8.7463 - val_accuracy: 0.0766 - val_sparse_categorical_accuracy: 0.0766\n",
      "Epoch 63/100\n",
      "557/557 [==============================] - 85s 153ms/step - loss: 0.1525 - accuracy: 0.9680 - sparse_categorical_accuracy: 0.9680 - val_loss: 9.9085 - val_accuracy: 0.0844 - val_sparse_categorical_accuracy: 0.0844\n",
      "Epoch 64/100\n",
      "557/557 [==============================] - 85s 152ms/step - loss: 0.1567 - accuracy: 0.9679 - sparse_categorical_accuracy: 0.9679 - val_loss: 9.0972 - val_accuracy: 0.0783 - val_sparse_categorical_accuracy: 0.0783\n",
      "Epoch 65/100\n",
      "557/557 [==============================] - 84s 152ms/step - loss: 0.1341 - accuracy: 0.9695 - sparse_categorical_accuracy: 0.9695 - val_loss: 9.0182 - val_accuracy: 0.0756 - val_sparse_categorical_accuracy: 0.0756\n",
      "Epoch 66/100\n",
      "557/557 [==============================] - 85s 152ms/step - loss: 0.1788 - accuracy: 0.9644 - sparse_categorical_accuracy: 0.9644 - val_loss: 9.5578 - val_accuracy: 0.0749 - val_sparse_categorical_accuracy: 0.0749\n",
      "Epoch 67/100\n",
      "557/557 [==============================] - 85s 153ms/step - loss: 0.1618 - accuracy: 0.9662 - sparse_categorical_accuracy: 0.9662 - val_loss: 11.4209 - val_accuracy: 0.0696 - val_sparse_categorical_accuracy: 0.0696\n",
      "Epoch 68/100\n",
      "557/557 [==============================] - 85s 153ms/step - loss: 0.1433 - accuracy: 0.9687 - sparse_categorical_accuracy: 0.9687 - val_loss: 11.4126 - val_accuracy: 0.0798 - val_sparse_categorical_accuracy: 0.0798\n",
      "Epoch 69/100\n",
      "557/557 [==============================] - 85s 152ms/step - loss: 0.1469 - accuracy: 0.9711 - sparse_categorical_accuracy: 0.9711 - val_loss: 10.6431 - val_accuracy: 0.0740 - val_sparse_categorical_accuracy: 0.0740\n",
      "Epoch 70/100\n",
      "557/557 [==============================] - 85s 152ms/step - loss: 0.1412 - accuracy: 0.9695 - sparse_categorical_accuracy: 0.9695 - val_loss: 10.4324 - val_accuracy: 0.0732 - val_sparse_categorical_accuracy: 0.0732\n",
      "Epoch 71/100\n",
      "557/557 [==============================] - 85s 153ms/step - loss: 0.1253 - accuracy: 0.9742 - sparse_categorical_accuracy: 0.9742 - val_loss: 11.4619 - val_accuracy: 0.0659 - val_sparse_categorical_accuracy: 0.0659\n",
      "Epoch 72/100\n",
      "557/557 [==============================] - 85s 153ms/step - loss: 0.1657 - accuracy: 0.9691 - sparse_categorical_accuracy: 0.9691 - val_loss: 9.9297 - val_accuracy: 0.0718 - val_sparse_categorical_accuracy: 0.0718\n",
      "Epoch 73/100\n",
      "557/557 [==============================] - 85s 152ms/step - loss: 0.1321 - accuracy: 0.9729 - sparse_categorical_accuracy: 0.9729 - val_loss: 10.6403 - val_accuracy: 0.0712 - val_sparse_categorical_accuracy: 0.0712\n",
      "Epoch 74/100\n",
      "557/557 [==============================] - 85s 152ms/step - loss: 0.1506 - accuracy: 0.9703 - sparse_categorical_accuracy: 0.9703 - val_loss: 10.6331 - val_accuracy: 0.0779 - val_sparse_categorical_accuracy: 0.0779\n",
      "Epoch 75/100\n",
      "557/557 [==============================] - 85s 152ms/step - loss: 0.1510 - accuracy: 0.9709 - sparse_categorical_accuracy: 0.9709 - val_loss: 10.9636 - val_accuracy: 0.0688 - val_sparse_categorical_accuracy: 0.0688\n",
      "Epoch 76/100\n",
      "557/557 [==============================] - 85s 153ms/step - loss: 0.1564 - accuracy: 0.9693 - sparse_categorical_accuracy: 0.9693 - val_loss: 10.9047 - val_accuracy: 0.0696 - val_sparse_categorical_accuracy: 0.0696\n",
      "Epoch 77/100\n",
      "557/557 [==============================] - 85s 152ms/step - loss: 0.1389 - accuracy: 0.9722 - sparse_categorical_accuracy: 0.9722 - val_loss: 11.2284 - val_accuracy: 0.0743 - val_sparse_categorical_accuracy: 0.0743\n",
      "Epoch 78/100\n",
      "557/557 [==============================] - 85s 153ms/step - loss: 0.1634 - accuracy: 0.9701 - sparse_categorical_accuracy: 0.9701 - val_loss: 13.5056 - val_accuracy: 0.0667 - val_sparse_categorical_accuracy: 0.0667\n",
      "Epoch 79/100\n",
      "557/557 [==============================] - 85s 152ms/step - loss: 0.1658 - accuracy: 0.9712 - sparse_categorical_accuracy: 0.9712 - val_loss: 9.4186 - val_accuracy: 0.0700 - val_sparse_categorical_accuracy: 0.0700\n",
      "Epoch 80/100\n",
      "557/557 [==============================] - 85s 152ms/step - loss: 0.1223 - accuracy: 0.9752 - sparse_categorical_accuracy: 0.9752 - val_loss: 11.2477 - val_accuracy: 0.0564 - val_sparse_categorical_accuracy: 0.0564\n",
      "Epoch 81/100\n",
      "557/557 [==============================] - 85s 152ms/step - loss: 0.1297 - accuracy: 0.9740 - sparse_categorical_accuracy: 0.9740 - val_loss: 13.0744 - val_accuracy: 0.0721 - val_sparse_categorical_accuracy: 0.0721\n",
      "Epoch 82/100\n",
      "557/557 [==============================] - 85s 153ms/step - loss: 0.1614 - accuracy: 0.9712 - sparse_categorical_accuracy: 0.9712 - val_loss: 13.6691 - val_accuracy: 0.0706 - val_sparse_categorical_accuracy: 0.0706\n",
      "Epoch 83/100\n",
      "557/557 [==============================] - 85s 153ms/step - loss: 0.1432 - accuracy: 0.9724 - sparse_categorical_accuracy: 0.9724 - val_loss: 14.6713 - val_accuracy: 0.0700 - val_sparse_categorical_accuracy: 0.0700\n",
      "Epoch 84/100\n",
      "557/557 [==============================] - 85s 152ms/step - loss: 0.2005 - accuracy: 0.9667 - sparse_categorical_accuracy: 0.9667 - val_loss: 17.9927 - val_accuracy: 0.0775 - val_sparse_categorical_accuracy: 0.0775\n",
      "Epoch 85/100\n",
      "557/557 [==============================] - 85s 153ms/step - loss: 0.1769 - accuracy: 0.9720 - sparse_categorical_accuracy: 0.9720 - val_loss: 12.9085 - val_accuracy: 0.0728 - val_sparse_categorical_accuracy: 0.0728\n",
      "Epoch 86/100\n",
      "557/557 [==============================] - 85s 152ms/step - loss: 0.1660 - accuracy: 0.9731 - sparse_categorical_accuracy: 0.9731 - val_loss: 11.0312 - val_accuracy: 0.0669 - val_sparse_categorical_accuracy: 0.0669\n",
      "Epoch 87/100\n",
      "557/557 [==============================] - 85s 152ms/step - loss: 0.1532 - accuracy: 0.9729 - sparse_categorical_accuracy: 0.9729 - val_loss: 11.1144 - val_accuracy: 0.0681 - val_sparse_categorical_accuracy: 0.0681\n",
      "Epoch 88/100\n",
      "557/557 [==============================] - 85s 152ms/step - loss: 0.1394 - accuracy: 0.9742 - sparse_categorical_accuracy: 0.9742 - val_loss: 13.9408 - val_accuracy: 0.0696 - val_sparse_categorical_accuracy: 0.0696\n",
      "Epoch 89/100\n",
      "557/557 [==============================] - 85s 152ms/step - loss: 0.1677 - accuracy: 0.9724 - sparse_categorical_accuracy: 0.9724 - val_loss: 13.6590 - val_accuracy: 0.0751 - val_sparse_categorical_accuracy: 0.0751\n",
      "Epoch 90/100\n",
      "557/557 [==============================] - 84s 152ms/step - loss: 0.1220 - accuracy: 0.9767 - sparse_categorical_accuracy: 0.9767 - val_loss: 11.1723 - val_accuracy: 0.0868 - val_sparse_categorical_accuracy: 0.0868\n",
      "Epoch 91/100\n",
      "557/557 [==============================] - 85s 152ms/step - loss: 0.1447 - accuracy: 0.9742 - sparse_categorical_accuracy: 0.9742 - val_loss: 16.1366 - val_accuracy: 0.0843 - val_sparse_categorical_accuracy: 0.0843\n",
      "Epoch 92/100\n",
      "557/557 [==============================] - 85s 152ms/step - loss: 0.1744 - accuracy: 0.9714 - sparse_categorical_accuracy: 0.9714 - val_loss: 13.4691 - val_accuracy: 0.0725 - val_sparse_categorical_accuracy: 0.0725\n",
      "Epoch 93/100\n",
      "557/557 [==============================] - 85s 152ms/step - loss: 0.2003 - accuracy: 0.9704 - sparse_categorical_accuracy: 0.9704 - val_loss: 10.8978 - val_accuracy: 0.0725 - val_sparse_categorical_accuracy: 0.0725\n",
      "Epoch 94/100\n",
      "557/557 [==============================] - 84s 151ms/step - loss: 0.1414 - accuracy: 0.9765 - sparse_categorical_accuracy: 0.9765 - val_loss: 11.2833 - val_accuracy: 0.0821 - val_sparse_categorical_accuracy: 0.0821\n",
      "Epoch 95/100\n",
      "557/557 [==============================] - 84s 151ms/step - loss: 0.1456 - accuracy: 0.9752 - sparse_categorical_accuracy: 0.9752 - val_loss: 13.5327 - val_accuracy: 0.0777 - val_sparse_categorical_accuracy: 0.0777\n",
      "Epoch 96/100\n",
      "557/557 [==============================] - 84s 152ms/step - loss: 0.1413 - accuracy: 0.9758 - sparse_categorical_accuracy: 0.9758 - val_loss: 15.3932 - val_accuracy: 0.0700 - val_sparse_categorical_accuracy: 0.0700\n",
      "Epoch 97/100\n",
      "557/557 [==============================] - 85s 153ms/step - loss: 0.2000 - accuracy: 0.9712 - sparse_categorical_accuracy: 0.9712 - val_loss: 12.9620 - val_accuracy: 0.0798 - val_sparse_categorical_accuracy: 0.0798\n",
      "Epoch 98/100\n",
      "557/557 [==============================] - 85s 153ms/step - loss: 0.1599 - accuracy: 0.9745 - sparse_categorical_accuracy: 0.9745 - val_loss: 13.8767 - val_accuracy: 0.0815 - val_sparse_categorical_accuracy: 0.0815\n",
      "Epoch 99/100\n",
      "557/557 [==============================] - 85s 153ms/step - loss: 0.1443 - accuracy: 0.9762 - sparse_categorical_accuracy: 0.9762 - val_loss: 16.7640 - val_accuracy: 0.0701 - val_sparse_categorical_accuracy: 0.0701\n",
      "Epoch 100/100\n",
      "557/557 [==============================] - 85s 153ms/step - loss: 0.1483 - accuracy: 0.9759 - sparse_categorical_accuracy: 0.9759 - val_loss: 13.7429 - val_accuracy: 0.0662 - val_sparse_categorical_accuracy: 0.0662\n"
     ]
    }
   ],
   "source": [
    "history_cnn_spatial_stream = model_spat.fit(train_ds, \n",
    "                                            validation_data = val_ds, \n",
    "                                            validation_steps=step_per_epoch_val, \n",
    "                                            batch_size=batch_size, \n",
    "                                            epochs=epochs, \n",
    "                                            steps_per_epoch=step_per_epoch_train, \n",
    "                                            callbacks=[model_checkpoint_callback, early_stopper])"
   ]
  },
  {
   "cell_type": "code",
   "execution_count": 35,
   "id": "2c0f3e73",
   "metadata": {},
   "outputs": [
    {
     "name": "stdout",
     "output_type": "stream",
     "text": [
      "239/239 [==============================] - 69s 282ms/step - loss: 13.7399 - accuracy: 0.0662 - sparse_categorical_accuracy: 0.0662\n",
      "Loss val: 13.739862442016602\n",
      "Sparse_categorical_accuracy: 0.06616108864545822\n"
     ]
    }
   ],
   "source": [
    "score = model_spat.evaluate(val_ds, verbose=1, batch_size = batch_size, steps=step_per_epoch_val)\n",
    "print('Loss val:', score[0])\n",
    "print('Sparse_categorical_accuracy:', score[1])"
   ]
  },
  {
   "cell_type": "markdown",
   "id": "6c36a163",
   "metadata": {},
   "source": [
    "### History e grafici"
   ]
  },
  {
   "cell_type": "code",
   "execution_count": null,
   "id": "ecc05efb",
   "metadata": {},
   "outputs": [],
   "source": [
    "np.save(f'./Models/spatial_stream/spatial_stream_{version}_{arc}_epoch{epochs}_batch{batch_size}_optSDG_{learning_rate}_{momentum}.npy',\n",
    "        history_cnn_spatial_stream.history)\n",
    "#history=np.load('my_history.npy',allow_pickle='TRUE').item()"
   ]
  },
  {
   "cell_type": "code",
   "execution_count": null,
   "id": "103a9286",
   "metadata": {},
   "outputs": [],
   "source": [
    "print(history_cnn_spatial_stream.history.keys())"
   ]
  },
  {
   "cell_type": "code",
   "execution_count": null,
   "id": "9e0ffaa6",
   "metadata": {},
   "outputs": [],
   "source": [
    "fig1 = plt.gcf()\n",
    "plt.plot(history_cnn_spatial_stream.history['sparse_categorical_accuracy'])\n",
    "plt.plot(history_cnn_spatial_stream.history['val_sparse_categorical_accuracy'])\n",
    "plt.axis(ymin=0,ymax=1)\n",
    "plt.grid()\n",
    "plt.title('Model Accuracy')\n",
    "metric_plot = 'Accuracy'\n",
    "plt.ylabel('Accuracy')\n",
    "plt.xlabel('Epochs')\n",
    "plt.legend(['train', 'validation'])\n",
    "plt.savefig(f'./Report/Plots/motion_stream/motion_stream_{version}_{arc}_epoch{epochs}_batch{batch_size}_optSDG_{learning_rate}_{momentum}_metric{metric_plot}.png')\n",
    "plt.show()"
   ]
  },
  {
   "cell_type": "code",
   "execution_count": null,
   "id": "17fb39ff",
   "metadata": {},
   "outputs": [],
   "source": [
    "fig1 = plt.gcf()\n",
    "plt.plot(history_cnn_spatial_stream.history['sparse_top_k_categorical_accuracy'])\n",
    "plt.plot(history_cnn_spatial_stream.history['val_sparse_top_k_categorical_accuracy'])\n",
    "plt.axis(ymin=0,ymax=1)\n",
    "plt.grid()\n",
    "plt.title('Top 5 Model Accuracy')\n",
    "metric_plot = 'Top 5 Categorical_accuracy'\n",
    "plt.ylabel('Accuracy')\n",
    "plt.xlabel('Epochs')\n",
    "plt.legend(['train', 'validation'])\n",
    "plt.savefig(f'./Report/Plots/motion_stream/motion_stream_{version}_{arc}_epoch{epochs}_batch{batch_size}_optSDG_{learning_rate}_{momentum}_metric{metric_plot}.png')\n",
    "plt.show()"
   ]
  },
  {
   "cell_type": "code",
   "execution_count": null,
   "id": "1cb62ca4",
   "metadata": {},
   "outputs": [],
   "source": [
    "fig1 = plt.gcf()\n",
    "plt.plot(history_cnn_spatial_stream.history['loss'])\n",
    "plt.plot(history_cnn_spatial_stream.history['val_loss'])\n",
    "#plt.axis(ymin=0,ymax=1)\n",
    "plt.grid()\n",
    "plt.title('Model Loss')\n",
    "metric_plot = 'loss'\n",
    "plt.ylabel('Train Loss')\n",
    "plt.xlabel('Epochs')\n",
    "plt.legend(['train', 'validation'])\n",
    "plt.savefig(f'./Report/Plots/motion_stream/motion_stream_{version}_{arc}_epoch{epochs}_batch{batch_size}_optSDG_{learning_rate}_{momentum}_metric{metric_plot}_train.png')\n",
    "plt.show()"
   ]
  },
  {
   "cell_type": "code",
   "execution_count": null,
   "id": "1618ed62",
   "metadata": {},
   "outputs": [],
   "source": [
    "pd.DataFrame(history_cnn_spatial_stream.history).plot(figsize=(8,5))\n",
    "plt.show()"
   ]
  },
  {
   "cell_type": "code",
   "execution_count": null,
   "id": "782d9c17",
   "metadata": {},
   "outputs": [],
   "source": [
    "model_spat.save(f'./Models/spatial_stream/spatial_stream_{version}_{arc}_epoch{epochs}_batch{batch_size}_optSDG_{learning_rate}_{momentum}.h5')\n",
    "# model_mot.save_weights('./Models/model_mot_weights.h5')"
   ]
  },
  {
   "cell_type": "markdown",
   "id": "ceef9dc9",
   "metadata": {},
   "source": [
    "### Modello Migliore Evaluation"
   ]
  },
  {
   "cell_type": "code",
   "execution_count": 6,
   "id": "059504f0",
   "metadata": {},
   "outputs": [],
   "source": [
    "best_model_motion = keras.models.load_model('./Models/motion_model_v4_a3_val_acc_best.hdf5')"
   ]
  },
  {
   "cell_type": "code",
   "execution_count": 7,
   "id": "c78f5621",
   "metadata": {},
   "outputs": [
    {
     "name": "stdout",
     "output_type": "stream",
     "text": [
      "Model: \"sequential_1\"\n",
      "_________________________________________________________________\n",
      " Layer (type)                Output Shape              Param #   \n",
      "=================================================================\n",
      " conv2d (Conv2D)             (None, 109, 109, 96)      14208     \n",
      "                                                                 \n",
      " batch_normalization (BatchN  (None, 109, 109, 96)     384       \n",
      " ormalization)                                                   \n",
      "                                                                 \n",
      " max_pooling2d (MaxPooling2D  (None, 55, 55, 96)       0         \n",
      " )                                                               \n",
      "                                                                 \n",
      " zero_padding2d (ZeroPadding  (None, 57, 57, 96)       0         \n",
      " 2D)                                                             \n",
      "                                                                 \n",
      " conv2d_1 (Conv2D)           (None, 27, 27, 256)       614656    \n",
      "                                                                 \n",
      " batch_normalization_1 (Batc  (None, 27, 27, 256)      1024      \n",
      " hNormalization)                                                 \n",
      "                                                                 \n",
      " max_pooling2d_1 (MaxPooling  (None, 14, 14, 256)      0         \n",
      " 2D)                                                             \n",
      "                                                                 \n",
      " zero_padding2d_1 (ZeroPaddi  (None, 16, 16, 256)      0         \n",
      " ng2D)                                                           \n",
      "                                                                 \n",
      " conv2d_2 (Conv2D)           (None, 14, 14, 512)       1180160   \n",
      "                                                                 \n",
      " zero_padding2d_2 (ZeroPaddi  (None, 16, 16, 512)      0         \n",
      " ng2D)                                                           \n",
      "                                                                 \n",
      " conv2d_3 (Conv2D)           (None, 14, 14, 512)       2359808   \n",
      "                                                                 \n",
      " zero_padding2d_3 (ZeroPaddi  (None, 16, 16, 512)      0         \n",
      " ng2D)                                                           \n",
      "                                                                 \n",
      " conv2d_4 (Conv2D)           (None, 14, 14, 512)       2359808   \n",
      "                                                                 \n",
      " max_pooling2d_2 (MaxPooling  (None, 7, 7, 512)        0         \n",
      " 2D)                                                             \n",
      "                                                                 \n",
      " flatten (Flatten)           (None, 25088)             0         \n",
      "                                                                 \n",
      " dense (Dense)               (None, 4096)              102764544 \n",
      "                                                                 \n",
      " dropout (Dropout)           (None, 4096)              0         \n",
      "                                                                 \n",
      " dense_1 (Dense)             (None, 2048)              8390656   \n",
      "                                                                 \n",
      " dropout_1 (Dropout)         (None, 2048)              0         \n",
      "                                                                 \n",
      " dense_2 (Dense)             (None, 51)                104499    \n",
      "                                                                 \n",
      "=================================================================\n",
      "Total params: 117,789,747\n",
      "Trainable params: 117,789,043\n",
      "Non-trainable params: 704\n",
      "_________________________________________________________________\n"
     ]
    }
   ],
   "source": [
    "score = best_model_motion.evaluate(val_ds, verbose=1, batch_size = batch_size, steps=step_per_epoch_val)"
   ]
  },
  {
   "cell_type": "code",
   "execution_count": 40,
   "id": "28616d29",
   "metadata": {},
   "outputs": [
    {
     "name": "stdout",
     "output_type": "stream",
     "text": [
      "You must install pydot (`pip install pydot`) and install graphviz (see instructions at https://graphviz.gitlab.io/download/) for plot_model/model_to_dot to work.\n"
     ]
    }
   ],
   "source": [
    "keras.utils.plot_model(model_spat, to_file='./Models/model_spat.png')"
   ]
  },
  {
   "cell_type": "code",
   "execution_count": 32,
   "id": "8e4c75e7",
   "metadata": {},
   "outputs": [
    {
     "data": {
      "image/png": "[encoded data removed]",
      "text/plain": [
       "<Figure size 432x288 with 1 Axes>"
      ]
     },
     "metadata": {
      "needs_background": "light"
     },
     "output_type": "display_data"
    }
   ],
   "source": [
    "fig1 = plt.gcf()\n",
    "plt.plot(history_cnn_spatial_stream.history['sparse_categorical_accuracy'])\n",
    "plt.plot(history_cnn_spatial_stream.history['val_sparse_categorical_accuracy'])\n",
    "plt.axis(ymin=0,ymax=1)\n",
    "plt.grid()\n",
    "plt.title('Model Accuracy')\n",
    "plt.ylabel('Accuracy')\n",
    "plt.xlabel('Epochs')\n",
    "plt.legend(['train', 'validation'])\n",
    "plt.savefig('./Plots/resnet1_0.png')\n",
    "plt.show()"
   ]
  },
  {
   "cell_type": "code",
   "execution_count": null,
   "id": "d8999322",
   "metadata": {},
   "outputs": [],
   "source": [
    "plt.subplot(1, 2, 1)\n",
    "plt.plot(history_cnn_spatial_stream.history['loss'])\n",
    "plt.plot(history_cnn_spatial_stream.history['val_loss'])\n",
    "plt.ylim([0.0, 9.0])\n",
    "plt.xlabel('Epoch')\n",
    "plt.ylabel('Loss')\n",
    "plt.legend(['train', 'valid'])\n",
    "\n",
    "plt.subplot(1, 2, 2)\n",
    "plt.plot(history_cnn_spatial_stream.history['accuracy'])\n",
    "plt.plot(history_cnn_spatial_stream.history['val_accuracy'])\n",
    "plt.ylim([0.0, 1.0])\n",
    "plt.xlabel('Epoch')\n",
    "plt.ylabel('Accuracy')\n",
    "plt.legend(['train', 'valid'])"
   ]
  }
 ],
 "metadata": {
  "accelerator": "GPU",
  "colab": {
   "collapsed_sections": [],
   "name": "DataExploration.ipynb",
   "provenance": []
  },
  "gpuClass": "standard",
  "kernelspec": {
   "display_name": "Python 3.7.9 ('deepL37')",
   "language": "python",
   "name": "python3"
  },
  "language_info": {
   "codemirror_mode": {
    "name": "ipython",
    "version": 3
   },
   "file_extension": ".py",
   "mimetype": "text/x-python",
   "name": "python",
   "nbconvert_exporter": "python",
   "pygments_lexer": "ipython3",
   "version": "3.7.9"
  },
  "toc": {
   "base_numbering": 1,
   "nav_menu": {},
   "number_sections": true,
   "sideBar": true,
   "skip_h1_title": false,
   "title_cell": "Table of Contents",
   "title_sidebar": "Contents",
   "toc_cell": false,
   "toc_position": {},
   "toc_section_display": true,
   "toc_window_display": false
  },
  "vscode": {
   "interpreter": {
    "hash": "5f73b1806a9ec290aebb7f16dd5394fd2c9a0b8bec90a8791426b7ef5a3d9604"
   }
  }
 },
 "nbformat": 4,
 "nbformat_minor": 5
}
