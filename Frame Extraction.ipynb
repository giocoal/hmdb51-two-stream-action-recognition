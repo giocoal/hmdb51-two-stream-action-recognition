{
 "cells": [
  {
   "cell_type": "code",
   "execution_count": 1,
   "id": "ffa2bbfb",
   "metadata": {},
   "outputs": [],
   "source": [
    "import pandas as pd\n",
    "import os\n",
    "import cv2"
   ]
  },
  {
   "cell_type": "markdown",
   "id": "07ca5036",
   "metadata": {},
   "source": [
    "### Estrazione Frames"
   ]
  },
  {
   "cell_type": "code",
   "execution_count": 2,
   "id": "384b03ec",
   "metadata": {},
   "outputs": [],
   "source": [
    "#path dove si trova il dataframe hmdb51\n",
    "path = \"./data/hmdb51/\""
   ]
  },
  {
   "cell_type": "code",
   "execution_count": 3,
   "id": "7db74ea3",
   "metadata": {},
   "outputs": [],
   "source": [
    "split1 = pd.read_csv(f\"{path}/annotations/split1.csv\")\n",
    "actions = os.listdir(f\"{path}/videos\")"
   ]
  },
  {
   "cell_type": "code",
   "execution_count": 4,
   "id": "392cc813",
   "metadata": {},
   "outputs": [],
   "source": [
    "for parola in [\"train\", \"test\"]:\n",
    "    newpath = f'{path}/rawframes/{parola}' \n",
    "    if not os.path.exists(newpath):\n",
    "        os.makedirs(newpath)"
   ]
  },
  {
   "cell_type": "code",
   "execution_count": 5,
   "id": "4a0bbb72",
   "metadata": {},
   "outputs": [
    {
     "name": "stdout",
     "output_type": "stream",
     "text": [
      "Action: brush_hair, video letti: 33 su 107\r"
     ]
    },
    {
     "ename": "KeyboardInterrupt",
     "evalue": "",
     "output_type": "error",
     "traceback": [
      "\u001b[1;31m---------------------------------------------------------------------------\u001b[0m",
      "\u001b[1;31mKeyboardInterrupt\u001b[0m                         Traceback (most recent call last)",
      "\u001b[1;32m~\\AppData\\Local\\Temp/ipykernel_19240/3294184647.py\u001b[0m in \u001b[0;36m<module>\u001b[1;34m\u001b[0m\n\u001b[0;32m     23\u001b[0m         \u001b[0mcount_frame\u001b[0m \u001b[1;33m=\u001b[0m \u001b[1;36m1\u001b[0m\u001b[1;33m\u001b[0m\u001b[1;33m\u001b[0m\u001b[0m\n\u001b[0;32m     24\u001b[0m         \u001b[1;32mwhile\u001b[0m \u001b[0mret\u001b[0m\u001b[1;33m:\u001b[0m\u001b[1;33m\u001b[0m\u001b[1;33m\u001b[0m\u001b[0m\n\u001b[1;32m---> 25\u001b[1;33m             \u001b[0mcv2\u001b[0m\u001b[1;33m.\u001b[0m\u001b[0mimwrite\u001b[0m\u001b[1;33m(\u001b[0m\u001b[0mos\u001b[0m\u001b[1;33m.\u001b[0m\u001b[0mpath\u001b[0m\u001b[1;33m.\u001b[0m\u001b[0mjoin\u001b[0m\u001b[1;33m(\u001b[0m\u001b[1;34mf'{newpath}'\u001b[0m \u001b[1;33m,\u001b[0m \u001b[1;34mf'{video}_frame_{count_frame}.jpg'\u001b[0m\u001b[1;33m)\u001b[0m\u001b[1;33m,\u001b[0m \u001b[0mframe\u001b[0m\u001b[1;33m)\u001b[0m\u001b[1;33m\u001b[0m\u001b[1;33m\u001b[0m\u001b[0m\n\u001b[0m\u001b[0;32m     26\u001b[0m             \u001b[0mcv2\u001b[0m\u001b[1;33m.\u001b[0m\u001b[0mwaitKey\u001b[0m\u001b[1;33m(\u001b[0m\u001b[1;36m0\u001b[0m\u001b[1;33m)\u001b[0m\u001b[1;33m\u001b[0m\u001b[1;33m\u001b[0m\u001b[0m\n\u001b[0;32m     27\u001b[0m             \u001b[1;32mfor\u001b[0m \u001b[0mi\u001b[0m \u001b[1;32min\u001b[0m \u001b[0mrange\u001b[0m\u001b[1;33m(\u001b[0m\u001b[1;36m4\u001b[0m\u001b[1;33m)\u001b[0m\u001b[1;33m:\u001b[0m          \u001b[1;31m#leggo un frame ogni 4\u001b[0m\u001b[1;33m\u001b[0m\u001b[1;33m\u001b[0m\u001b[0m\n",
      "\u001b[1;31mKeyboardInterrupt\u001b[0m: "
     ]
    }
   ],
   "source": [
    "for action in actions: \n",
    "    for parola in [\"train\", \"test\"]:\n",
    "        newpath = f'{path}/rawframes/{parola}/{action}' \n",
    "        if not os.path.exists(newpath):\n",
    "            os.makedirs(newpath)\n",
    "    list_videos_action = os.listdir(f\"{path}/videos/{action}\")\n",
    "    n_video = len(list_videos_action)\n",
    "    counter_n_video = 0\n",
    "    for video in list_videos_action:\n",
    "        if split1[split1[\"title\"] == video][\"train/test\"].item() == 0:\n",
    "            continue\n",
    "        elif split1[split1[\"title\"] == video][\"train/test\"].item() == 1:\n",
    "            newpath = f'{path}/rawframes/train/{action}/{video}'\n",
    "            if not os.path.exists(newpath):\n",
    "                os.makedirs(newpath)\n",
    "        else:\n",
    "            newpath = f'{path}/rawframes/test/{action}/{video}'\n",
    "            if not os.path.exists(newpath):\n",
    "                os.makedirs(newpath)\n",
    "        counter_n_video += 1\n",
    "        video_reader = cv2.VideoCapture(f\"{path}/videos/{action}/{video}\")\n",
    "        ret, frame = video_reader.read()\n",
    "        count_frame = 1\n",
    "        while ret:\n",
    "            cv2.imwrite(os.path.join(f'{newpath}' , f'{video}_frame_{count_frame}.jpg'), frame)\n",
    "            cv2.waitKey(0)\n",
    "            for i in range(4):          #leggo un frame ogni 4 \n",
    "                ret, frame = video_reader.read()\n",
    "            if not ret:\n",
    "                break\n",
    "            print(f'Action: {action}, video letti: {counter_n_video} su {n_video}', end = \"\\r\")\n",
    "            count_frame += 4"
   ]
  },
  {
   "cell_type": "markdown",
   "id": "c43f0a49",
   "metadata": {},
   "source": [
    "### Resize\n",
    "\n",
    "Prendo ogni frame appena creato e faccio resize 224x224"
   ]
  },
  {
   "cell_type": "code",
   "execution_count": null,
   "id": "25cec773",
   "metadata": {},
   "outputs": [],
   "source": [
    "for set_ in [\"train\", \"test\"]:\n",
    "    for action in actions:\n",
    "        newpath = f'{path}/rawframes/{set_}/{action}'\n",
    "        list_videos_action = os.listdir(newpath)\n",
    "        for video in list_videos_action:\n",
    "            print(f\"azione: {action}, video: {video}\", end = \"\\r\")\n",
    "            frames = os.listdir(f\"{newpath}/{video}\")\n",
    "            for frame in frames:\n",
    "                immagine = cv2.imread(f\"{newpath}/{video}/{frame}\")\n",
    "                immagine = cv2.resize(immagine, (224,224))\n",
    "                cv2.imwrite(f\"{newpath}/{video}/{frame}\", immagine)      "
   ]
  }
 ],
 "metadata": {
  "kernelspec": {
   "display_name": "Python 3.7.9 ('deepL37')",
   "language": "python",
   "name": "python3"
  },
  "language_info": {
   "codemirror_mode": {
    "name": "ipython",
    "version": 3
   },
   "file_extension": ".py",
   "mimetype": "text/x-python",
   "name": "python",
   "nbconvert_exporter": "python",
   "pygments_lexer": "ipython3",
   "version": "3.7.9"
  },
  "vscode": {
   "interpreter": {
    "hash": "5f73b1806a9ec290aebb7f16dd5394fd2c9a0b8bec90a8791426b7ef5a3d9604"
   }
  }
 },
 "nbformat": 4,
 "nbformat_minor": 5
}
