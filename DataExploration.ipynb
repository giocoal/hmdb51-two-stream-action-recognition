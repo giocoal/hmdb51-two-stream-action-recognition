{
 "cells": [
  {
   "cell_type": "markdown",
   "id": "b3ddbf88",
   "metadata": {},
   "source": [
    "# Data Exploration"
   ]
  },
  {
   "cell_type": "code",
   "execution_count": 39,
   "id": "23183580",
   "metadata": {
    "ExecuteTime": {
     "end_time": "2022-08-04T15:50:07.615231Z",
     "start_time": "2022-08-04T15:50:05.388963Z"
    }
   },
   "outputs": [],
   "source": [
    "import os\n",
    "import hub\n",
    "import numpy as np\n",
    "import pandas as pd\n",
    "import re\n",
    "import seaborn as sns\n",
    "#import cv2\n",
    "#!pip install cv2"
   ]
  },
  {
   "cell_type": "markdown",
   "id": "d9f2f89a",
   "metadata": {},
   "source": [
    "## Categories exploration"
   ]
  },
  {
   "cell_type": "code",
   "execution_count": 2,
   "id": "13c6dd21",
   "metadata": {
    "ExecuteTime": {
     "end_time": "2022-08-04T15:32:36.664645Z",
     "start_time": "2022-08-04T15:32:36.649074Z"
    }
   },
   "outputs": [],
   "source": [
    "dataset_directory = '.\\dataset\\Hmdb51_org_extracted'"
   ]
  },
  {
   "cell_type": "code",
   "execution_count": 3,
   "id": "d11e04aa",
   "metadata": {
    "ExecuteTime": {
     "end_time": "2022-08-04T15:32:36.794642Z",
     "start_time": "2022-08-04T15:32:36.669356Z"
    }
   },
   "outputs": [
    {
     "name": "stdout",
     "output_type": "stream",
     "text": [
      "Number of files: 6766\n"
     ]
    }
   ],
   "source": [
    "completelist = [os.path.join(path, name) for path, subdirs, files in os.walk(dataset_directory) for name in files]\n",
    "print(\"Number of files:\", len(completelist))"
   ]
  },
  {
   "cell_type": "code",
   "execution_count": 4,
   "id": "b8725588",
   "metadata": {
    "ExecuteTime": {
     "end_time": "2022-08-04T15:32:36.810569Z",
     "start_time": "2022-08-04T15:32:36.794642Z"
    }
   },
   "outputs": [
    {
     "name": "stdout",
     "output_type": "stream",
     "text": [
      "Number of categories: 51\n"
     ]
    }
   ],
   "source": [
    "cat_list = os.listdir(os.path.join(dataset_directory))\n",
    "print(\"Number of categories:\", len(cat_list))"
   ]
  },
  {
   "cell_type": "code",
   "execution_count": 5,
   "id": "d0fdf7d9",
   "metadata": {
    "ExecuteTime": {
     "end_time": "2022-08-04T15:32:36.842589Z",
     "start_time": "2022-08-04T15:32:36.810569Z"
    }
   },
   "outputs": [],
   "source": [
    "file_name_list = []\n",
    "cat_list_rep = []\n",
    "\n",
    "for cat in cat_list:\n",
    "    path = os.path.join(dataset_directory, cat)\n",
    "    for loc, subdirs, files in os.walk(path):\n",
    "        for file in files:\n",
    "            file_name_list.append(file)\n",
    "            cat_list_rep.append(cat)"
   ]
  },
  {
   "cell_type": "code",
   "execution_count": 6,
   "id": "c7ced32a",
   "metadata": {
    "ExecuteTime": {
     "end_time": "2022-08-04T15:32:36.922635Z",
     "start_time": "2022-08-04T15:32:36.842589Z"
    }
   },
   "outputs": [
    {
     "data": {
      "text/html": [
       "<div>\n",
       "<style scoped>\n",
       "    .dataframe tbody tr th:only-of-type {\n",
       "        vertical-align: middle;\n",
       "    }\n",
       "\n",
       "    .dataframe tbody tr th {\n",
       "        vertical-align: top;\n",
       "    }\n",
       "\n",
       "    .dataframe thead th {\n",
       "        text-align: right;\n",
       "    }\n",
       "</style>\n",
       "<table border=\"1\" class=\"dataframe\">\n",
       "  <thead>\n",
       "    <tr style=\"text-align: right;\">\n",
       "      <th></th>\n",
       "      <th>file_name</th>\n",
       "      <th>activity</th>\n",
       "    </tr>\n",
       "  </thead>\n",
       "  <tbody>\n",
       "    <tr>\n",
       "      <th>0</th>\n",
       "      <td>April_09_brush_hair_u_nm_np1_ba_goo_0.avi</td>\n",
       "      <td>brush_hair</td>\n",
       "    </tr>\n",
       "    <tr>\n",
       "      <th>1</th>\n",
       "      <td>April_09_brush_hair_u_nm_np1_ba_goo_1.avi</td>\n",
       "      <td>brush_hair</td>\n",
       "    </tr>\n",
       "    <tr>\n",
       "      <th>2</th>\n",
       "      <td>April_09_brush_hair_u_nm_np1_ba_goo_2.avi</td>\n",
       "      <td>brush_hair</td>\n",
       "    </tr>\n",
       "    <tr>\n",
       "      <th>3</th>\n",
       "      <td>atempting_to_brush_my_hair_brush_hair_u_nm_np2...</td>\n",
       "      <td>brush_hair</td>\n",
       "    </tr>\n",
       "    <tr>\n",
       "      <th>4</th>\n",
       "      <td>atempting_to_brush_my_hair_brush_hair_u_nm_np2...</td>\n",
       "      <td>brush_hair</td>\n",
       "    </tr>\n",
       "    <tr>\n",
       "      <th>...</th>\n",
       "      <td>...</td>\n",
       "      <td>...</td>\n",
       "    </tr>\n",
       "    <tr>\n",
       "      <th>6761</th>\n",
       "      <td>winKen_wave_u_cm_np1_ba_bad_0.avi</td>\n",
       "      <td>wave</td>\n",
       "    </tr>\n",
       "    <tr>\n",
       "      <th>6762</th>\n",
       "      <td>winKen_wave_u_cm_np1_ri_bad_1.avi</td>\n",
       "      <td>wave</td>\n",
       "    </tr>\n",
       "    <tr>\n",
       "      <th>6763</th>\n",
       "      <td>_I_ll_Just_Wave_My_Hand__sung_by_Cornerstone_M...</td>\n",
       "      <td>wave</td>\n",
       "    </tr>\n",
       "    <tr>\n",
       "      <th>6764</th>\n",
       "      <td>_I_ll_Just_Wave_My_Hand__sung_by_Cornerstone_M...</td>\n",
       "      <td>wave</td>\n",
       "    </tr>\n",
       "    <tr>\n",
       "      <th>6765</th>\n",
       "      <td>_I_ll_Just_Wave_My_Hand__sung_by_Cornerstone_M...</td>\n",
       "      <td>wave</td>\n",
       "    </tr>\n",
       "  </tbody>\n",
       "</table>\n",
       "<p>6766 rows × 2 columns</p>\n",
       "</div>"
      ],
      "text/plain": [
       "                                              file_name    activity\n",
       "0             April_09_brush_hair_u_nm_np1_ba_goo_0.avi  brush_hair\n",
       "1             April_09_brush_hair_u_nm_np1_ba_goo_1.avi  brush_hair\n",
       "2             April_09_brush_hair_u_nm_np1_ba_goo_2.avi  brush_hair\n",
       "3     atempting_to_brush_my_hair_brush_hair_u_nm_np2...  brush_hair\n",
       "4     atempting_to_brush_my_hair_brush_hair_u_nm_np2...  brush_hair\n",
       "...                                                 ...         ...\n",
       "6761                  winKen_wave_u_cm_np1_ba_bad_0.avi        wave\n",
       "6762                  winKen_wave_u_cm_np1_ri_bad_1.avi        wave\n",
       "6763  _I_ll_Just_Wave_My_Hand__sung_by_Cornerstone_M...        wave\n",
       "6764  _I_ll_Just_Wave_My_Hand__sung_by_Cornerstone_M...        wave\n",
       "6765  _I_ll_Just_Wave_My_Hand__sung_by_Cornerstone_M...        wave\n",
       "\n",
       "[6766 rows x 2 columns]"
      ]
     },
     "execution_count": 6,
     "metadata": {},
     "output_type": "execute_result"
    }
   ],
   "source": [
    "file_df = pd.DataFrame(list(zip(file_name_list, cat_list_rep)), columns = ['file_name','activity'])\n",
    "file_df"
   ]
  },
  {
   "cell_type": "code",
   "execution_count": 7,
   "id": "a3757951",
   "metadata": {
    "ExecuteTime": {
     "end_time": "2022-08-04T15:32:37.178718Z",
     "start_time": "2022-08-04T15:32:37.170567Z"
    }
   },
   "outputs": [],
   "source": [
    "def title_properties(string, category):\n",
    "    match = re.findall(f'(\\S+){category}(\\S+)', string)[-1]\n",
    "    return(match)"
   ]
  },
  {
   "cell_type": "code",
   "execution_count": 8,
   "id": "c455b02d",
   "metadata": {
    "ExecuteTime": {
     "end_time": "2022-08-04T15:32:37.912702Z",
     "start_time": "2022-08-04T15:32:37.648610Z"
    }
   },
   "outputs": [
    {
     "data": {
      "text/html": [
       "<div>\n",
       "<style scoped>\n",
       "    .dataframe tbody tr th:only-of-type {\n",
       "        vertical-align: middle;\n",
       "    }\n",
       "\n",
       "    .dataframe tbody tr th {\n",
       "        vertical-align: top;\n",
       "    }\n",
       "\n",
       "    .dataframe thead th {\n",
       "        text-align: right;\n",
       "    }\n",
       "</style>\n",
       "<table border=\"1\" class=\"dataframe\">\n",
       "  <thead>\n",
       "    <tr style=\"text-align: right;\">\n",
       "      <th></th>\n",
       "      <th>file_name</th>\n",
       "      <th>activity</th>\n",
       "      <th>title</th>\n",
       "      <th>properties</th>\n",
       "    </tr>\n",
       "  </thead>\n",
       "  <tbody>\n",
       "    <tr>\n",
       "      <th>0</th>\n",
       "      <td>April_09_brush_hair_u_nm_np1_ba_goo_0.avi</td>\n",
       "      <td>brush_hair</td>\n",
       "      <td>April_09_</td>\n",
       "      <td>_u_nm_np1_ba_goo_0.avi</td>\n",
       "    </tr>\n",
       "    <tr>\n",
       "      <th>1</th>\n",
       "      <td>April_09_brush_hair_u_nm_np1_ba_goo_1.avi</td>\n",
       "      <td>brush_hair</td>\n",
       "      <td>April_09_</td>\n",
       "      <td>_u_nm_np1_ba_goo_1.avi</td>\n",
       "    </tr>\n",
       "    <tr>\n",
       "      <th>2</th>\n",
       "      <td>April_09_brush_hair_u_nm_np1_ba_goo_2.avi</td>\n",
       "      <td>brush_hair</td>\n",
       "      <td>April_09_</td>\n",
       "      <td>_u_nm_np1_ba_goo_2.avi</td>\n",
       "    </tr>\n",
       "    <tr>\n",
       "      <th>3</th>\n",
       "      <td>atempting_to_brush_my_hair_brush_hair_u_nm_np2...</td>\n",
       "      <td>brush_hair</td>\n",
       "      <td>atempting_to_brush_my_hair_</td>\n",
       "      <td>_u_nm_np2_le_goo_0.avi</td>\n",
       "    </tr>\n",
       "    <tr>\n",
       "      <th>4</th>\n",
       "      <td>atempting_to_brush_my_hair_brush_hair_u_nm_np2...</td>\n",
       "      <td>brush_hair</td>\n",
       "      <td>atempting_to_brush_my_hair_</td>\n",
       "      <td>_u_nm_np2_le_goo_1.avi</td>\n",
       "    </tr>\n",
       "    <tr>\n",
       "      <th>...</th>\n",
       "      <td>...</td>\n",
       "      <td>...</td>\n",
       "      <td>...</td>\n",
       "      <td>...</td>\n",
       "    </tr>\n",
       "    <tr>\n",
       "      <th>6761</th>\n",
       "      <td>winKen_wave_u_cm_np1_ba_bad_0.avi</td>\n",
       "      <td>wave</td>\n",
       "      <td>winKen_</td>\n",
       "      <td>_u_cm_np1_ba_bad_0.avi</td>\n",
       "    </tr>\n",
       "    <tr>\n",
       "      <th>6762</th>\n",
       "      <td>winKen_wave_u_cm_np1_ri_bad_1.avi</td>\n",
       "      <td>wave</td>\n",
       "      <td>winKen_</td>\n",
       "      <td>_u_cm_np1_ri_bad_1.avi</td>\n",
       "    </tr>\n",
       "    <tr>\n",
       "      <th>6763</th>\n",
       "      <td>_I_ll_Just_Wave_My_Hand__sung_by_Cornerstone_M...</td>\n",
       "      <td>wave</td>\n",
       "      <td>_I_ll_Just_Wave_My_Hand__sung_by_Cornerstone_M...</td>\n",
       "      <td>_u_cm_np1_fr_med_0.avi</td>\n",
       "    </tr>\n",
       "    <tr>\n",
       "      <th>6764</th>\n",
       "      <td>_I_ll_Just_Wave_My_Hand__sung_by_Cornerstone_M...</td>\n",
       "      <td>wave</td>\n",
       "      <td>_I_ll_Just_Wave_My_Hand__sung_by_Cornerstone_M...</td>\n",
       "      <td>_u_cm_np1_fr_med_1.avi</td>\n",
       "    </tr>\n",
       "    <tr>\n",
       "      <th>6765</th>\n",
       "      <td>_I_ll_Just_Wave_My_Hand__sung_by_Cornerstone_M...</td>\n",
       "      <td>wave</td>\n",
       "      <td>_I_ll_Just_Wave_My_Hand__sung_by_Cornerstone_M...</td>\n",
       "      <td>_u_cm_np1_fr_med_2.avi</td>\n",
       "    </tr>\n",
       "  </tbody>\n",
       "</table>\n",
       "<p>6766 rows × 4 columns</p>\n",
       "</div>"
      ],
      "text/plain": [
       "                                              file_name    activity  \\\n",
       "0             April_09_brush_hair_u_nm_np1_ba_goo_0.avi  brush_hair   \n",
       "1             April_09_brush_hair_u_nm_np1_ba_goo_1.avi  brush_hair   \n",
       "2             April_09_brush_hair_u_nm_np1_ba_goo_2.avi  brush_hair   \n",
       "3     atempting_to_brush_my_hair_brush_hair_u_nm_np2...  brush_hair   \n",
       "4     atempting_to_brush_my_hair_brush_hair_u_nm_np2...  brush_hair   \n",
       "...                                                 ...         ...   \n",
       "6761                  winKen_wave_u_cm_np1_ba_bad_0.avi        wave   \n",
       "6762                  winKen_wave_u_cm_np1_ri_bad_1.avi        wave   \n",
       "6763  _I_ll_Just_Wave_My_Hand__sung_by_Cornerstone_M...        wave   \n",
       "6764  _I_ll_Just_Wave_My_Hand__sung_by_Cornerstone_M...        wave   \n",
       "6765  _I_ll_Just_Wave_My_Hand__sung_by_Cornerstone_M...        wave   \n",
       "\n",
       "                                                  title  \\\n",
       "0                                             April_09_   \n",
       "1                                             April_09_   \n",
       "2                                             April_09_   \n",
       "3                           atempting_to_brush_my_hair_   \n",
       "4                           atempting_to_brush_my_hair_   \n",
       "...                                                 ...   \n",
       "6761                                            winKen_   \n",
       "6762                                            winKen_   \n",
       "6763  _I_ll_Just_Wave_My_Hand__sung_by_Cornerstone_M...   \n",
       "6764  _I_ll_Just_Wave_My_Hand__sung_by_Cornerstone_M...   \n",
       "6765  _I_ll_Just_Wave_My_Hand__sung_by_Cornerstone_M...   \n",
       "\n",
       "                  properties  \n",
       "0     _u_nm_np1_ba_goo_0.avi  \n",
       "1     _u_nm_np1_ba_goo_1.avi  \n",
       "2     _u_nm_np1_ba_goo_2.avi  \n",
       "3     _u_nm_np2_le_goo_0.avi  \n",
       "4     _u_nm_np2_le_goo_1.avi  \n",
       "...                      ...  \n",
       "6761  _u_cm_np1_ba_bad_0.avi  \n",
       "6762  _u_cm_np1_ri_bad_1.avi  \n",
       "6763  _u_cm_np1_fr_med_0.avi  \n",
       "6764  _u_cm_np1_fr_med_1.avi  \n",
       "6765  _u_cm_np1_fr_med_2.avi  \n",
       "\n",
       "[6766 rows x 4 columns]"
      ]
     },
     "execution_count": 8,
     "metadata": {},
     "output_type": "execute_result"
    }
   ],
   "source": [
    "file_df['title'] = file_df.apply(lambda file_df: title_properties(file_df['file_name'], file_df['activity'])[0], axis=1)\n",
    "file_df['properties'] = file_df.apply(lambda file_df: title_properties(file_df['file_name'], file_df['activity'])[1], axis=1)\n",
    "file_df"
   ]
  },
  {
   "cell_type": "code",
   "execution_count": 9,
   "id": "53c2ab31",
   "metadata": {
    "ExecuteTime": {
     "end_time": "2022-08-04T15:32:38.104805Z",
     "start_time": "2022-08-04T15:32:38.088805Z"
    }
   },
   "outputs": [],
   "source": [
    "def separate_properties(string):\n",
    "    match = re.match('_(\\w+)_(\\w+)_(\\w+)_(\\w+)_(\\w+)_(\\d+).avi', string)\n",
    "    return(match)"
   ]
  },
  {
   "cell_type": "code",
   "execution_count": 33,
   "id": "0a14da74",
   "metadata": {
    "ExecuteTime": {
     "end_time": "2022-08-04T15:46:20.482719Z",
     "start_time": "2022-08-04T15:46:19.819252Z"
    },
    "scrolled": true
   },
   "outputs": [],
   "source": [
    "file_df['visible_body_parts'] = file_df.apply(lambda file_df: separate_properties(file_df['properties'])[1], axis=1)\n",
    "file_df['camera_motion'] = file_df.apply(lambda file_df: separate_properties(file_df['properties'])[2], axis=1)\n",
    "file_df['number_of_people'] = file_df.apply(lambda file_df: separate_properties(file_df['properties'])[3], axis=1)\n",
    "file_df['camera_viewpoint'] = file_df.apply(lambda file_df: separate_properties(file_df['properties'])[4], axis=1)\n",
    "file_df['video_quality'] = file_df.apply(lambda file_df: separate_properties(file_df['properties'])[5], axis=1)\n",
    "file_df['video_number'] = file_df.apply(lambda file_df: separate_properties(file_df['properties'])[6], axis=1)"
   ]
  },
  {
   "cell_type": "code",
   "execution_count": 34,
   "id": "9c66d7b7",
   "metadata": {
    "ExecuteTime": {
     "end_time": "2022-08-04T15:46:22.529879Z",
     "start_time": "2022-08-04T15:46:22.490056Z"
    }
   },
   "outputs": [
    {
     "data": {
      "text/html": [
       "<div>\n",
       "<style scoped>\n",
       "    .dataframe tbody tr th:only-of-type {\n",
       "        vertical-align: middle;\n",
       "    }\n",
       "\n",
       "    .dataframe tbody tr th {\n",
       "        vertical-align: top;\n",
       "    }\n",
       "\n",
       "    .dataframe thead th {\n",
       "        text-align: right;\n",
       "    }\n",
       "</style>\n",
       "<table border=\"1\" class=\"dataframe\">\n",
       "  <thead>\n",
       "    <tr style=\"text-align: right;\">\n",
       "      <th></th>\n",
       "      <th>title</th>\n",
       "      <th>video_number</th>\n",
       "      <th>activity</th>\n",
       "      <th>visible_body_parts</th>\n",
       "      <th>camera_motion</th>\n",
       "      <th>number_of_people</th>\n",
       "      <th>camera_viewpoint</th>\n",
       "      <th>video_quality</th>\n",
       "    </tr>\n",
       "  </thead>\n",
       "  <tbody>\n",
       "    <tr>\n",
       "      <th>0</th>\n",
       "      <td>April_09_</td>\n",
       "      <td>0</td>\n",
       "      <td>brush_hair</td>\n",
       "      <td>u</td>\n",
       "      <td>nm</td>\n",
       "      <td>np1</td>\n",
       "      <td>ba</td>\n",
       "      <td>goo</td>\n",
       "    </tr>\n",
       "    <tr>\n",
       "      <th>1</th>\n",
       "      <td>April_09_</td>\n",
       "      <td>1</td>\n",
       "      <td>brush_hair</td>\n",
       "      <td>u</td>\n",
       "      <td>nm</td>\n",
       "      <td>np1</td>\n",
       "      <td>ba</td>\n",
       "      <td>goo</td>\n",
       "    </tr>\n",
       "    <tr>\n",
       "      <th>2</th>\n",
       "      <td>April_09_</td>\n",
       "      <td>2</td>\n",
       "      <td>brush_hair</td>\n",
       "      <td>u</td>\n",
       "      <td>nm</td>\n",
       "      <td>np1</td>\n",
       "      <td>ba</td>\n",
       "      <td>goo</td>\n",
       "    </tr>\n",
       "    <tr>\n",
       "      <th>3</th>\n",
       "      <td>atempting_to_brush_my_hair_</td>\n",
       "      <td>0</td>\n",
       "      <td>brush_hair</td>\n",
       "      <td>u</td>\n",
       "      <td>nm</td>\n",
       "      <td>np2</td>\n",
       "      <td>le</td>\n",
       "      <td>goo</td>\n",
       "    </tr>\n",
       "    <tr>\n",
       "      <th>4</th>\n",
       "      <td>atempting_to_brush_my_hair_</td>\n",
       "      <td>1</td>\n",
       "      <td>brush_hair</td>\n",
       "      <td>u</td>\n",
       "      <td>nm</td>\n",
       "      <td>np2</td>\n",
       "      <td>le</td>\n",
       "      <td>goo</td>\n",
       "    </tr>\n",
       "    <tr>\n",
       "      <th>...</th>\n",
       "      <td>...</td>\n",
       "      <td>...</td>\n",
       "      <td>...</td>\n",
       "      <td>...</td>\n",
       "      <td>...</td>\n",
       "      <td>...</td>\n",
       "      <td>...</td>\n",
       "      <td>...</td>\n",
       "    </tr>\n",
       "    <tr>\n",
       "      <th>6761</th>\n",
       "      <td>winKen_</td>\n",
       "      <td>0</td>\n",
       "      <td>wave</td>\n",
       "      <td>u</td>\n",
       "      <td>cm</td>\n",
       "      <td>np1</td>\n",
       "      <td>ba</td>\n",
       "      <td>bad</td>\n",
       "    </tr>\n",
       "    <tr>\n",
       "      <th>6762</th>\n",
       "      <td>winKen_</td>\n",
       "      <td>1</td>\n",
       "      <td>wave</td>\n",
       "      <td>u</td>\n",
       "      <td>cm</td>\n",
       "      <td>np1</td>\n",
       "      <td>ri</td>\n",
       "      <td>bad</td>\n",
       "    </tr>\n",
       "    <tr>\n",
       "      <th>6763</th>\n",
       "      <td>_I_ll_Just_Wave_My_Hand__sung_by_Cornerstone_M...</td>\n",
       "      <td>0</td>\n",
       "      <td>wave</td>\n",
       "      <td>u</td>\n",
       "      <td>cm</td>\n",
       "      <td>np1</td>\n",
       "      <td>fr</td>\n",
       "      <td>med</td>\n",
       "    </tr>\n",
       "    <tr>\n",
       "      <th>6764</th>\n",
       "      <td>_I_ll_Just_Wave_My_Hand__sung_by_Cornerstone_M...</td>\n",
       "      <td>1</td>\n",
       "      <td>wave</td>\n",
       "      <td>u</td>\n",
       "      <td>cm</td>\n",
       "      <td>np1</td>\n",
       "      <td>fr</td>\n",
       "      <td>med</td>\n",
       "    </tr>\n",
       "    <tr>\n",
       "      <th>6765</th>\n",
       "      <td>_I_ll_Just_Wave_My_Hand__sung_by_Cornerstone_M...</td>\n",
       "      <td>2</td>\n",
       "      <td>wave</td>\n",
       "      <td>u</td>\n",
       "      <td>cm</td>\n",
       "      <td>np1</td>\n",
       "      <td>fr</td>\n",
       "      <td>med</td>\n",
       "    </tr>\n",
       "  </tbody>\n",
       "</table>\n",
       "<p>6766 rows × 8 columns</p>\n",
       "</div>"
      ],
      "text/plain": [
       "                                                  title  video_number  \\\n",
       "0                                             April_09_             0   \n",
       "1                                             April_09_             1   \n",
       "2                                             April_09_             2   \n",
       "3                           atempting_to_brush_my_hair_             0   \n",
       "4                           atempting_to_brush_my_hair_             1   \n",
       "...                                                 ...           ...   \n",
       "6761                                            winKen_             0   \n",
       "6762                                            winKen_             1   \n",
       "6763  _I_ll_Just_Wave_My_Hand__sung_by_Cornerstone_M...             0   \n",
       "6764  _I_ll_Just_Wave_My_Hand__sung_by_Cornerstone_M...             1   \n",
       "6765  _I_ll_Just_Wave_My_Hand__sung_by_Cornerstone_M...             2   \n",
       "\n",
       "        activity visible_body_parts camera_motion number_of_people  \\\n",
       "0     brush_hair                  u            nm              np1   \n",
       "1     brush_hair                  u            nm              np1   \n",
       "2     brush_hair                  u            nm              np1   \n",
       "3     brush_hair                  u            nm              np2   \n",
       "4     brush_hair                  u            nm              np2   \n",
       "...          ...                ...           ...              ...   \n",
       "6761        wave                  u            cm              np1   \n",
       "6762        wave                  u            cm              np1   \n",
       "6763        wave                  u            cm              np1   \n",
       "6764        wave                  u            cm              np1   \n",
       "6765        wave                  u            cm              np1   \n",
       "\n",
       "     camera_viewpoint video_quality  \n",
       "0                  ba           goo  \n",
       "1                  ba           goo  \n",
       "2                  ba           goo  \n",
       "3                  le           goo  \n",
       "4                  le           goo  \n",
       "...               ...           ...  \n",
       "6761               ba           bad  \n",
       "6762               ri           bad  \n",
       "6763               fr           med  \n",
       "6764               fr           med  \n",
       "6765               fr           med  \n",
       "\n",
       "[6766 rows x 8 columns]"
      ]
     },
     "execution_count": 34,
     "metadata": {},
     "output_type": "execute_result"
    }
   ],
   "source": [
    "file_df_complete = file_df[['title', 'video_number', 'activity', 'visible_body_parts', 'camera_motion', 'number_of_people', 'camera_viewpoint', 'video_quality']]\n",
    "file_df_complete = file_df_complete.astype({'video_number': int})\n",
    "file_df_complete"
   ]
  },
  {
   "cell_type": "code",
   "execution_count": 38,
   "id": "322d6af8",
   "metadata": {
    "ExecuteTime": {
     "end_time": "2022-08-04T15:48:20.185087Z",
     "start_time": "2022-08-04T15:48:20.153340Z"
    }
   },
   "outputs": [
    {
     "name": "stdout",
     "output_type": "stream",
     "text": [
      "Number of individual videos: 1407\n"
     ]
    }
   ],
   "source": [
    "print(\"Number of individual videos:\", len(file_df_complete.groupby('title').count()))"
   ]
  },
  {
   "cell_type": "code",
   "execution_count": 40,
   "id": "3948d2ab",
   "metadata": {
    "ExecuteTime": {
     "end_time": "2022-08-04T15:50:41.848377Z",
     "start_time": "2022-08-04T15:50:41.550003Z"
    }
   },
   "outputs": [
    {
     "name": "stderr",
     "output_type": "stream",
     "text": [
      "C:\\ProgramData\\Anaconda3\\lib\\site-packages\\seaborn\\_decorators.py:36: FutureWarning: Pass the following variable as a keyword arg: x. From version 0.12, the only valid positional argument will be `data`, and passing other arguments without an explicit keyword will result in an error or misinterpretation.\n",
      "  warnings.warn(\n"
     ]
    },
    {
     "ename": "TypeError",
     "evalue": "Horizontal orientation requires numeric `x` variable.",
     "output_type": "error",
     "traceback": [
      "\u001b[1;31m---------------------------------------------------------------------------\u001b[0m",
      "\u001b[1;31mTypeError\u001b[0m                                 Traceback (most recent call last)",
      "\u001b[1;32m~\\AppData\\Local\\Temp/ipykernel_24996/1641898624.py\u001b[0m in \u001b[0;36m<module>\u001b[1;34m\u001b[0m\n\u001b[1;32m----> 1\u001b[1;33m \u001b[0msns\u001b[0m\u001b[1;33m.\u001b[0m\u001b[0mbarplot\u001b[0m\u001b[1;33m(\u001b[0m\u001b[0mfile_df_complete\u001b[0m\u001b[1;33m[\u001b[0m\u001b[1;34m'camera_motion'\u001b[0m\u001b[1;33m]\u001b[0m\u001b[1;33m)\u001b[0m\u001b[1;33m\u001b[0m\u001b[1;33m\u001b[0m\u001b[0m\n\u001b[0m",
      "\u001b[1;32mC:\\ProgramData\\Anaconda3\\lib\\site-packages\\seaborn\\_decorators.py\u001b[0m in \u001b[0;36minner_f\u001b[1;34m(*args, **kwargs)\u001b[0m\n\u001b[0;32m     44\u001b[0m             )\n\u001b[0;32m     45\u001b[0m         \u001b[0mkwargs\u001b[0m\u001b[1;33m.\u001b[0m\u001b[0mupdate\u001b[0m\u001b[1;33m(\u001b[0m\u001b[1;33m{\u001b[0m\u001b[0mk\u001b[0m\u001b[1;33m:\u001b[0m \u001b[0marg\u001b[0m \u001b[1;32mfor\u001b[0m \u001b[0mk\u001b[0m\u001b[1;33m,\u001b[0m \u001b[0marg\u001b[0m \u001b[1;32min\u001b[0m \u001b[0mzip\u001b[0m\u001b[1;33m(\u001b[0m\u001b[0msig\u001b[0m\u001b[1;33m.\u001b[0m\u001b[0mparameters\u001b[0m\u001b[1;33m,\u001b[0m \u001b[0margs\u001b[0m\u001b[1;33m)\u001b[0m\u001b[1;33m}\u001b[0m\u001b[1;33m)\u001b[0m\u001b[1;33m\u001b[0m\u001b[1;33m\u001b[0m\u001b[0m\n\u001b[1;32m---> 46\u001b[1;33m         \u001b[1;32mreturn\u001b[0m \u001b[0mf\u001b[0m\u001b[1;33m(\u001b[0m\u001b[1;33m**\u001b[0m\u001b[0mkwargs\u001b[0m\u001b[1;33m)\u001b[0m\u001b[1;33m\u001b[0m\u001b[1;33m\u001b[0m\u001b[0m\n\u001b[0m\u001b[0;32m     47\u001b[0m     \u001b[1;32mreturn\u001b[0m \u001b[0minner_f\u001b[0m\u001b[1;33m\u001b[0m\u001b[1;33m\u001b[0m\u001b[0m\n\u001b[0;32m     48\u001b[0m \u001b[1;33m\u001b[0m\u001b[0m\n",
      "\u001b[1;32mC:\\ProgramData\\Anaconda3\\lib\\site-packages\\seaborn\\categorical.py\u001b[0m in \u001b[0;36mbarplot\u001b[1;34m(x, y, hue, data, order, hue_order, estimator, ci, n_boot, units, seed, orient, color, palette, saturation, errcolor, errwidth, capsize, dodge, ax, **kwargs)\u001b[0m\n\u001b[0;32m   3180\u001b[0m ):\n\u001b[0;32m   3181\u001b[0m \u001b[1;33m\u001b[0m\u001b[0m\n\u001b[1;32m-> 3182\u001b[1;33m     plotter = _BarPlotter(x, y, hue, data, order, hue_order,\n\u001b[0m\u001b[0;32m   3183\u001b[0m                           \u001b[0mestimator\u001b[0m\u001b[1;33m,\u001b[0m \u001b[0mci\u001b[0m\u001b[1;33m,\u001b[0m \u001b[0mn_boot\u001b[0m\u001b[1;33m,\u001b[0m \u001b[0munits\u001b[0m\u001b[1;33m,\u001b[0m \u001b[0mseed\u001b[0m\u001b[1;33m,\u001b[0m\u001b[1;33m\u001b[0m\u001b[1;33m\u001b[0m\u001b[0m\n\u001b[0;32m   3184\u001b[0m                           \u001b[0morient\u001b[0m\u001b[1;33m,\u001b[0m \u001b[0mcolor\u001b[0m\u001b[1;33m,\u001b[0m \u001b[0mpalette\u001b[0m\u001b[1;33m,\u001b[0m \u001b[0msaturation\u001b[0m\u001b[1;33m,\u001b[0m\u001b[1;33m\u001b[0m\u001b[1;33m\u001b[0m\u001b[0m\n",
      "\u001b[1;32mC:\\ProgramData\\Anaconda3\\lib\\site-packages\\seaborn\\categorical.py\u001b[0m in \u001b[0;36m__init__\u001b[1;34m(self, x, y, hue, data, order, hue_order, estimator, ci, n_boot, units, seed, orient, color, palette, saturation, errcolor, errwidth, capsize, dodge)\u001b[0m\n\u001b[0;32m   1582\u001b[0m                  errwidth, capsize, dodge):\n\u001b[0;32m   1583\u001b[0m         \u001b[1;34m\"\"\"Initialize the plotter.\"\"\"\u001b[0m\u001b[1;33m\u001b[0m\u001b[1;33m\u001b[0m\u001b[0m\n\u001b[1;32m-> 1584\u001b[1;33m         self.establish_variables(x, y, hue, data, orient,\n\u001b[0m\u001b[0;32m   1585\u001b[0m                                  order, hue_order, units)\n\u001b[0;32m   1586\u001b[0m         \u001b[0mself\u001b[0m\u001b[1;33m.\u001b[0m\u001b[0mestablish_colors\u001b[0m\u001b[1;33m(\u001b[0m\u001b[0mcolor\u001b[0m\u001b[1;33m,\u001b[0m \u001b[0mpalette\u001b[0m\u001b[1;33m,\u001b[0m \u001b[0msaturation\u001b[0m\u001b[1;33m)\u001b[0m\u001b[1;33m\u001b[0m\u001b[1;33m\u001b[0m\u001b[0m\n",
      "\u001b[1;32mC:\\ProgramData\\Anaconda3\\lib\\site-packages\\seaborn\\categorical.py\u001b[0m in \u001b[0;36mestablish_variables\u001b[1;34m(self, x, y, hue, data, orient, order, hue_order, units)\u001b[0m\n\u001b[0;32m    154\u001b[0m \u001b[1;33m\u001b[0m\u001b[0m\n\u001b[0;32m    155\u001b[0m             \u001b[1;31m# Figure out the plotting orientation\u001b[0m\u001b[1;33m\u001b[0m\u001b[1;33m\u001b[0m\u001b[0m\n\u001b[1;32m--> 156\u001b[1;33m             orient = infer_orient(\n\u001b[0m\u001b[0;32m    157\u001b[0m                 \u001b[0mx\u001b[0m\u001b[1;33m,\u001b[0m \u001b[0my\u001b[0m\u001b[1;33m,\u001b[0m \u001b[0morient\u001b[0m\u001b[1;33m,\u001b[0m \u001b[0mrequire_numeric\u001b[0m\u001b[1;33m=\u001b[0m\u001b[0mself\u001b[0m\u001b[1;33m.\u001b[0m\u001b[0mrequire_numeric\u001b[0m\u001b[1;33m\u001b[0m\u001b[1;33m\u001b[0m\u001b[0m\n\u001b[0;32m    158\u001b[0m             )\n",
      "\u001b[1;32mC:\\ProgramData\\Anaconda3\\lib\\site-packages\\seaborn\\_core.py\u001b[0m in \u001b[0;36minfer_orient\u001b[1;34m(x, y, orient, require_numeric)\u001b[0m\n\u001b[0;32m   1326\u001b[0m             \u001b[0mwarnings\u001b[0m\u001b[1;33m.\u001b[0m\u001b[0mwarn\u001b[0m\u001b[1;33m(\u001b[0m\u001b[0msingle_var_warning\u001b[0m\u001b[1;33m.\u001b[0m\u001b[0mformat\u001b[0m\u001b[1;33m(\u001b[0m\u001b[1;34m\"Vertical\"\u001b[0m\u001b[1;33m,\u001b[0m \u001b[1;34m\"x\"\u001b[0m\u001b[1;33m)\u001b[0m\u001b[1;33m)\u001b[0m\u001b[1;33m\u001b[0m\u001b[1;33m\u001b[0m\u001b[0m\n\u001b[0;32m   1327\u001b[0m         \u001b[1;32mif\u001b[0m \u001b[0mrequire_numeric\u001b[0m \u001b[1;32mand\u001b[0m \u001b[0mx_type\u001b[0m \u001b[1;33m!=\u001b[0m \u001b[1;34m\"numeric\"\u001b[0m\u001b[1;33m:\u001b[0m\u001b[1;33m\u001b[0m\u001b[1;33m\u001b[0m\u001b[0m\n\u001b[1;32m-> 1328\u001b[1;33m             \u001b[1;32mraise\u001b[0m \u001b[0mTypeError\u001b[0m\u001b[1;33m(\u001b[0m\u001b[0mnonnumeric_dv_error\u001b[0m\u001b[1;33m.\u001b[0m\u001b[0mformat\u001b[0m\u001b[1;33m(\u001b[0m\u001b[1;34m\"Horizontal\"\u001b[0m\u001b[1;33m,\u001b[0m \u001b[1;34m\"x\"\u001b[0m\u001b[1;33m)\u001b[0m\u001b[1;33m)\u001b[0m\u001b[1;33m\u001b[0m\u001b[1;33m\u001b[0m\u001b[0m\n\u001b[0m\u001b[0;32m   1329\u001b[0m         \u001b[1;32mreturn\u001b[0m \u001b[1;34m\"h\"\u001b[0m\u001b[1;33m\u001b[0m\u001b[1;33m\u001b[0m\u001b[0m\n\u001b[0;32m   1330\u001b[0m \u001b[1;33m\u001b[0m\u001b[0m\n",
      "\u001b[1;31mTypeError\u001b[0m: Horizontal orientation requires numeric `x` variable."
     ]
    }
   ],
   "source": [
    "sns.barplot(file_df_complete['camera_motion'])"
   ]
  },
  {
   "cell_type": "markdown",
   "id": "8e05da51",
   "metadata": {},
   "source": [
    "## Video details exploration"
   ]
  },
  {
   "cell_type": "code",
   "execution_count": 16,
   "id": "4974408d",
   "metadata": {
    "ExecuteTime": {
     "end_time": "2022-08-02T14:01:35.708345Z",
     "start_time": "2022-08-02T14:01:33.281009Z"
    }
   },
   "outputs": [
    {
     "name": "stdout",
     "output_type": "stream",
     "text": [
      "hub://activeloop/hmdb51-train loaded successfully.\n",
      "This dataset can be visualized in Jupyter Notebook by ds.visualize() or at https://app.activeloop.ai/activeloop/hmdb51-train\n"
     ]
    },
    {
     "data": {
      "text/plain": [
       "Dataset(path='hub://activeloop/hmdb51-train', read_only=True, tensors=['visible_body_parts', 'camera_motion', 'camera_viewpoint', 'number_of_people', 'video_quality', 'labels', 'videos'])"
      ]
     },
     "execution_count": 16,
     "metadata": {},
     "output_type": "execute_result"
    }
   ],
   "source": [
    "hmdb51_train = hub.load(\"hub://activeloop/hmdb51-train\")\n",
    "#hmdb51_test = hub.load(\"hub://activeloop/hmdb51-test\")\n",
    "hmdb51_train"
   ]
  },
  {
   "cell_type": "code",
   "execution_count": 29,
   "id": "72f82398",
   "metadata": {
    "ExecuteTime": {
     "end_time": "2022-08-02T15:28:36.546227Z",
     "start_time": "2022-08-02T15:28:36.528025Z"
    }
   },
   "outputs": [],
   "source": [
    "#!pip install torchvision"
   ]
  },
  {
   "cell_type": "code",
   "execution_count": 25,
   "id": "3a689851",
   "metadata": {
    "ExecuteTime": {
     "end_time": "2022-08-02T15:19:50.288955Z",
     "start_time": "2022-08-02T15:19:49.477601Z"
    }
   },
   "outputs": [],
   "source": [
    "import torch\n",
    "import torch.nn as nn\n",
    "from torch.nn import functional as F\n",
    "from torch.utils.data import random_split, DataLoader\n",
    "from torch.optim.lr_scheduler import StepLR\n",
    "import torchvision\n",
    "from torchvision import get_video_backend\n",
    "from torchvision.models.video import r3d_18 \n",
    "from torchvision import transforms"
   ]
  },
  {
   "cell_type": "code",
   "execution_count": 28,
   "id": "b8a5c2c1",
   "metadata": {
    "ExecuteTime": {
     "end_time": "2022-08-02T15:23:17.239752Z",
     "start_time": "2022-08-02T15:23:17.181928Z"
    }
   },
   "outputs": [
    {
     "ename": "TypeError",
     "evalue": "__init__() missing 3 required positional arguments: 'root', 'annotation_path', and 'frames_per_clip'",
     "output_type": "error",
     "traceback": [
      "\u001b[1;31m---------------------------------------------------------------------------\u001b[0m",
      "\u001b[1;31mTypeError\u001b[0m                                 Traceback (most recent call last)",
      "\u001b[1;32m~\\AppData\\Local\\Temp/ipykernel_18248/1381628456.py\u001b[0m in \u001b[0;36m<module>\u001b[1;34m\u001b[0m\n\u001b[1;32m----> 1\u001b[1;33m \u001b[0mhmdb51_training\u001b[0m \u001b[1;33m=\u001b[0m \u001b[0mtorchvision\u001b[0m\u001b[1;33m.\u001b[0m\u001b[0mdatasets\u001b[0m\u001b[1;33m.\u001b[0m\u001b[0mHMDB51\u001b[0m\u001b[1;33m(\u001b[0m\u001b[1;33m)\u001b[0m\u001b[1;33m\u001b[0m\u001b[1;33m\u001b[0m\u001b[0m\n\u001b[0m\u001b[0;32m      2\u001b[0m \u001b[0mbatch_size\u001b[0m\u001b[1;33m=\u001b[0m\u001b[1;36m32\u001b[0m\u001b[1;33m\u001b[0m\u001b[1;33m\u001b[0m\u001b[0m\n\u001b[0;32m      3\u001b[0m \u001b[0mdata_loader\u001b[0m \u001b[1;33m=\u001b[0m \u001b[0mDataLoader\u001b[0m\u001b[1;33m(\u001b[0m\u001b[0mhmdb51_training\u001b[0m\u001b[1;33m,\u001b[0m \u001b[0mbatch_size\u001b[0m\u001b[1;33m=\u001b[0m\u001b[0mbatch_size\u001b[0m\u001b[1;33m,\u001b[0m \u001b[0mshuffle\u001b[0m\u001b[1;33m=\u001b[0m\u001b[1;32mTrue\u001b[0m\u001b[1;33m,\u001b[0m \u001b[1;33m**\u001b[0m\u001b[0mkwargs\u001b[0m\u001b[1;33m)\u001b[0m\u001b[1;33m\u001b[0m\u001b[1;33m\u001b[0m\u001b[0m\n",
      "\u001b[1;31mTypeError\u001b[0m: __init__() missing 3 required positional arguments: 'root', 'annotation_path', and 'frames_per_clip'"
     ]
    }
   ],
   "source": [
    "hmdb51_training = torchvision.datasets.HMDB51('video_data/', 'test_train_splits/', num_frames,\n",
    "                                                step_between_clips = clip_steps, fold=1, train=True,\n",
    "                                                transform=data, num_workers=num_workers)\n",
    "batch_size=32\n",
    "data_loader = DataLoader(hmdb51_training, batch_size=batch_size, shuffle=True, **kwargs)"
   ]
  }
 ],
 "metadata": {
  "kernelspec": {
   "display_name": "Python 3 (ipykernel)",
   "language": "python",
   "name": "python3"
  },
  "language_info": {
   "codemirror_mode": {
    "name": "ipython",
    "version": 3
   },
   "file_extension": ".py",
   "mimetype": "text/x-python",
   "name": "python",
   "nbconvert_exporter": "python",
   "pygments_lexer": "ipython3",
   "version": "3.9.7"
  },
  "toc": {
   "base_numbering": 1,
   "nav_menu": {},
   "number_sections": true,
   "sideBar": true,
   "skip_h1_title": false,
   "title_cell": "Table of Contents",
   "title_sidebar": "Contents",
   "toc_cell": false,
   "toc_position": {},
   "toc_section_display": true,
   "toc_window_display": false
  }
 },
 "nbformat": 4,
 "nbformat_minor": 5
}
